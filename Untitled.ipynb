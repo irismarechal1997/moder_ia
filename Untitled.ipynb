{
 "cells": [
  {
   "cell_type": "code",
   "execution_count": 10,
   "id": "75eca928-5da5-489d-83ef-6a72ea6aea16",
   "metadata": {},
   "outputs": [],
   "source": [
    "import tensorflow as tf\n",
    "from transformers import TFBertForSequenceClassification,BertConfig"
   ]
  },
  {
   "cell_type": "code",
   "execution_count": null,
   "id": "f75a81a6-39da-44d9-b82e-f011f8e43fc0",
   "metadata": {},
   "outputs": [],
   "source": []
  },
  {
   "cell_type": "code",
   "execution_count": 11,
   "id": "ea01e80c-48b8-4ec0-ad23-07a52fd6af42",
   "metadata": {},
   "outputs": [],
   "source": [
    "config = BertConfig.from_pretrained('prajjwal1/bert-mini')\n",
    "model = TFBertForSequenceClassification(config=config)\n"
   ]
  },
  {
   "cell_type": "code",
   "execution_count": 18,
   "id": "8b8700dd-139b-4a37-a8e1-7663a28ff139",
   "metadata": {},
   "outputs": [],
   "source": [
    "model.build()"
   ]
  },
  {
   "cell_type": "code",
   "execution_count": 19,
   "id": "42ed1e85-cae8-4f8c-a5e8-2e83a18a3215",
   "metadata": {},
   "outputs": [],
   "source": [
    "model.load_weights(\"weights-bert.h5\")"
   ]
  },
  {
   "cell_type": "code",
   "execution_count": 20,
   "id": "fb08f62f-2d45-4667-afb4-20f75dfaab21",
   "metadata": {},
   "outputs": [
    {
     "name": "stdout",
     "output_type": "stream",
     "text": [
      "Model: \"tf_bert_for_sequence_classification\"\n",
      "_________________________________________________________________\n",
      " Layer (type)                Output Shape              Param #   \n",
      "=================================================================\n",
      " bert (TFBertMainLayer)      multiple                  11170560  \n",
      "                                                                 \n",
      " dropout_13 (Dropout)        multiple                  0         \n",
      "                                                                 \n",
      " classifier (Dense)          multiple                  514       \n",
      "                                                                 \n",
      "=================================================================\n",
      "Total params: 11171074 (42.61 MB)\n",
      "Trainable params: 11171074 (42.61 MB)\n",
      "Non-trainable params: 0 (0.00 Byte)\n",
      "_________________________________________________________________\n"
     ]
    }
   ],
   "source": [
    "model.summary()"
   ]
  },
  {
   "cell_type": "code",
   "execution_count": null,
   "id": "6856e753-936a-41e8-b855-75540e9a55f1",
   "metadata": {},
   "outputs": [],
   "source": []
  }
 ],
 "metadata": {
  "kernelspec": {
   "display_name": "Python 3 (ipykernel)",
   "language": "python",
   "name": "python3"
  },
  "language_info": {
   "codemirror_mode": {
    "name": "ipython",
    "version": 3
   },
   "file_extension": ".py",
   "mimetype": "text/x-python",
   "name": "python",
   "nbconvert_exporter": "python",
   "pygments_lexer": "ipython3",
   "version": "3.10.6"
  }
 },
 "nbformat": 4,
 "nbformat_minor": 5
}
