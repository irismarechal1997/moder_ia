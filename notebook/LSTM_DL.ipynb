{
 "cells": [
  {
   "cell_type": "code",
   "execution_count": 1,
   "id": "88a7caa8",
   "metadata": {
    "scrolled": true
   },
   "outputs": [
    {
     "name": "stderr",
     "output_type": "stream",
     "text": [
      "2023-09-13 11:20:15.342539: I tensorflow/core/platform/cpu_feature_guard.cc:193] This TensorFlow binary is optimized with oneAPI Deep Neural Network Library (oneDNN) to use the following CPU instructions in performance-critical operations:  AVX2 AVX512F AVX512_VNNI FMA\n",
      "To enable them in other operations, rebuild TensorFlow with the appropriate compiler flags.\n",
      "2023-09-13 11:20:15.421633: I tensorflow/core/util/util.cc:169] oneDNN custom operations are on. You may see slightly different numerical results due to floating-point round-off errors from different computation orders. To turn them off, set the environment variable `TF_ENABLE_ONEDNN_OPTS=0`.\n",
      "2023-09-13 11:20:15.424746: W tensorflow/stream_executor/platform/default/dso_loader.cc:64] Could not load dynamic library 'libcudart.so.11.0'; dlerror: libcudart.so.11.0: cannot open shared object file: No such file or directory\n",
      "2023-09-13 11:20:15.424755: I tensorflow/stream_executor/cuda/cudart_stub.cc:29] Ignore above cudart dlerror if you do not have a GPU set up on your machine.\n",
      "2023-09-13 11:20:15.441610: E tensorflow/stream_executor/cuda/cuda_blas.cc:2981] Unable to register cuBLAS factory: Attempting to register factory for plugin cuBLAS when one has already been registered\n",
      "2023-09-13 11:20:15.871002: W tensorflow/stream_executor/platform/default/dso_loader.cc:64] Could not load dynamic library 'libnvinfer.so.7'; dlerror: libnvinfer.so.7: cannot open shared object file: No such file or directory\n",
      "2023-09-13 11:20:15.871063: W tensorflow/stream_executor/platform/default/dso_loader.cc:64] Could not load dynamic library 'libnvinfer_plugin.so.7'; dlerror: libnvinfer_plugin.so.7: cannot open shared object file: No such file or directory\n",
      "2023-09-13 11:20:15.871068: W tensorflow/compiler/tf2tensorrt/utils/py_utils.cc:38] TF-TRT Warning: Cannot dlopen some TensorRT libraries. If you would like to use Nvidia GPU with TensorRT, please make sure the missing libraries mentioned above are installed properly.\n"
     ]
    }
   ],
   "source": [
    "import pandas as pd \n",
    "import numpy as np\n",
    "import tensorflow as tf\n",
    "import keras\n",
    "from keras.utils import pad_sequences\n",
    "from keras.preprocessing.text import Tokenizer\n",
    "import tensorflow_datasets as tfds\n",
    "from keras_preprocessing.text import text_to_word_sequence\n",
    "from sklearn.model_selection import train_test_split"
   ]
  },
  {
   "cell_type": "code",
   "execution_count": 2,
   "id": "0159ce28",
   "metadata": {},
   "outputs": [],
   "source": [
    "data_processed = pd.read_csv(\"/home/luades/code/irismarechal1997/moder_ia/data/processed_dataset_v1.csv\")\n",
    "\n",
    "# if processed :\n",
    "X = data_processed[\"text\"]\n",
    "y = data_processed[\"offensive\"]\n",
    "X_train, X_test, y_train, y_test = train_test_split(X, y, test_size=0.25, random_state=3)\n",
    "# else : \n",
    "#     X = X_proc\n",
    "#     y = data_processed[\"offensive\"]\n",
    "#     X_train, X_test, y_train, y_test = train_test_split(X, y, test_size=0.25, random_state=3)"
   ]
  },
  {
   "cell_type": "code",
   "execution_count": 3,
   "id": "c742685d",
   "metadata": {},
   "outputs": [
    {
     "data": {
      "text/plain": [
       "75225    1\n",
       "18048    1\n",
       "16710    1\n",
       "32625    0\n",
       "87227    1\n",
       "        ..\n",
       "48056    1\n",
       "59011    0\n",
       "77049    0\n",
       "67224    0\n",
       "71530    1\n",
       "Name: offensive, Length: 77533, dtype: int64"
      ]
     },
     "execution_count": 3,
     "metadata": {},
     "output_type": "execute_result"
    }
   ],
   "source": [
    "y_train"
   ]
  },
  {
   "cell_type": "code",
   "execution_count": 4,
   "id": "673cc0ac",
   "metadata": {},
   "outputs": [
    {
     "name": "stdout",
     "output_type": "stream",
     "text": [
      "There are 58592 different words in your corpus\n"
     ]
    }
   ],
   "source": [
    "### Let's tokenize the vocabulary\n",
    "tk = Tokenizer()\n",
    "tk.fit_on_texts(X_train)\n",
    "vocab_size = len(tk.word_index)\n",
    "\n",
    "print(f'There are {vocab_size} different words in your corpus')"
   ]
  },
  {
   "cell_type": "code",
   "execution_count": 5,
   "id": "f499dcd2",
   "metadata": {},
   "outputs": [],
   "source": [
    "# We apply the tokenization to the train and test set\n",
    "X_train_token = tk.texts_to_sequences(X_train)\n",
    "X_test_token = tk.texts_to_sequences(X_test)\n",
    "\n",
    "X_train_pad = pad_sequences(X_train_token, dtype='float32', padding='post')\n",
    "X_test_pad = pad_sequences(X_test_token, dtype='float32', padding='post')"
   ]
  },
  {
   "cell_type": "code",
   "execution_count": 6,
   "id": "0551d622",
   "metadata": {},
   "outputs": [
    {
     "data": {
      "text/plain": [
       "402"
      ]
     },
     "execution_count": 6,
     "metadata": {},
     "output_type": "execute_result"
    }
   ],
   "source": [
    "len(X_train_pad[0])"
   ]
  },
  {
   "cell_type": "code",
   "execution_count": 7,
   "id": "33bbc1ef",
   "metadata": {},
   "outputs": [
    {
     "data": {
      "text/plain": [
       "((77533, 402), (77533,))"
      ]
     },
     "execution_count": 7,
     "metadata": {},
     "output_type": "execute_result"
    }
   ],
   "source": [
    "X_train_pad.shape, y_train.shape"
   ]
  },
  {
   "cell_type": "code",
   "execution_count": 11,
   "id": "5e2a6f4e",
   "metadata": {},
   "outputs": [
    {
     "name": "stdout",
     "output_type": "stream",
     "text": [
      "Model: \"sequential_1\"\n",
      "_________________________________________________________________\n",
      " Layer (type)                Output Shape              Param #   \n",
      "=================================================================\n",
      " embedding_1 (Embedding)     (None, None, 50)          2929650   \n",
      "                                                                 \n",
      " lstm_2 (LSTM)               (None, None, 20)          5680      \n",
      "                                                                 \n",
      " lstm_3 (LSTM)               (None, 20)                3280      \n",
      "                                                                 \n",
      " dense_1 (Dense)             (None, 1)                 21        \n",
      "                                                                 \n",
      "=================================================================\n",
      "Total params: 2,938,631\n",
      "Trainable params: 2,938,631\n",
      "Non-trainable params: 0\n",
      "_________________________________________________________________\n"
     ]
    }
   ],
   "source": [
    "### Let's build the neural network now\n",
    "from tensorflow.keras import layers, Sequential\n",
    "\n",
    "# Size of your embedding space = size of the vector representing each word\n",
    "embedding_size = 50\n",
    "\n",
    "model = Sequential()\n",
    "model.add(layers.Embedding(\n",
    "    input_dim=vocab_size+1, # size of the input, impacting the number of weights in the linear combinations of the neurons of the first layer\n",
    "    output_dim=embedding_size, # 100\n",
    "    mask_zero=True, # Built-in masking layer\n",
    "))\n",
    "\n",
    "model.add(layers.LSTM(20, return_sequences=True, activation=\"tanh\"))\n",
    "model.add(layers.LSTM(20, activation=\"tanh\"))\n",
    "model.add(layers.Dense(1, activation=\"sigmoid\"))\n",
    "model.summary()"
   ]
  },
  {
   "cell_type": "code",
   "execution_count": 12,
   "id": "7743ee94",
   "metadata": {},
   "outputs": [],
   "source": [
    "model.compile(loss='binary_crossentropy',\n",
    "              optimizer='rmsprop',\n",
    "              metrics=['accuracy'])"
   ]
  },
  {
   "cell_type": "code",
   "execution_count": 14,
   "id": "905530f2",
   "metadata": {},
   "outputs": [
    {
     "name": "stdout",
     "output_type": "stream",
     "text": [
      "Epoch 1/5\n",
      "606/606 [==============================] - ETA: 0s - loss: 0.4836 - accuracy: 0.7568WARNING:tensorflow:Early stopping conditioned on metric `val_loss` which is not available. Available metrics are: loss,accuracy\n",
      "606/606 [==============================] - 306s 505ms/step - loss: 0.4836 - accuracy: 0.7568\n",
      "Epoch 2/5\n",
      "606/606 [==============================] - ETA: 0s - loss: 0.4421 - accuracy: 0.7842WARNING:tensorflow:Early stopping conditioned on metric `val_loss` which is not available. Available metrics are: loss,accuracy\n",
      "606/606 [==============================] - 401s 662ms/step - loss: 0.4421 - accuracy: 0.7842\n",
      "Epoch 3/5\n",
      "606/606 [==============================] - ETA: 0s - loss: 0.4126 - accuracy: 0.8040WARNING:tensorflow:Early stopping conditioned on metric `val_loss` which is not available. Available metrics are: loss,accuracy\n",
      "606/606 [==============================] - 368s 608ms/step - loss: 0.4126 - accuracy: 0.8040\n",
      "Epoch 4/5\n",
      "606/606 [==============================] - ETA: 0s - loss: 0.3875 - accuracy: 0.8190WARNING:tensorflow:Early stopping conditioned on metric `val_loss` which is not available. Available metrics are: loss,accuracy\n",
      "606/606 [==============================] - 431s 712ms/step - loss: 0.3875 - accuracy: 0.8190\n",
      "Epoch 5/5\n",
      "606/606 [==============================] - ETA: 0s - loss: 0.3647 - accuracy: 0.8327WARNING:tensorflow:Early stopping conditioned on metric `val_loss` which is not available. Available metrics are: loss,accuracy\n",
      "606/606 [==============================] - 415s 684ms/step - loss: 0.3647 - accuracy: 0.8327\n"
     ]
    },
    {
     "data": {
      "text/plain": [
       "<keras.callbacks.History at 0x7f5fde872290>"
      ]
     },
     "execution_count": 14,
     "metadata": {},
     "output_type": "execute_result"
    }
   ],
   "source": [
    "from tensorflow.keras.callbacks import EarlyStopping\n",
    "\n",
    "es = EarlyStopping(patience=4, restore_best_weights=True)\n",
    "\n",
    "model.fit(X_train_pad, y_train, \n",
    "          epochs=5, \n",
    "          batch_size=128,\n",
    "          callbacks=[es]\n",
    "         )"
   ]
  },
  {
   "cell_type": "code",
   "execution_count": 25,
   "id": "f037ddf8",
   "metadata": {},
   "outputs": [
    {
     "name": "stdout",
     "output_type": "stream",
     "text": [
      "808/808 [==============================] - 103s 128ms/step - loss: 0.5172 - accuracy: 0.7478\n"
     ]
    },
    {
     "data": {
      "text/plain": [
       "[0.5171667337417603, 0.7478042244911194]"
      ]
     },
     "execution_count": 25,
     "metadata": {},
     "output_type": "execute_result"
    }
   ],
   "source": [
    "model.evaluate(X_test_pad, y_test)"
   ]
  },
  {
   "cell_type": "code",
   "execution_count": null,
   "id": "55e012f3",
   "metadata": {},
   "outputs": [],
   "source": [
    "model.predict(scaler.transform(X_test))"
   ]
  },
  {
   "cell_type": "code",
   "execution_count": 29,
   "id": "0e3617a2",
   "metadata": {},
   "outputs": [
    {
     "name": "stdout",
     "output_type": "stream",
     "text": [
      "Model: \"sequential_2\"\n",
      "_________________________________________________________________\n",
      " Layer (type)                Output Shape              Param #   \n",
      "=================================================================\n",
      " embedding_2 (Embedding)     (None, None, 50)          2929650   \n",
      "                                                                 \n",
      " gru (GRU)                   (None, None, 20)          4320      \n",
      "                                                                 \n",
      " gru_1 (GRU)                 (None, 20)                2520      \n",
      "                                                                 \n",
      " dense_2 (Dense)             (None, 1)                 21        \n",
      "                                                                 \n",
      "=================================================================\n",
      "Total params: 2,936,511\n",
      "Trainable params: 2,936,511\n",
      "Non-trainable params: 0\n",
      "_________________________________________________________________\n",
      "Epoch 1/5\n",
      "606/606 [==============================] - ETA: 0s - loss: 0.5448 - accuracy: 0.7047WARNING:tensorflow:Early stopping conditioned on metric `val_loss` which is not available. Available metrics are: loss,accuracy\n",
      "606/606 [==============================] - 345s 559ms/step - loss: 0.5448 - accuracy: 0.7047\n",
      "Epoch 2/5\n",
      "606/606 [==============================] - ETA: 0s - loss: 0.4763 - accuracy: 0.7673WARNING:tensorflow:Early stopping conditioned on metric `val_loss` which is not available. Available metrics are: loss,accuracy\n",
      "606/606 [==============================] - 415s 685ms/step - loss: 0.4763 - accuracy: 0.7673\n",
      "Epoch 3/5\n",
      "606/606 [==============================] - ETA: 0s - loss: 0.4448 - accuracy: 0.7882WARNING:tensorflow:Early stopping conditioned on metric `val_loss` which is not available. Available metrics are: loss,accuracy\n",
      "606/606 [==============================] - 435s 719ms/step - loss: 0.4448 - accuracy: 0.7882\n",
      "Epoch 4/5\n",
      "606/606 [==============================] - ETA: 0s - loss: 0.4215 - accuracy: 0.8020WARNING:tensorflow:Early stopping conditioned on metric `val_loss` which is not available. Available metrics are: loss,accuracy\n",
      "606/606 [==============================] - 408s 673ms/step - loss: 0.4215 - accuracy: 0.8020\n",
      "Epoch 5/5\n",
      "606/606 [==============================] - ETA: 0s - loss: 0.4008 - accuracy: 0.8148WARNING:tensorflow:Early stopping conditioned on metric `val_loss` which is not available. Available metrics are: loss,accuracy\n",
      "606/606 [==============================] - 437s 721ms/step - loss: 0.4008 - accuracy: 0.8148\n",
      "808/808 [==============================] - 59s 71ms/step - loss: 0.5223 - accuracy: 0.7395\n",
      "[0.5222697257995605, 0.7395240664482117]\n"
     ]
    },
    {
     "data": {
      "text/plain": [
       "<keras.engine.sequential.Sequential at 0x7f5fde8736a0>"
      ]
     },
     "execution_count": 29,
     "metadata": {},
     "output_type": "execute_result"
    }
   ],
   "source": [
    "def GRU_model(data_processed):\n",
    "\n",
    "#     if processed :\n",
    "    X = data_processed[\"text\"]\n",
    "    y = data_processed[\"offensive\"]\n",
    "    X_train, X_test, y_train, y_test = train_test_split(X, y, test_size=0.25, random_state=3)\n",
    "#     else :\n",
    "#         X = data_processed[\"text_processed\"]\n",
    "#         y = data_processed[\"offensive\"]\n",
    "#         X_train, X_test, y_train, y_test = train_test_split(X, y, test_size=0.25, random_state=3)\n",
    "\n",
    "    ### Let's tokenize the vocabulary\n",
    "    tk = Tokenizer()\n",
    "    tk.fit_on_texts(X_train)\n",
    "    vocab_size = len(tk.word_index)\n",
    "\n",
    "    # We apply the tokenization to the train and test set\n",
    "    X_train_token = tk.texts_to_sequences(X_train)\n",
    "    X_test_token = tk.texts_to_sequences(X_test)\n",
    "\n",
    "    X_train_pad = pad_sequences(X_train_token, dtype='float32', padding='post')\n",
    "    X_test_pad = pad_sequences(X_test_token, dtype='float32', padding='post')\n",
    "\n",
    "    ### Let's build the neural network now\n",
    "\n",
    "\n",
    "    # Size of your embedding space = size of the vector representing each word\n",
    "    embedding_size = 50\n",
    "\n",
    "    model = Sequential()\n",
    "    model.add(layers.Embedding(\n",
    "        input_dim=vocab_size+1, # size of the input, impacting the number of weights in the linear combinations of the neurons of the first layer\n",
    "        output_dim=embedding_size, # 100\n",
    "        mask_zero=True, # Built-in masking layer\n",
    "    ))\n",
    "\n",
    "    model.add(layers.GRU(20, return_sequences=True, activation=\"tanh\"))\n",
    "    model.add(layers.GRU(20, activation=\"tanh\"))\n",
    "    model.add(layers.Dense(1, activation=\"sigmoid\"))\n",
    "    model.summary()\n",
    "\n",
    "    model.compile(loss='binary_crossentropy',\n",
    "                optimizer='rmsprop',\n",
    "                metrics=['accuracy'])\n",
    "\n",
    "\n",
    "    es = EarlyStopping(patience=4, restore_best_weights=True)\n",
    "\n",
    "    model.fit(X_train_pad, y_train,\n",
    "            epochs=5,\n",
    "            batch_size=128,\n",
    "            callbacks=[es]\n",
    "            )\n",
    "\n",
    "    print(model.evaluate(X_test_pad, y_test))\n",
    "    \n",
    "    return model\n",
    "\n",
    "GRU_model(data_processed)"
   ]
  },
  {
   "cell_type": "code",
   "execution_count": null,
   "id": "3de75922",
   "metadata": {},
   "outputs": [],
   "source": []
  },
  {
   "cell_type": "code",
   "execution_count": 34,
   "id": "9b3d974b",
   "metadata": {},
   "outputs": [
    {
     "name": "stdout",
     "output_type": "stream",
     "text": [
      "Model: \"sequential_7\"\n",
      "_________________________________________________________________\n",
      " Layer (type)                Output Shape              Param #   \n",
      "=================================================================\n",
      " embedding_7 (Embedding)     (None, None, 50)          2929650   \n",
      "                                                                 \n",
      " conv1d_2 (Conv1D)           (None, None, 1)           1001      \n",
      "                                                                 \n",
      " conv1d_3 (Conv1D)           (None, None, 1)           21        \n",
      "                                                                 \n",
      " dense_5 (Dense)             (None, None, 1)           2         \n",
      "                                                                 \n",
      "=================================================================\n",
      "Total params: 2,930,674\n",
      "Trainable params: 2,930,674\n",
      "Non-trainable params: 0\n",
      "_________________________________________________________________\n",
      "606/606 [==============================] - ETA: 0s - loss: 0.6676 - accuracy: 0.6127WARNING:tensorflow:Early stopping conditioned on metric `val_loss` which is not available. Available metrics are: loss,accuracy\n",
      "606/606 [==============================] - 76s 124ms/step - loss: 0.6676 - accuracy: 0.6127\n",
      "808/808 [==============================] - 5s 6ms/step - loss: 0.6675 - accuracy: 0.6118\n",
      "[0.667508602142334, 0.6117612719535828]\n"
     ]
    },
    {
     "data": {
      "text/plain": [
       "<keras.engine.sequential.Sequential at 0x7f5ffd603e80>"
      ]
     },
     "execution_count": 34,
     "metadata": {},
     "output_type": "execute_result"
    }
   ],
   "source": [
    "def Conv1D_model(data_processed):\n",
    "\n",
    "#     if processed :\n",
    "    X = data_processed[\"text\"]\n",
    "    y = data_processed[\"offensive\"]\n",
    "    X_train, X_test, y_train, y_test = train_test_split(X, y, test_size=0.25, random_state=3)\n",
    "#     else :\n",
    "#         X = data_processed[\"text_processed\"]\n",
    "#         y = data_processed[\"offensive\"]\n",
    "#         X_train, X_test, y_train, y_test = train_test_split(X, y, test_size=0.25, random_state=3)\n",
    "\n",
    "    ### Let's tokenize the vocabulary\n",
    "    tk = Tokenizer()\n",
    "    tk.fit_on_texts(X_train)\n",
    "    vocab_size = len(tk.word_index)\n",
    "\n",
    "    # We apply the tokenization to the train and test set\n",
    "    X_train_token = tk.texts_to_sequences(X_train)\n",
    "    X_test_token = tk.texts_to_sequences(X_test)\n",
    "\n",
    "    X_train_pad = pad_sequences(X_train_token, dtype='float32', padding='post')\n",
    "    X_test_pad = pad_sequences(X_test_token, dtype='float32', padding='post')\n",
    "\n",
    "    ### Let's build the neural network now\n",
    "\n",
    "\n",
    "    # Size of your embedding space = size of the vector representing each word\n",
    "    embedding_size = 50\n",
    "\n",
    "    model = Sequential()\n",
    "    model.add(layers.Embedding(\n",
    "        input_dim=vocab_size+1, # size of the input, impacting the number of weights in the linear combinations of the neurons of the first layer\n",
    "        output_dim=embedding_size, # 100\n",
    "        mask_zero=True, # Built-in masking layer\n",
    "    ))\n",
    "\n",
    "    model.add(layers.Conv1D(1, 20, activation=\"tanh\"))\n",
    "    model.add(layers.Conv1D(1, 20,activation=\"tanh\"))\n",
    "    model.add(layers.Dense(1, activation=\"sigmoid\"))\n",
    "    model.summary()\n",
    "\n",
    "    model.compile(loss='binary_crossentropy',\n",
    "                optimizer='rmsprop',\n",
    "                metrics=['accuracy'])\n",
    "\n",
    "\n",
    "    es = EarlyStopping(patience=4, restore_best_weights=True)\n",
    "\n",
    "    model.fit(X_train_pad, y_train,\n",
    "            epochs=1,\n",
    "            batch_size=128,\n",
    "            callbacks=[es]\n",
    "            )\n",
    "\n",
    "    print(model.evaluate(X_test_pad, y_test))\n",
    "    \n",
    "    return model\n",
    "\n",
    "Conv1D_model(data_processed)"
   ]
  }
 ],
 "metadata": {
  "kernelspec": {
   "display_name": "Python 3 (ipykernel)",
   "language": "python",
   "name": "python3"
  },
  "language_info": {
   "codemirror_mode": {
    "name": "ipython",
    "version": 3
   },
   "file_extension": ".py",
   "mimetype": "text/x-python",
   "name": "python",
   "nbconvert_exporter": "python",
   "pygments_lexer": "ipython3",
   "version": "3.10.6"
  },
  "toc": {
   "base_numbering": 1,
   "nav_menu": {},
   "number_sections": true,
   "sideBar": true,
   "skip_h1_title": false,
   "title_cell": "Table of Contents",
   "title_sidebar": "Contents",
   "toc_cell": false,
   "toc_position": {},
   "toc_section_display": true,
   "toc_window_display": false
  }
 },
 "nbformat": 4,
 "nbformat_minor": 5
}
