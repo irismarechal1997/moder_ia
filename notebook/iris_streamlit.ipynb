{
 "cells": [
  {
   "cell_type": "code",
   "execution_count": 2,
   "id": "f90ffff8-8e8c-4514-ab1d-0d5582871252",
   "metadata": {},
   "outputs": [],
   "source": [
    "import streamlit as st #pip install streamlit\n",
    "import numpy as np\n",
    "import pandas as pd"
   ]
  },
  {
   "cell_type": "code",
   "execution_count": 5,
   "id": "6e1255ed-c511-44a6-bb8f-b3e067713b9f",
   "metadata": {},
   "outputs": [
    {
     "data": {
      "text/plain": [
       "DeltaGenerator()"
      ]
     },
     "execution_count": 5,
     "metadata": {},
     "output_type": "execute_result"
    }
   ],
   "source": [
    "st.markdown(\n",
    "    \"\"\"\n",
    "    <style>\n",
    "    body {\n",
    "        background-color: #f0f5f5;\n",
    "    }\n",
    "    </style>\n",
    "    \"\"\",\n",
    "    unsafe_allow_html=True\n",
    ")"
   ]
  },
  {
   "cell_type": "code",
   "execution_count": 4,
   "id": "6593a4d8-fd0a-44fb-a613-21aaf8af65b2",
   "metadata": {
    "scrolled": true
   },
   "outputs": [],
   "source": [
    "# Set the background color to light blue\n",
    "st.markdown(\n",
    "    \"\"\"\n",
    "    <style>\n",
    "    body {\n",
    "        background-color: #f0f5f5;\n",
    "    }\n",
    "    </style>\n",
    "    \"\"\",\n",
    "    unsafe_allow_html=True\n",
    ")\n",
    "\n",
    "# Add a title to the page\n",
    "st.title(\"Fighting against online hate speech\")\n",
    "\n",
    "# Add a text input field for entering a tweet\n",
    "tweet = st.text_area(\"Write down your tweet\")\n",
    "\n",
    "# Display the entered tweet\n",
    "if tweet:\n",
    "    st.write(\"You entered:\")\n",
    "    st.write(tweet)\n",
    "\n"
   ]
  }
 ],
 "metadata": {
  "kernelspec": {
   "display_name": "Python 3 (ipykernel)",
   "language": "python",
   "name": "python3"
  },
  "language_info": {
   "codemirror_mode": {
    "name": "ipython",
    "version": 3
   },
   "file_extension": ".py",
   "mimetype": "text/x-python",
   "name": "python",
   "nbconvert_exporter": "python",
   "pygments_lexer": "ipython3",
   "version": "3.10.6"
  }
 },
 "nbformat": 4,
 "nbformat_minor": 5
}
