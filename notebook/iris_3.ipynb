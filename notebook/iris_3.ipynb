{
 "cells": [
  {
   "cell_type": "code",
<<<<<<< HEAD
   "execution_count": 2,
   "id": "41478016-dc11-4a91-b58d-77de2493a0b3",
   "metadata": {},
   "outputs": [
    {
     "name": "stderr",
     "output_type": "stream",
     "text": [
      "2023-09-18 13:57:50.777266: I tensorflow/core/platform/cpu_feature_guard.cc:182] This TensorFlow binary is optimized to use available CPU instructions in performance-critical operations.\n",
      "To enable the following instructions: AVX2 FMA, in other operations, rebuild TensorFlow with the appropriate compiler flags.\n"
     ]
    }
   ],
=======
   "execution_count": 149,
   "id": "41478016-dc11-4a91-b58d-77de2493a0b3",
   "metadata": {},
   "outputs": [],
>>>>>>> master
   "source": [
    "import pandas as pd \n",
    "from langdetect import detect\n",
    "import tensorflow as tf\n",
    "from transformers import BertConfig, AutoTokenizer, TFBertModel, BertTokenizer, TFBertForSequenceClassification, BertModel\n",
    "from sklearn.model_selection import train_test_split\n",
    "from sklearn.metrics import classification_report\n",
    "import numpy as np \n",
    "import seaborn as sns\n",
    "import matplotlib.pyplot as plt\n",
    "from sklearn.metrics import hamming_loss\n"
   ]
  },
  {
   "cell_type": "code",
<<<<<<< HEAD
   "execution_count": 3,
=======
   "execution_count": 2,
>>>>>>> master
   "id": "64ba17d1-0890-4acb-a936-80d1b20f2c53",
   "metadata": {},
   "outputs": [],
   "source": [
    "data=pd.read_csv('../raw_data/measuring_hate_speech.csv')\n"
   ]
  },
  {
   "cell_type": "code",
<<<<<<< HEAD
   "execution_count": 4,
=======
   "execution_count": 3,
>>>>>>> master
   "id": "310122db-fd1c-45fa-8e31-b948609c2efe",
   "metadata": {},
   "outputs": [],
   "source": [
    "word='annotator'\n",
    "columns_to_drop = [col for col in data.columns if word in col]\n",
    "data.drop(columns=columns_to_drop, inplace=True)"
   ]
  },
  {
   "cell_type": "code",
<<<<<<< HEAD
   "execution_count": 5,
=======
   "execution_count": 4,
>>>>>>> master
   "id": "6aeaa178-7e23-4901-9609-75cd91babd85",
   "metadata": {},
   "outputs": [
    {
     "data": {
      "text/plain": [
       "(135556, 71)"
      ]
     },
<<<<<<< HEAD
     "execution_count": 5,
=======
     "execution_count": 4,
>>>>>>> master
     "metadata": {},
     "output_type": "execute_result"
    }
   ],
   "source": [
    "data.shape"
   ]
  },
  {
   "cell_type": "code",
<<<<<<< HEAD
   "execution_count": 6,
=======
   "execution_count": 5,
>>>>>>> master
   "id": "214d2aa8-543a-40ea-9f99-8cd89d625154",
   "metadata": {},
   "outputs": [],
   "source": [
    "columns_to_exclude=['comment_id','platform','sentiment', 'respect', 'insult', 'humiliate', 'status', 'dehumanize',\n",
    "       'violence', 'genocide', 'attack_defend', 'hatespeech','infitms', 'outfitms', 'std_err',\n",
    "       'hypothesis']\n",
    "selected_columns=[col for col in data.columns if col not in columns_to_exclude]\n",
    "data_1=data[selected_columns]\n"
   ]
  },
  {
   "cell_type": "code",
<<<<<<< HEAD
   "execution_count": 7,
=======
   "execution_count": 6,
>>>>>>> master
   "id": "eea3085b-5435-4922-b114-c7c9d65678ae",
   "metadata": {},
   "outputs": [
    {
     "name": "stderr",
     "output_type": "stream",
     "text": [
<<<<<<< HEAD
      "/var/folders/r_/7c9slj0d4cq70zs43b75t3f80000gn/T/ipykernel_29560/1607479923.py:11: SettingWithCopyWarning: \n",
=======
      "/var/folders/r_/7c9slj0d4cq70zs43b75t3f80000gn/T/ipykernel_19612/1607479923.py:11: SettingWithCopyWarning: \n",
>>>>>>> master
      "A value is trying to be set on a copy of a slice from a DataFrame.\n",
      "Try using .loc[row_indexer,col_indexer] = value instead\n",
      "\n",
      "See the caveats in the documentation: https://pandas.pydata.org/pandas-docs/stable/user_guide/indexing.html#returning-a-view-versus-a-copy\n",
      "  data_1['target_gender_without_women'] = data_1[columns_to_sum].sum(axis=1)\n"
     ]
    }
   ],
   "source": [
    "# Extract column names with labels \"False\" and \"Right\"\n",
    "\n",
    "# Extract column names with labels \"False\" and \"Right\"\n",
    "columns_to_sum = ['target_gender_men',\n",
    "       'target_gender_non_binary','target_gender_transgender_men',\n",
    "       'target_gender_transgender_unspecified',\n",
    "       'target_gender_transgender_women',\n",
    "       'target_gender_other']\n",
    "\n",
    "# Sum the values in the selected columns\n",
    "data_1['target_gender_without_women'] = data_1[columns_to_sum].sum(axis=1)\n",
    "\n"
   ]
  },
  {
   "cell_type": "code",
<<<<<<< HEAD
   "execution_count": 8,
=======
   "execution_count": 7,
>>>>>>> master
   "id": "1a752269-21ad-41ef-93d4-67388121ee5d",
   "metadata": {},
   "outputs": [],
   "source": [
    "columns_of_interest = ['text','hate_speech_score','target_race', 'target_religion', 'target_origin', 'target_gender_women','target_gender_without_women','target_sexuality','target_age','target_disability']\n",
    "\n",
    "data_1=data_1[columns_of_interest] \n"
   ]
  },
  {
   "cell_type": "code",
<<<<<<< HEAD
   "execution_count": 9,
=======
   "execution_count": 8,
>>>>>>> master
   "id": "eb3aad7d-da95-46ca-80f0-6f6b8732ab7b",
   "metadata": {},
   "outputs": [
    {
     "data": {
      "text/plain": [
       "array([False,  True])"
      ]
     },
<<<<<<< HEAD
     "execution_count": 9,
=======
     "execution_count": 8,
>>>>>>> master
     "metadata": {},
     "output_type": "execute_result"
    }
   ],
   "source": [
    "\n",
    "\n",
    "data_1['target_gender_without_women']=data_1['target_gender_without_women'].replace(0,False)\n",
    "data_1['target_gender_without_women']=data_1['target_gender_without_women'].replace(1,True)\n",
    "data_1['target_gender_without_women']=data_1['target_gender_without_women'].replace(2,True)\n",
    "data_1['target_gender_without_women']=data_1['target_gender_without_women'].replace(3,True)\n",
    "data_1['target_gender_without_women']=data_1['target_gender_without_women'].replace(4,True)\n",
    "data_1['target_gender_without_women']=data_1['target_gender_without_women'].replace(5,True)\n",
    "data_1['target_gender_without_women']=data_1['target_gender_without_women'].replace(6,True)\n",
    "data_1['target_gender_without_women'].unique()\n"
   ]
  },
  {
   "cell_type": "code",
<<<<<<< HEAD
   "execution_count": 10,
=======
   "execution_count": 9,
>>>>>>> master
   "id": "d1eb404c-ec4b-4c5b-9450-bb95465aec32",
   "metadata": {},
   "outputs": [
    {
     "data": {
      "text/plain": [
       "array([ True, False])"
      ]
     },
<<<<<<< HEAD
     "execution_count": 10,
=======
     "execution_count": 9,
>>>>>>> master
     "metadata": {},
     "output_type": "execute_result"
    }
   ],
   "source": [
    "data_1['target_race'].unique()"
   ]
  },
  {
   "cell_type": "code",
<<<<<<< HEAD
   "execution_count": 11,
=======
   "execution_count": 10,
>>>>>>> master
   "id": "fb1cf80f-f1d9-4ecb-b621-f1e1dbab0d0f",
   "metadata": {},
   "outputs": [],
   "source": [
    "#data_1= data_1.astype(bool)\n",
    "#type(data_1['target_race'][0])"
   ]
  },
  {
   "cell_type": "code",
<<<<<<< HEAD
   "execution_count": 12,
=======
   "execution_count": 11,
>>>>>>> master
   "id": "cdd8ed15-0453-44e1-a58e-5ff47d49ffa2",
   "metadata": {
    "scrolled": true
   },
   "outputs": [],
   "source": [
    "data_1['target_gender_without_women'] = data_1['target_gender_without_women'].apply(lambda x: x.replace(\"0\", \"False\") if isinstance(x, str) else x)\n",
    "data_1['target_gender_without_women'] = data_1['target_gender_without_women'].apply(lambda x: x.replace(\"1\", \"True\") if isinstance(x, str) else x)"
   ]
  },
  {
   "cell_type": "code",
<<<<<<< HEAD
   "execution_count": 13,
=======
   "execution_count": 12,
>>>>>>> master
   "id": "1371cfa9-f5ec-43f7-8182-63045f78edcb",
   "metadata": {},
   "outputs": [],
   "source": [
    "count_df= pd.DataFrame(data_1.drop(['text','hate_speech_score'],axis=1).sum(axis=1)).rename({0:'count'},axis=1)"
   ]
  },
  {
   "cell_type": "code",
<<<<<<< HEAD
   "execution_count": 14,
=======
   "execution_count": 13,
>>>>>>> master
   "id": "9585709d-784f-4075-9b54-8aa39c695839",
   "metadata": {},
   "outputs": [
    {
     "data": {
      "text/plain": [
       "count    0.479366\n",
       "dtype: float64"
      ]
     },
<<<<<<< HEAD
     "execution_count": 14,
=======
     "execution_count": 13,
>>>>>>> master
     "metadata": {},
     "output_type": "execute_result"
    }
   ],
   "source": [
    "count_df[count_df['count']>1].sum()/len(count_df)"
   ]
  },
  {
   "cell_type": "code",
<<<<<<< HEAD
   "execution_count": 15,
=======
   "execution_count": 14,
>>>>>>> master
   "id": "128f7a41-0e0f-4a3b-a3d2-eb5419414c13",
   "metadata": {},
   "outputs": [],
   "source": [
    "data_1.drop(columns =\"hate_speech_score\", inplace = True)\n",
    "\n",
    "data_1.rename(columns={'target_race': 'racism',\n",
    "              'target_religion': 'religion',\n",
    "              'target_origin': 'xenophobia',\n",
    "              'target_gender_women':'misogyny',\n",
    "              'target_gender_without_women':'transphobia',\n",
    "              'target_sexuality': 'homophobia',\n",
    "              'target_age': 'ageism',\n",
    "              'target_disability':'validism'}, inplace = True )\n"
   ]
  },
  {
   "cell_type": "code",
<<<<<<< HEAD
   "execution_count": 16,
=======
   "execution_count": 15,
>>>>>>> master
   "id": "1623ec17-421d-45a2-b716-9fff3376c716",
   "metadata": {
    "scrolled": true
   },
   "outputs": [
    {
     "data": {
      "text/html": [
       "<div>\n",
       "<style scoped>\n",
       "    .dataframe tbody tr th:only-of-type {\n",
       "        vertical-align: middle;\n",
       "    }\n",
       "\n",
       "    .dataframe tbody tr th {\n",
       "        vertical-align: top;\n",
       "    }\n",
       "\n",
       "    .dataframe thead th {\n",
       "        text-align: right;\n",
       "    }\n",
       "</style>\n",
       "<table border=\"1\" class=\"dataframe\">\n",
       "  <thead>\n",
       "    <tr style=\"text-align: right;\">\n",
       "      <th></th>\n",
       "      <th>text</th>\n",
       "      <th>racism</th>\n",
       "      <th>religion</th>\n",
       "      <th>xenophobia</th>\n",
       "      <th>misogyny</th>\n",
       "      <th>transphobia</th>\n",
       "      <th>homophobia</th>\n",
       "      <th>ageism</th>\n",
       "      <th>validism</th>\n",
       "    </tr>\n",
       "  </thead>\n",
       "  <tbody>\n",
       "    <tr>\n",
       "      <th>0</th>\n",
       "      <td>Yes indeed. She sort of reminds me of the elde...</td>\n",
       "      <td>True</td>\n",
       "      <td>False</td>\n",
       "      <td>False</td>\n",
       "      <td>False</td>\n",
       "      <td>False</td>\n",
       "      <td>False</td>\n",
       "      <td>False</td>\n",
       "      <td>False</td>\n",
       "    </tr>\n",
       "    <tr>\n",
       "      <th>1</th>\n",
       "      <td>The trans women reading this tweet right now i...</td>\n",
       "      <td>False</td>\n",
       "      <td>False</td>\n",
       "      <td>False</td>\n",
       "      <td>False</td>\n",
       "      <td>True</td>\n",
       "      <td>False</td>\n",
       "      <td>False</td>\n",
       "      <td>False</td>\n",
       "    </tr>\n",
       "    <tr>\n",
       "      <th>2</th>\n",
       "      <td>Question: These 4 broads who criticize America...</td>\n",
       "      <td>False</td>\n",
       "      <td>False</td>\n",
       "      <td>True</td>\n",
       "      <td>False</td>\n",
       "      <td>False</td>\n",
       "      <td>False</td>\n",
       "      <td>False</td>\n",
       "      <td>False</td>\n",
       "    </tr>\n",
       "    <tr>\n",
       "      <th>3</th>\n",
       "      <td>It is about time for all illegals to go back t...</td>\n",
       "      <td>False</td>\n",
       "      <td>False</td>\n",
       "      <td>True</td>\n",
       "      <td>False</td>\n",
       "      <td>False</td>\n",
       "      <td>False</td>\n",
       "      <td>False</td>\n",
       "      <td>False</td>\n",
       "    </tr>\n",
       "    <tr>\n",
       "      <th>4</th>\n",
       "      <td>For starters bend over the one in pink and kic...</td>\n",
       "      <td>False</td>\n",
       "      <td>False</td>\n",
       "      <td>False</td>\n",
       "      <td>True</td>\n",
       "      <td>False</td>\n",
       "      <td>False</td>\n",
       "      <td>False</td>\n",
       "      <td>False</td>\n",
       "    </tr>\n",
       "    <tr>\n",
       "      <th>...</th>\n",
       "      <td>...</td>\n",
       "      <td>...</td>\n",
       "      <td>...</td>\n",
       "      <td>...</td>\n",
       "      <td>...</td>\n",
       "      <td>...</td>\n",
       "      <td>...</td>\n",
       "      <td>...</td>\n",
       "      <td>...</td>\n",
       "    </tr>\n",
       "    <tr>\n",
       "      <th>135550</th>\n",
       "      <td>@AbeShinzo @realDonaldTrump @shinzoabe 独裁者は行きま...</td>\n",
       "      <td>True</td>\n",
       "      <td>True</td>\n",
       "      <td>False</td>\n",
       "      <td>False</td>\n",
       "      <td>False</td>\n",
       "      <td>False</td>\n",
       "      <td>False</td>\n",
       "      <td>False</td>\n",
       "    </tr>\n",
       "    <tr>\n",
       "      <th>135552</th>\n",
       "      <td>Millions of #Yemen-is participated in mass ral...</td>\n",
       "      <td>True</td>\n",
       "      <td>True</td>\n",
       "      <td>False</td>\n",
       "      <td>False</td>\n",
       "      <td>False</td>\n",
       "      <td>False</td>\n",
       "      <td>False</td>\n",
       "      <td>False</td>\n",
       "    </tr>\n",
       "    <tr>\n",
       "      <th>135553</th>\n",
       "      <td>@AbeShinzo @realDonaldTrump @shinzoabe 独裁者は行きま...</td>\n",
       "      <td>False</td>\n",
       "      <td>True</td>\n",
       "      <td>True</td>\n",
       "      <td>False</td>\n",
       "      <td>False</td>\n",
       "      <td>False</td>\n",
       "      <td>False</td>\n",
       "      <td>False</td>\n",
       "    </tr>\n",
       "    <tr>\n",
       "      <th>135554</th>\n",
       "      <td>Millions of #Yemen-is participated in mass ral...</td>\n",
       "      <td>False</td>\n",
       "      <td>True</td>\n",
       "      <td>False</td>\n",
       "      <td>False</td>\n",
       "      <td>False</td>\n",
       "      <td>False</td>\n",
       "      <td>False</td>\n",
       "      <td>False</td>\n",
       "    </tr>\n",
       "    <tr>\n",
       "      <th>135555</th>\n",
       "      <td>لا تتشمت الرجال مسكين يعاني كس امه 😂. يقول يال...</td>\n",
       "      <td>False</td>\n",
       "      <td>False</td>\n",
       "      <td>True</td>\n",
       "      <td>False</td>\n",
       "      <td>False</td>\n",
       "      <td>False</td>\n",
       "      <td>False</td>\n",
       "      <td>False</td>\n",
       "    </tr>\n",
       "  </tbody>\n",
       "</table>\n",
<<<<<<< HEAD
       "<p>134107 rows × 9 columns</p>\n",
=======
       "<p>134087 rows × 9 columns</p>\n",
>>>>>>> master
       "</div>"
      ],
      "text/plain": [
       "                                                     text  racism  religion  \\\n",
       "0       Yes indeed. She sort of reminds me of the elde...    True     False   \n",
       "1       The trans women reading this tweet right now i...   False     False   \n",
       "2       Question: These 4 broads who criticize America...   False     False   \n",
       "3       It is about time for all illegals to go back t...   False     False   \n",
       "4       For starters bend over the one in pink and kic...   False     False   \n",
       "...                                                   ...     ...       ...   \n",
       "135550  @AbeShinzo @realDonaldTrump @shinzoabe 独裁者は行きま...    True      True   \n",
       "135552  Millions of #Yemen-is participated in mass ral...    True      True   \n",
       "135553  @AbeShinzo @realDonaldTrump @shinzoabe 独裁者は行きま...   False      True   \n",
       "135554  Millions of #Yemen-is participated in mass ral...   False      True   \n",
       "135555  لا تتشمت الرجال مسكين يعاني كس امه 😂. يقول يال...   False     False   \n",
       "\n",
       "        xenophobia  misogyny  transphobia  homophobia  ageism  validism  \n",
       "0            False     False        False       False   False     False  \n",
       "1            False     False         True       False   False     False  \n",
       "2             True     False        False       False   False     False  \n",
       "3             True     False        False       False   False     False  \n",
       "4            False      True        False       False   False     False  \n",
       "...            ...       ...          ...         ...     ...       ...  \n",
       "135550       False     False        False       False   False     False  \n",
       "135552       False     False        False       False   False     False  \n",
       "135553        True     False        False       False   False     False  \n",
       "135554       False     False        False       False   False     False  \n",
       "135555        True     False        False       False   False     False  \n",
       "\n",
<<<<<<< HEAD
       "[134107 rows x 9 columns]"
      ]
     },
     "execution_count": 16,
=======
       "[134087 rows x 9 columns]"
      ]
     },
     "execution_count": 15,
>>>>>>> master
     "metadata": {},
     "output_type": "execute_result"
    }
   ],
   "source": [
    "def is_english(text):\n",
    "    try:\n",
    "        return detect(text) == 'en'\n",
    "    except:\n",
    "        return False\n",
    "\n",
    "# Appliquez la fonction pour filtrer les textes en anglais\n",
    "data_1 = data_1[data_1['text'].apply(is_english)]\n",
    "data_1"
   ]
  },
  {
   "cell_type": "code",
<<<<<<< HEAD
   "execution_count": 17,
=======
   "execution_count": 34,
>>>>>>> master
   "id": "3ed66694-700c-4e44-8bc1-320673a352d8",
   "metadata": {},
   "outputs": [
    {
     "data": {
      "text/html": [
       "<div>\n",
       "<style scoped>\n",
       "    .dataframe tbody tr th:only-of-type {\n",
       "        vertical-align: middle;\n",
       "    }\n",
       "\n",
       "    .dataframe tbody tr th {\n",
       "        vertical-align: top;\n",
       "    }\n",
       "\n",
       "    .dataframe thead th {\n",
       "        text-align: right;\n",
       "    }\n",
       "</style>\n",
       "<table border=\"1\" class=\"dataframe\">\n",
       "  <thead>\n",
       "    <tr style=\"text-align: right;\">\n",
       "      <th></th>\n",
       "      <th>text</th>\n",
       "      <th>racism</th>\n",
       "      <th>religion</th>\n",
       "      <th>xenophobia</th>\n",
       "      <th>misogyny</th>\n",
       "      <th>transphobia</th>\n",
       "      <th>homophobia</th>\n",
       "      <th>ageism</th>\n",
       "      <th>validism</th>\n",
       "    </tr>\n",
       "  </thead>\n",
       "  <tbody>\n",
       "    <tr>\n",
       "      <th>0</th>\n",
       "      <td>Yes indeed. She sort of reminds me of the elde...</td>\n",
       "      <td>True</td>\n",
       "      <td>False</td>\n",
       "      <td>False</td>\n",
       "      <td>False</td>\n",
       "      <td>False</td>\n",
       "      <td>False</td>\n",
       "      <td>False</td>\n",
       "      <td>False</td>\n",
       "    </tr>\n",
       "    <tr>\n",
       "      <th>1</th>\n",
       "      <td>The trans women reading this tweet right now i...</td>\n",
       "      <td>False</td>\n",
       "      <td>False</td>\n",
       "      <td>False</td>\n",
       "      <td>False</td>\n",
       "      <td>True</td>\n",
       "      <td>False</td>\n",
       "      <td>False</td>\n",
       "      <td>False</td>\n",
       "    </tr>\n",
       "    <tr>\n",
       "      <th>2</th>\n",
       "      <td>Question: These 4 broads who criticize America...</td>\n",
       "      <td>False</td>\n",
       "      <td>False</td>\n",
       "      <td>True</td>\n",
       "      <td>False</td>\n",
       "      <td>False</td>\n",
       "      <td>False</td>\n",
       "      <td>False</td>\n",
       "      <td>False</td>\n",
       "    </tr>\n",
       "    <tr>\n",
       "      <th>3</th>\n",
       "      <td>It is about time for all illegals to go back t...</td>\n",
       "      <td>False</td>\n",
       "      <td>False</td>\n",
       "      <td>True</td>\n",
       "      <td>False</td>\n",
       "      <td>False</td>\n",
       "      <td>False</td>\n",
       "      <td>False</td>\n",
       "      <td>False</td>\n",
       "    </tr>\n",
       "    <tr>\n",
       "      <th>4</th>\n",
       "      <td>For starters bend over the one in pink and kic...</td>\n",
       "      <td>False</td>\n",
       "      <td>False</td>\n",
       "      <td>False</td>\n",
       "      <td>True</td>\n",
       "      <td>False</td>\n",
       "      <td>False</td>\n",
       "      <td>False</td>\n",
       "      <td>False</td>\n",
       "    </tr>\n",
       "    <tr>\n",
       "      <th>...</th>\n",
       "      <td>...</td>\n",
       "      <td>...</td>\n",
       "      <td>...</td>\n",
       "      <td>...</td>\n",
       "      <td>...</td>\n",
       "      <td>...</td>\n",
       "      <td>...</td>\n",
       "      <td>...</td>\n",
       "      <td>...</td>\n",
       "    </tr>\n",
       "    <tr>\n",
<<<<<<< HEAD
=======
       "      <th>1000</th>\n",
       "      <td>is y'all even breathing enough for another vik...</td>\n",
       "      <td>True</td>\n",
       "      <td>False</td>\n",
       "      <td>False</td>\n",
       "      <td>False</td>\n",
       "      <td>False</td>\n",
       "      <td>False</td>\n",
       "      <td>False</td>\n",
       "      <td>False</td>\n",
       "    </tr>\n",
       "    <tr>\n",
       "      <th>1001</th>\n",
       "      <td>Yeah, o.k. Then what? Europe and America will ...</td>\n",
       "      <td>True</td>\n",
       "      <td>False</td>\n",
       "      <td>True</td>\n",
       "      <td>False</td>\n",
       "      <td>False</td>\n",
       "      <td>False</td>\n",
       "      <td>False</td>\n",
       "      <td>False</td>\n",
       "    </tr>\n",
       "    <tr>\n",
       "      <th>1002</th>\n",
       "      <td>I thought they were gonna make mulan an irish ...</td>\n",
       "      <td>False</td>\n",
       "      <td>False</td>\n",
       "      <td>True</td>\n",
       "      <td>False</td>\n",
       "      <td>False</td>\n",
       "      <td>False</td>\n",
       "      <td>False</td>\n",
       "      <td>False</td>\n",
       "    </tr>\n",
       "    <tr>\n",
>>>>>>> master
       "      <th>1003</th>\n",
       "      <td>I would eat your pussy and fuck you till you h...</td>\n",
       "      <td>False</td>\n",
       "      <td>False</td>\n",
       "      <td>False</td>\n",
       "      <td>True</td>\n",
       "      <td>False</td>\n",
       "      <td>False</td>\n",
       "      <td>False</td>\n",
       "      <td>False</td>\n",
       "    </tr>\n",
       "    <tr>\n",
       "      <th>1004</th>\n",
       "      <td>You are just as fucking retarded as the dumb t...</td>\n",
       "      <td>False</td>\n",
       "      <td>False</td>\n",
       "      <td>False</td>\n",
       "      <td>False</td>\n",
       "      <td>False</td>\n",
       "      <td>False</td>\n",
       "      <td>False</td>\n",
       "      <td>True</td>\n",
       "    </tr>\n",
<<<<<<< HEAD
       "    <tr>\n",
       "      <th>1005</th>\n",
       "      <td>Only issue is I hate pussies like you masquera...</td>\n",
       "      <td>False</td>\n",
       "      <td>False</td>\n",
       "      <td>False</td>\n",
       "      <td>False</td>\n",
       "      <td>True</td>\n",
       "      <td>False</td>\n",
       "      <td>False</td>\n",
       "      <td>False</td>\n",
       "    </tr>\n",
       "    <tr>\n",
       "      <th>1006</th>\n",
       "      <td>@RealCandaceO @ScherieMurray @AOC ...and @Real...</td>\n",
       "      <td>False</td>\n",
       "      <td>False</td>\n",
       "      <td>False</td>\n",
       "      <td>True</td>\n",
       "      <td>False</td>\n",
       "      <td>False</td>\n",
       "      <td>False</td>\n",
       "      <td>False</td>\n",
       "    </tr>\n",
       "    <tr>\n",
       "      <th>1007</th>\n",
       "      <td>@ThomasJTobin1 Left the church after I watched...</td>\n",
       "      <td>False</td>\n",
       "      <td>True</td>\n",
       "      <td>False</td>\n",
       "      <td>False</td>\n",
       "      <td>False</td>\n",
       "      <td>False</td>\n",
       "      <td>False</td>\n",
       "      <td>False</td>\n",
       "    </tr>\n",
=======
>>>>>>> master
       "  </tbody>\n",
       "</table>\n",
       "<p>1000 rows × 9 columns</p>\n",
       "</div>"
      ],
      "text/plain": [
       "                                                   text  racism  religion  \\\n",
       "0     Yes indeed. She sort of reminds me of the elde...    True     False   \n",
       "1     The trans women reading this tweet right now i...   False     False   \n",
       "2     Question: These 4 broads who criticize America...   False     False   \n",
       "3     It is about time for all illegals to go back t...   False     False   \n",
       "4     For starters bend over the one in pink and kic...   False     False   \n",
       "...                                                 ...     ...       ...   \n",
<<<<<<< HEAD
       "1003  I would eat your pussy and fuck you till you h...   False     False   \n",
       "1004  You are just as fucking retarded as the dumb t...   False     False   \n",
       "1005  Only issue is I hate pussies like you masquera...   False     False   \n",
       "1006  @RealCandaceO @ScherieMurray @AOC ...and @Real...   False     False   \n",
       "1007  @ThomasJTobin1 Left the church after I watched...   False      True   \n",
=======
       "1000  is y'all even breathing enough for another vik...    True     False   \n",
       "1001  Yeah, o.k. Then what? Europe and America will ...    True     False   \n",
       "1002  I thought they were gonna make mulan an irish ...   False     False   \n",
       "1003  I would eat your pussy and fuck you till you h...   False     False   \n",
       "1004  You are just as fucking retarded as the dumb t...   False     False   \n",
>>>>>>> master
       "\n",
       "      xenophobia  misogyny  transphobia  homophobia  ageism  validism  \n",
       "0          False     False        False       False   False     False  \n",
       "1          False     False         True       False   False     False  \n",
       "2           True     False        False       False   False     False  \n",
       "3           True     False        False       False   False     False  \n",
       "4          False      True        False       False   False     False  \n",
       "...          ...       ...          ...         ...     ...       ...  \n",
<<<<<<< HEAD
       "1003       False      True        False       False   False     False  \n",
       "1004       False     False        False       False   False      True  \n",
       "1005       False     False         True       False   False     False  \n",
       "1006       False      True        False       False   False     False  \n",
       "1007       False     False        False       False   False     False  \n",
=======
       "1000       False     False        False       False   False     False  \n",
       "1001        True     False        False       False   False     False  \n",
       "1002        True     False        False       False   False     False  \n",
       "1003       False      True        False       False   False     False  \n",
       "1004       False     False        False       False   False      True  \n",
>>>>>>> master
       "\n",
       "[1000 rows x 9 columns]"
      ]
     },
<<<<<<< HEAD
     "execution_count": 17,
=======
     "execution_count": 34,
>>>>>>> master
     "metadata": {},
     "output_type": "execute_result"
    }
   ],
   "source": [
    "data_extracted=data_1[0:1000]\n",
    "data_extracted"
   ]
  },
  {
   "cell_type": "code",
<<<<<<< HEAD
   "execution_count": 18,
=======
   "execution_count": 38,
>>>>>>> master
   "id": "7565c4a7-17dc-4a25-95e4-8cd9cf16945c",
   "metadata": {},
   "outputs": [],
   "source": [
    "# Step 1: Data Preparation\n",
    "# Load and preprocess your dataset (replace with your data loading code)\n",
    "\n",
    "texts = data_extracted['text']\n",
    "\n",
    "labels = data_extracted.drop(['text'],axis=1)"
   ]
  },
  {
   "cell_type": "code",
<<<<<<< HEAD
   "execution_count": 19,
=======
   "execution_count": 42,
>>>>>>> master
   "id": "76c809a9-ae55-443b-86a7-5b7984198e2c",
   "metadata": {},
   "outputs": [
    {
     "data": {
      "text/plain": [
       "(1000,)"
      ]
     },
<<<<<<< HEAD
     "execution_count": 19,
=======
     "execution_count": 42,
>>>>>>> master
     "metadata": {},
     "output_type": "execute_result"
    }
   ],
   "source": [
    "texts.shape"
   ]
  },
  {
   "cell_type": "code",
<<<<<<< HEAD
   "execution_count": 20,
=======
   "execution_count": 43,
>>>>>>> master
   "id": "351ba2b8-f407-4599-b407-35d6ecc574b4",
   "metadata": {},
   "outputs": [
    {
     "data": {
      "text/plain": [
       "(1000, 8)"
      ]
     },
<<<<<<< HEAD
     "execution_count": 20,
=======
     "execution_count": 43,
>>>>>>> master
     "metadata": {},
     "output_type": "execute_result"
    }
   ],
   "source": [
    "labels.shape"
   ]
  },
  {
   "cell_type": "code",
<<<<<<< HEAD
   "execution_count": 21,
=======
   "execution_count": 59,
>>>>>>> master
   "id": "6f141eb2-91bf-453c-84b7-00ae007f788b",
   "metadata": {},
   "outputs": [],
   "source": [
    "text_to_encode=texts.values.tolist()"
   ]
  },
  {
   "cell_type": "code",
<<<<<<< HEAD
   "execution_count": 22,
=======
   "execution_count": 79,
>>>>>>> master
   "id": "db48c85b-5601-4a3b-a856-aa2eec94965b",
   "metadata": {},
   "outputs": [
    {
     "name": "stderr",
     "output_type": "stream",
     "text": [
      "/Users/irismarechal/.pyenv/versions/3.10.6/envs/moder_ia/lib/python3.10/site-packages/seaborn/_oldcore.py:1498: FutureWarning: is_categorical_dtype is deprecated and will be removed in a future version. Use isinstance(dtype, CategoricalDtype) instead\n",
      "  if pd.api.types.is_categorical_dtype(vector):\n",
      "/Users/irismarechal/.pyenv/versions/3.10.6/envs/moder_ia/lib/python3.10/site-packages/seaborn/_oldcore.py:1119: FutureWarning: use_inf_as_na option is deprecated and will be removed in a future version. Convert inf values to NaN before operating instead.\n",
      "  with pd.option_context('mode.use_inf_as_na', True):\n"
     ]
    },
    {
     "data": {
<<<<<<< HEAD
      "image/png": "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",
=======
      "image/png": "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",
>>>>>>> master
      "text/plain": [
       "<Figure size 640x480 with 1 Axes>"
      ]
     },
     "metadata": {},
     "output_type": "display_data"
    }
   ],
   "source": [
    "# Assuming you have a DataFrame named 'data' and a column named 'text_column' containing text\n",
    "# Calculate the lengths of the text in the 'text_column' and store them in a new column 'text_length'\n",
    "data_1['text_length'] = data_1['text'].apply(len)\n",
    "\n",
    "# Create a distribution plot using Seaborn\n",
    "sns.histplot(data=data_1, x=data_1['text_length'], bins=30, kde=True)\n",
    "\n",
    "# Add labels and title\n",
    "plt.xlabel('Text Length')\n",
    "plt.ylabel('Frequency')\n",
    "plt.title('Distribution of Text Lengths')\n",
    "\n",
    "# Show the plot\n",
    "plt.show()\n",
    "\n",
    "\n",
    "\n",
    "\n",
    "\n"
   ]
  },
  {
   "cell_type": "code",
<<<<<<< HEAD
   "execution_count": 23,
=======
   "execution_count": 69,
>>>>>>> master
   "id": "0d0fe108-f82c-4e1d-9fea-5e2fcdfe84d6",
   "metadata": {},
   "outputs": [
    {
     "data": {
      "text/plain": [
       "1000"
      ]
     },
<<<<<<< HEAD
     "execution_count": 23,
=======
     "execution_count": 69,
>>>>>>> master
     "metadata": {},
     "output_type": "execute_result"
    }
   ],
   "source": [
    "len(text_to_encode)"
   ]
  },
  {
   "cell_type": "code",
<<<<<<< HEAD
   "execution_count": 24,
=======
   "execution_count": 113,
>>>>>>> master
   "id": "955a3d76-a7d4-47f7-a238-620c103e73ac",
   "metadata": {},
   "outputs": [],
   "source": [
    "# Split test set \n",
    "train_inputs, test_inputs, train_labels, test_labels = train_test_split(text_to_encode, labels, test_size=0.3, random_state=42)"
   ]
  },
  {
   "cell_type": "code",
<<<<<<< HEAD
   "execution_count": 25,
=======
   "execution_count": 123,
>>>>>>> master
   "id": "41cdcbed-4db6-44f6-bba5-746b8b8ce669",
   "metadata": {
    "scrolled": true
   },
   "outputs": [],
   "source": [
    "# Encode text data into BERT-friendly format\n",
    "\n",
    "tokenizer = BertTokenizer.from_pretrained('bert-base-uncased')\n",
    "\n",
    "train_inputs_tokenized=tokenizer(train_inputs, add_special_tokens=True, truncation=True, max_length=200, padding='max_length', return_attention_mask=True, return_tensors='tf')\n",
    "\n",
    "test_inputs_tokenized=tokenizer(test_inputs, add_special_tokens=True, truncation=True, max_length=200, padding='max_length', return_attention_mask=True, return_tensors='tf')\n",
    "\n",
    "train_inputs_tuple = (train_inputs_tokenized['input_ids'], train_inputs_tokenized['token_type_ids'], train_inputs_tokenized['attention_mask'])\n",
    "test_inputs_tuple = (test_inputs_tokenized['input_ids'], test_inputs_tokenized['token_type_ids'], test_inputs_tokenized['attention_mask'])\n",
    "\n"
   ]
  },
  {
   "cell_type": "code",
<<<<<<< HEAD
   "execution_count": 26,
=======
   "execution_count": 124,
>>>>>>> master
   "id": "f68ebd48-2f2f-40f5-bd79-4cf4327c4d60",
   "metadata": {},
   "outputs": [],
   "source": [
    "unique_classes = set()\n",
    "\n",
    "for label in labels:\n",
    "    unique_classes.update(label)\n",
    "\n",
    "num_classes = len(unique_classes)"
   ]
  },
  {
   "cell_type": "code",
<<<<<<< HEAD
   "execution_count": 27,
=======
   "execution_count": 142,
>>>>>>> master
   "id": "8a2d4046-7e8c-425d-becc-5fc1f50a6ed0",
   "metadata": {},
   "outputs": [
    {
     "data": {
      "text/plain": [
<<<<<<< HEAD
       "19"
      ]
     },
     "execution_count": 27,
=======
       "2"
      ]
     },
     "execution_count": 142,
>>>>>>> master
     "metadata": {},
     "output_type": "execute_result"
    }
   ],
   "source": [
    "num_classes"
   ]
  },
  {
   "cell_type": "code",
<<<<<<< HEAD
   "execution_count": 28,
=======
   "execution_count": 143,
>>>>>>> master
   "id": "2a06c2b8-847b-48af-a421-149d7cc2bb5b",
   "metadata": {
    "scrolled": true
   },
   "outputs": [
    {
     "name": "stderr",
     "output_type": "stream",
     "text": [
      "All PyTorch model weights were used when initializing TFBertForSequenceClassification.\n",
      "\n",
      "Some weights or buffers of the TF 2.0 model TFBertForSequenceClassification were not initialized from the PyTorch model and are newly initialized: ['classifier.weight', 'classifier.bias']\n",
      "You should probably TRAIN this model on a down-stream task to be able to use it for predictions and inference.\n"
     ]
    }
   ],
   "source": [
    "# Step 2: Model Building\n",
    "model = TFBertForSequenceClassification.from_pretrained('bert-base-uncased',num_labels=8)\n"
   ]
  },
  {
   "cell_type": "code",
<<<<<<< HEAD
   "execution_count": 29,
=======
   "execution_count": 144,
>>>>>>> master
   "id": "8cd2e151-cf4f-48c7-9f4c-5b58f21bbdf4",
   "metadata": {},
   "outputs": [],
   "source": [
    "optimizer = tf.keras.optimizers.Adam(learning_rate=2e-5)\n",
    "loss = tf.keras.losses.BinaryCrossentropy()\n",
    "# Compile the model\n",
    "model.compile(optimizer=optimizer, loss=loss)"
   ]
  },
  {
   "cell_type": "code",
<<<<<<< HEAD
   "execution_count": 30,
=======
   "execution_count": 145,
>>>>>>> master
   "id": "1388921d-2fd7-4f94-a777-df2f6b00d59e",
   "metadata": {},
   "outputs": [
    {
     "data": {
      "text/plain": [
       "(700, 8)"
      ]
     },
<<<<<<< HEAD
     "execution_count": 30,
=======
     "execution_count": 145,
>>>>>>> master
     "metadata": {},
     "output_type": "execute_result"
    }
   ],
   "source": [
    "train_labels.shape"
   ]
  },
  {
   "cell_type": "code",
<<<<<<< HEAD
   "execution_count": 31,
=======
   "execution_count": 147,
>>>>>>> master
   "id": "98a975a8-21b8-4a9c-a8b6-cda4dde138f3",
   "metadata": {},
   "outputs": [
    {
     "name": "stdout",
     "output_type": "stream",
     "text": [
<<<<<<< HEAD
      "22/22 [==============================] - 471s 20s/step - loss: 0.8881\n"
=======
      "22/22 [==============================] - 864s 39s/step - loss: 0.7961\n"
>>>>>>> master
     ]
    }
   ],
   "source": [
    "history = model.fit(\n",
    "    train_inputs_tuple,train_labels,\n",
    "    epochs=1,  \n",
    "    batch_size=32)"
   ]
  },
  {
   "cell_type": "code",
<<<<<<< HEAD
   "execution_count": 32,
=======
   "execution_count": null,
>>>>>>> master
   "id": "9b1515eb-1d4f-4b95-a7ff-7e45dd6f843d",
   "metadata": {},
   "outputs": [
    {
     "name": "stdout",
     "output_type": "stream",
     "text": [
<<<<<<< HEAD
      "22/22 [==============================] - 141s 6s/step\n",
      "10/10 [==============================] - 58s 6s/step\n"
=======
      " 3/22 [===>..........................] - ETA: 3:42"
>>>>>>> master
     ]
    }
   ],
   "source": [
    "train_predictions = model.predict(traiinputn_s_tuple)\n",
    "test_predictions = model.predict(test_inputs_tuple)\n",
    "\n",
<<<<<<< HEAD
    "\n"
   ]
  },
  {
   "cell_type": "code",
   "execution_count": 33,
   "id": "c1919064-2053-4878-8733-9aa9745fbb05",
   "metadata": {},
   "outputs": [
    {
     "ename": "NameError",
     "evalue": "name 'HammingLoss' is not defined",
     "output_type": "error",
     "traceback": [
      "\u001b[0;31m---------------------------------------------------------------------------\u001b[0m",
      "\u001b[0;31mNameError\u001b[0m                                 Traceback (most recent call last)",
      "Cell \u001b[0;32mIn[33], line 2\u001b[0m\n\u001b[1;32m      1\u001b[0m \u001b[38;5;66;03m# Calculate Hamming Loss for train and test separately\u001b[39;00m\n\u001b[0;32m----> 2\u001b[0m metric \u001b[38;5;241m=\u001b[39m \u001b[43mHammingLoss\u001b[49m(mode\u001b[38;5;241m=\u001b[39m\u001b[38;5;124m'\u001b[39m\u001b[38;5;124mmulticlass\u001b[39m\u001b[38;5;124m'\u001b[39m, threshold\u001b[38;5;241m=\u001b[39m\u001b[38;5;241m0.6\u001b[39m)\n\u001b[1;32m      3\u001b[0m hamming_loss_train_model\u001b[38;5;241m=\u001b[39mmetric\u001b[38;5;241m.\u001b[39mupdate_state(train_labels, train_predictions)\n\u001b[1;32m      4\u001b[0m hamming_loss_test_model\u001b[38;5;241m=\u001b[39mmetric\u001b[38;5;241m.\u001b[39mupdate_state(est_labels, test_predictions)\n",
      "\u001b[0;31mNameError\u001b[0m: name 'HammingLoss' is not defined"
     ]
    }
   ],
   "source": [
    "# Calculate Hamming Loss for train and test separately\n",
    "metric = HammingLoss(mode='multiclass', threshold=0.6)\n",
    "hamming_loss_train_model=metric.update_state(train_labels, train_predictions)\n",
    "hamming_loss_test_model=metric.update_state(est_labels, test_predictions)\n",
    "hamming_loss_train_model"
=======
    "# Calculate Hamming Loss for train and test separately\n",
    "train_hamming_loss = hamming_loss(train_labels, (train_predictions > threshold))\n",
    "test_hamming_loss = hamming_loss(test_labels, (test_predictions > threshold))\n",
    "\n",
    "print(\"Train Hamming Loss:\", train_hamming_loss)\n",
    "print(\"Test Hamming Loss:\", test_hamming_loss)\n"
>>>>>>> master
   ]
  },
  {
   "cell_type": "code",
   "execution_count": null,
<<<<<<< HEAD
   "id": "4ea6762e-77e0-4e21-a60b-e609a4c231cb",
   "metadata": {},
   "outputs": [],
   "source": [
    "tfa.metrics.HammingLoss(\n",
    "    mode: str,\n",
    "    name: str = 'hamming_loss',\n",
    "\n",
    "    **kwargs\n",
    ")"
   ]
  },
  {
   "cell_type": "code",
   "execution_count": 41,
   "id": "9718b992-7252-4707-b495-1c8cb2b6d6ac",
   "metadata": {},
   "outputs": [
    {
     "ename": "TypeError",
     "evalue": "'str' object is not callable",
     "output_type": "error",
     "traceback": [
      "\u001b[0;31m---------------------------------------------------------------------------\u001b[0m",
      "\u001b[0;31mTypeError\u001b[0m                                 Traceback (most recent call last)",
      "Cell \u001b[0;32mIn[41], line 3\u001b[0m\n\u001b[1;32m      1\u001b[0m \u001b[38;5;66;03m# Step 5: Inference\u001b[39;00m\n\u001b[1;32m      2\u001b[0m \u001b[38;5;66;03m# You can use the trained model for inference on new text data\u001b[39;00m\n\u001b[0;32m----> 3\u001b[0m \u001b[38;5;28minput\u001b[39m \u001b[38;5;241m=\u001b[39m \u001b[38;5;28;43minput\u001b[39;49m\u001b[43m(\u001b[49m\u001b[38;5;124;43m\"\u001b[39;49m\u001b[38;5;124;43mRentrez un nouveau tweet\u001b[39;49m\u001b[38;5;124;43m\"\u001b[39;49m\u001b[43m)\u001b[49m\n\u001b[1;32m      4\u001b[0m new_texts\u001b[38;5;241m=\u001b[39mpd\u001b[38;5;241m.\u001b[39mDataFrame[\u001b[38;5;124m\"\u001b[39m\u001b[38;5;124minput\u001b[39m\u001b[38;5;124m\"\u001b[39m] \n",
      "\u001b[0;31mTypeError\u001b[0m: 'str' object is not callable"
     ]
    }
   ],
=======
   "id": "9718b992-7252-4707-b495-1c8cb2b6d6ac",
   "metadata": {},
   "outputs": [],
>>>>>>> master
   "source": [
    "# Step 5: Inference\n",
    "# You can use the trained model for inference on new text data\n",
    "input = input(\"Rentrez un nouveau tweet\")\n",
<<<<<<< HEAD
    "new_texts=pd.DataFrame[\"input\"] \n"
=======
    "new_texts=pd.DataFrame[input]"
>>>>>>> master
   ]
  },
  {
   "cell_type": "code",
   "execution_count": null,
   "id": "54adaca7-e274-432e-ba1c-69b3c041f76c",
   "metadata": {},
   "outputs": [],
   "source": [
    "new_texts_tokenized=tokenizer(new_text, add_special_tokens=True, truncation=True, max_length=200, padding='max_length', return_attention_mask=True, return_tensors='tf')\n",
    "\n",
    "new_prediction=model.predict(new_texts_tokenized)\n",
    "new_prediction"
   ]
  },
  {
   "cell_type": "code",
   "execution_count": null,
   "id": "aa86e42e-024a-4244-b437-62e5ee3de0a1",
   "metadata": {},
   "outputs": [],
   "source": [
    "# Make predictions on new text data\n",
    "new_predictions = model.predict([new_input_ids, new_attention_masks])"
   ]
  },
  {
   "cell_type": "code",
   "execution_count": null,
   "id": "652b9c63-5247-4151-951b-5603affc9577",
   "metadata": {},
   "outputs": [],
   "source": []
  }
 ],
 "metadata": {
  "kernelspec": {
   "display_name": "Python 3 (ipykernel)",
   "language": "python",
   "name": "python3"
  },
  "language_info": {
   "codemirror_mode": {
    "name": "ipython",
    "version": 3
   },
   "file_extension": ".py",
   "mimetype": "text/x-python",
   "name": "python",
   "nbconvert_exporter": "python",
   "pygments_lexer": "ipython3",
   "version": "3.10.6"
  }
 },
 "nbformat": 4,
 "nbformat_minor": 5
}
