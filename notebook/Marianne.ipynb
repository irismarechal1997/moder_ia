{
 "cells": [
  {
   "cell_type": "markdown",
   "id": "72a9b752",
   "metadata": {},
   "source": [
    "## Data processing "
   ]
  },
  {
   "cell_type": "markdown",
   "id": "2cf97dfa",
   "metadata": {},
   "source": [
    "Data processing "
   ]
  },
  {
   "cell_type": "code",
   "execution_count": 97,
   "id": "5206b912",
   "metadata": {},
   "outputs": [],
   "source": [
    "import pandas as pd \n",
    "import numpy as np"
   ]
  },
  {
   "cell_type": "markdown",
   "id": "3a186dc1",
   "metadata": {},
   "source": [
    "Outputs"
   ]
  },
  {
   "cell_type": "code",
   "execution_count": 98,
   "id": "3a2cb231",
   "metadata": {},
   "outputs": [],
   "source": [
    "#retrieve file\n",
    "\n",
    "hatespeech = pd.read_csv(\"/home/mariannettrd/code/irismarechal1997/moder_ia/raw_data/230911_Dynamically_Generated_Hate_Speech_01.csv\")\n",
    "\n",
    "hatespeech[\"source\"]=\"230911_Dynamically_Generated_Hate_Speech_01\" # add source of the doc \n",
    "hatespeech = hatespeech[[\"source\", \"text\", \"label\"]] #select columns \n",
    "hatespeech.rename(columns={'label':'offensive'}, inplace=True) # rename column \n",
    "#encore offensive column\n",
    "mapping = {'hate': 1, 'nothate': '0'} \n",
    "\n",
    "hatespeech[\"offensive\"] = hatespeech[\"offensive\"].map(mapping)"
   ]
  },
  {
   "cell_type": "markdown",
   "id": "7fee9f89",
   "metadata": {
    "heading_collapsed": true,
    "jp-MarkdownHeadingCollapsed": true
   },
   "source": [
    "## Premier data set"
   ]
  },
  {
   "cell_type": "code",
   "execution_count": 4,
   "id": "693c7b5e",
   "metadata": {
    "hidden": true
   },
   "outputs": [],
   "source": [
    "# file_path = \"home/mariannettrd/code/irismarechal1997/moder_ia/raw_data/230911_ConvAbuseEMNLPfull.csv\"\n",
    "# file_path = \"home\\mariannettrd\\code\\irismarechal1997\\moder_ia\\raw_data\\230911_ConvAbuseEMNLPfull.csv\"\n",
    "file_path = \"/home/mariannettrd/code/irismarechal1997/moder_ia/raw_data/230911_Dynamically_Generated_Hate_Speech_01.csv\"\n",
    "hatespeech = pd.read_csv(file_path)\n",
    "\n",
    "\n",
    "\n"
   ]
  },
  {
   "cell_type": "code",
   "execution_count": 5,
   "id": "dd668a5a",
   "metadata": {
    "hidden": true
   },
   "outputs": [
    {
     "data": {
      "text/html": [
       "<div>\n",
       "<style scoped>\n",
       "    .dataframe tbody tr th:only-of-type {\n",
       "        vertical-align: middle;\n",
       "    }\n",
       "\n",
       "    .dataframe tbody tr th {\n",
       "        vertical-align: top;\n",
       "    }\n",
       "\n",
       "    .dataframe thead th {\n",
       "        text-align: right;\n",
       "    }\n",
       "</style>\n",
       "<table border=\"1\" class=\"dataframe\">\n",
       "  <thead>\n",
       "    <tr style=\"text-align: right;\">\n",
       "      <th></th>\n",
       "      <th>Unnamed: 0</th>\n",
       "      <th>id</th>\n",
       "      <th>text</th>\n",
       "      <th>label</th>\n",
       "      <th>type</th>\n",
       "      <th>model_wrong</th>\n",
       "      <th>db.model_preds</th>\n",
       "      <th>status</th>\n",
       "      <th>round</th>\n",
       "      <th>split</th>\n",
       "      <th>annotator</th>\n",
       "    </tr>\n",
       "  </thead>\n",
       "  <tbody>\n",
       "    <tr>\n",
       "      <th>0</th>\n",
       "      <td>1</td>\n",
       "      <td>10000</td>\n",
       "      <td>It should be legal for a husband to rape his wife</td>\n",
       "      <td>hate</td>\n",
       "      <td>notgiven</td>\n",
       "      <td>True</td>\n",
       "      <td>0.97457</td>\n",
       "      <td>dynabench entry</td>\n",
       "      <td>1</td>\n",
       "      <td>train</td>\n",
       "      <td>gnzuctwed3</td>\n",
       "    </tr>\n",
       "    <tr>\n",
       "      <th>1</th>\n",
       "      <td>2</td>\n",
       "      <td>10001</td>\n",
       "      <td>dalits are lowlife scum</td>\n",
       "      <td>hate</td>\n",
       "      <td>notgiven</td>\n",
       "      <td>False</td>\n",
       "      <td>0.08233</td>\n",
       "      <td>dynabench entry</td>\n",
       "      <td>1</td>\n",
       "      <td>test</td>\n",
       "      <td>cagnluiznm</td>\n",
       "    </tr>\n",
       "    <tr>\n",
       "      <th>2</th>\n",
       "      <td>3</td>\n",
       "      <td>10002</td>\n",
       "      <td>dalits are lowlives</td>\n",
       "      <td>hate</td>\n",
       "      <td>notgiven</td>\n",
       "      <td>True</td>\n",
       "      <td>0.92319</td>\n",
       "      <td>dynabench entry</td>\n",
       "      <td>1</td>\n",
       "      <td>train</td>\n",
       "      <td>cagnluiznm</td>\n",
       "    </tr>\n",
       "    <tr>\n",
       "      <th>3</th>\n",
       "      <td>4</td>\n",
       "      <td>10003</td>\n",
       "      <td>It was a better world when women dare not ques...</td>\n",
       "      <td>hate</td>\n",
       "      <td>notgiven</td>\n",
       "      <td>True</td>\n",
       "      <td>0.99006</td>\n",
       "      <td>dynabench entry</td>\n",
       "      <td>1</td>\n",
       "      <td>test</td>\n",
       "      <td>gnzuctwed3</td>\n",
       "    </tr>\n",
       "    <tr>\n",
       "      <th>4</th>\n",
       "      <td>5</td>\n",
       "      <td>10004</td>\n",
       "      <td>I don't work this hard so that those immigrant...</td>\n",
       "      <td>hate</td>\n",
       "      <td>notgiven</td>\n",
       "      <td>True</td>\n",
       "      <td>0.98836</td>\n",
       "      <td>dynabench entry</td>\n",
       "      <td>1</td>\n",
       "      <td>train</td>\n",
       "      <td>cagnluiznm</td>\n",
       "    </tr>\n",
       "    <tr>\n",
       "      <th>...</th>\n",
       "      <td>...</td>\n",
       "      <td>...</td>\n",
       "      <td>...</td>\n",
       "      <td>...</td>\n",
       "      <td>...</td>\n",
       "      <td>...</td>\n",
       "      <td>...</td>\n",
       "      <td>...</td>\n",
       "      <td>...</td>\n",
       "      <td>...</td>\n",
       "      <td>...</td>\n",
       "    </tr>\n",
       "    <tr>\n",
       "      <th>40618</th>\n",
       "      <td>40736</td>\n",
       "      <td>9995</td>\n",
       "      <td>we should forcibly remove all the foreigners f...</td>\n",
       "      <td>hate</td>\n",
       "      <td>notgiven</td>\n",
       "      <td>True</td>\n",
       "      <td>0.86945</td>\n",
       "      <td>dynabench entry</td>\n",
       "      <td>1</td>\n",
       "      <td>train</td>\n",
       "      <td>cagnluiznm</td>\n",
       "    </tr>\n",
       "    <tr>\n",
       "      <th>40619</th>\n",
       "      <td>40737</td>\n",
       "      <td>9996</td>\n",
       "      <td>we should forcibly remove all the immigrants f...</td>\n",
       "      <td>hate</td>\n",
       "      <td>notgiven</td>\n",
       "      <td>True</td>\n",
       "      <td>0.50039</td>\n",
       "      <td>dynabench entry</td>\n",
       "      <td>1</td>\n",
       "      <td>train</td>\n",
       "      <td>cagnluiznm</td>\n",
       "    </tr>\n",
       "    <tr>\n",
       "      <th>40620</th>\n",
       "      <td>40738</td>\n",
       "      <td>9997</td>\n",
       "      <td>dalits are unworthy of the Gods love</td>\n",
       "      <td>hate</td>\n",
       "      <td>notgiven</td>\n",
       "      <td>True</td>\n",
       "      <td>0.97652</td>\n",
       "      <td>dynabench entry</td>\n",
       "      <td>1</td>\n",
       "      <td>train</td>\n",
       "      <td>cagnluiznm</td>\n",
       "    </tr>\n",
       "    <tr>\n",
       "      <th>40621</th>\n",
       "      <td>40739</td>\n",
       "      <td>9998</td>\n",
       "      <td>dalits are worthless</td>\n",
       "      <td>hate</td>\n",
       "      <td>notgiven</td>\n",
       "      <td>True</td>\n",
       "      <td>0.94326</td>\n",
       "      <td>dynabench entry</td>\n",
       "      <td>1</td>\n",
       "      <td>train</td>\n",
       "      <td>cagnluiznm</td>\n",
       "    </tr>\n",
       "    <tr>\n",
       "      <th>40622</th>\n",
       "      <td>40740</td>\n",
       "      <td>9999</td>\n",
       "      <td>dalits are deserves to be treated as lowlife</td>\n",
       "      <td>hate</td>\n",
       "      <td>notgiven</td>\n",
       "      <td>True</td>\n",
       "      <td>0.94324</td>\n",
       "      <td>dynabench entry</td>\n",
       "      <td>1</td>\n",
       "      <td>train</td>\n",
       "      <td>cagnluiznm</td>\n",
       "    </tr>\n",
       "  </tbody>\n",
       "</table>\n",
       "<p>40623 rows × 11 columns</p>\n",
       "</div>"
      ],
      "text/plain": [
       "       Unnamed: 0     id                                               text  \\\n",
       "0               1  10000  It should be legal for a husband to rape his wife   \n",
       "1               2  10001                            dalits are lowlife scum   \n",
       "2               3  10002                                dalits are lowlives   \n",
       "3               4  10003  It was a better world when women dare not ques...   \n",
       "4               5  10004  I don't work this hard so that those immigrant...   \n",
       "...           ...    ...                                                ...   \n",
       "40618       40736   9995  we should forcibly remove all the foreigners f...   \n",
       "40619       40737   9996  we should forcibly remove all the immigrants f...   \n",
       "40620       40738   9997               dalits are unworthy of the Gods love   \n",
       "40621       40739   9998                               dalits are worthless   \n",
       "40622       40740   9999       dalits are deserves to be treated as lowlife   \n",
       "\n",
       "      label      type model_wrong  db.model_preds           status round  \\\n",
       "0      hate  notgiven        True         0.97457  dynabench entry     1   \n",
       "1      hate  notgiven       False         0.08233  dynabench entry     1   \n",
       "2      hate  notgiven        True         0.92319  dynabench entry     1   \n",
       "3      hate  notgiven        True         0.99006  dynabench entry     1   \n",
       "4      hate  notgiven        True         0.98836  dynabench entry     1   \n",
       "...     ...       ...         ...             ...              ...   ...   \n",
       "40618  hate  notgiven        True         0.86945  dynabench entry     1   \n",
       "40619  hate  notgiven        True         0.50039  dynabench entry     1   \n",
       "40620  hate  notgiven        True         0.97652  dynabench entry     1   \n",
       "40621  hate  notgiven        True         0.94326  dynabench entry     1   \n",
       "40622  hate  notgiven        True         0.94324  dynabench entry     1   \n",
       "\n",
       "       split   annotator  \n",
       "0      train  gnzuctwed3  \n",
       "1       test  cagnluiznm  \n",
       "2      train  cagnluiznm  \n",
       "3       test  gnzuctwed3  \n",
       "4      train  cagnluiznm  \n",
       "...      ...         ...  \n",
       "40618  train  cagnluiznm  \n",
       "40619  train  cagnluiznm  \n",
       "40620  train  cagnluiznm  \n",
       "40621  train  cagnluiznm  \n",
       "40622  train  cagnluiznm  \n",
       "\n",
       "[40623 rows x 11 columns]"
      ]
     },
     "execution_count": 5,
     "metadata": {},
     "output_type": "execute_result"
    }
   ],
   "source": [
    "hatespeech"
   ]
  },
  {
   "cell_type": "code",
   "execution_count": 6,
   "id": "6e23f59b",
   "metadata": {
    "hidden": true
   },
   "outputs": [],
   "source": [
    "hatespeech[\"source\"]=\"230911_Dynamically_Generated_Hate_Speech_01\""
   ]
  },
  {
   "cell_type": "code",
   "execution_count": 7,
   "id": "ac1fdba6",
   "metadata": {
    "hidden": true
   },
   "outputs": [
    {
     "data": {
      "text/html": [
       "<div>\n",
       "<style scoped>\n",
       "    .dataframe tbody tr th:only-of-type {\n",
       "        vertical-align: middle;\n",
       "    }\n",
       "\n",
       "    .dataframe tbody tr th {\n",
       "        vertical-align: top;\n",
       "    }\n",
       "\n",
       "    .dataframe thead th {\n",
       "        text-align: right;\n",
       "    }\n",
       "</style>\n",
       "<table border=\"1\" class=\"dataframe\">\n",
       "  <thead>\n",
       "    <tr style=\"text-align: right;\">\n",
       "      <th></th>\n",
       "      <th>Unnamed: 0</th>\n",
       "      <th>id</th>\n",
       "      <th>text</th>\n",
       "      <th>label</th>\n",
       "      <th>type</th>\n",
       "      <th>model_wrong</th>\n",
       "      <th>db.model_preds</th>\n",
       "      <th>status</th>\n",
       "      <th>round</th>\n",
       "      <th>split</th>\n",
       "      <th>annotator</th>\n",
       "      <th>source</th>\n",
       "    </tr>\n",
       "  </thead>\n",
       "  <tbody>\n",
       "    <tr>\n",
       "      <th>0</th>\n",
       "      <td>1</td>\n",
       "      <td>10000</td>\n",
       "      <td>It should be legal for a husband to rape his wife</td>\n",
       "      <td>hate</td>\n",
       "      <td>notgiven</td>\n",
       "      <td>True</td>\n",
       "      <td>0.97457</td>\n",
       "      <td>dynabench entry</td>\n",
       "      <td>1</td>\n",
       "      <td>train</td>\n",
       "      <td>gnzuctwed3</td>\n",
       "      <td>230911_Dynamically_Generated_Hate_Speech_01</td>\n",
       "    </tr>\n",
       "    <tr>\n",
       "      <th>1</th>\n",
       "      <td>2</td>\n",
       "      <td>10001</td>\n",
       "      <td>dalits are lowlife scum</td>\n",
       "      <td>hate</td>\n",
       "      <td>notgiven</td>\n",
       "      <td>False</td>\n",
       "      <td>0.08233</td>\n",
       "      <td>dynabench entry</td>\n",
       "      <td>1</td>\n",
       "      <td>test</td>\n",
       "      <td>cagnluiznm</td>\n",
       "      <td>230911_Dynamically_Generated_Hate_Speech_01</td>\n",
       "    </tr>\n",
       "    <tr>\n",
       "      <th>2</th>\n",
       "      <td>3</td>\n",
       "      <td>10002</td>\n",
       "      <td>dalits are lowlives</td>\n",
       "      <td>hate</td>\n",
       "      <td>notgiven</td>\n",
       "      <td>True</td>\n",
       "      <td>0.92319</td>\n",
       "      <td>dynabench entry</td>\n",
       "      <td>1</td>\n",
       "      <td>train</td>\n",
       "      <td>cagnluiznm</td>\n",
       "      <td>230911_Dynamically_Generated_Hate_Speech_01</td>\n",
       "    </tr>\n",
       "    <tr>\n",
       "      <th>3</th>\n",
       "      <td>4</td>\n",
       "      <td>10003</td>\n",
       "      <td>It was a better world when women dare not ques...</td>\n",
       "      <td>hate</td>\n",
       "      <td>notgiven</td>\n",
       "      <td>True</td>\n",
       "      <td>0.99006</td>\n",
       "      <td>dynabench entry</td>\n",
       "      <td>1</td>\n",
       "      <td>test</td>\n",
       "      <td>gnzuctwed3</td>\n",
       "      <td>230911_Dynamically_Generated_Hate_Speech_01</td>\n",
       "    </tr>\n",
       "    <tr>\n",
       "      <th>4</th>\n",
       "      <td>5</td>\n",
       "      <td>10004</td>\n",
       "      <td>I don't work this hard so that those immigrant...</td>\n",
       "      <td>hate</td>\n",
       "      <td>notgiven</td>\n",
       "      <td>True</td>\n",
       "      <td>0.98836</td>\n",
       "      <td>dynabench entry</td>\n",
       "      <td>1</td>\n",
       "      <td>train</td>\n",
       "      <td>cagnluiznm</td>\n",
       "      <td>230911_Dynamically_Generated_Hate_Speech_01</td>\n",
       "    </tr>\n",
       "  </tbody>\n",
       "</table>\n",
       "</div>"
      ],
      "text/plain": [
       "   Unnamed: 0     id                                               text label  \\\n",
       "0           1  10000  It should be legal for a husband to rape his wife  hate   \n",
       "1           2  10001                            dalits are lowlife scum  hate   \n",
       "2           3  10002                                dalits are lowlives  hate   \n",
       "3           4  10003  It was a better world when women dare not ques...  hate   \n",
       "4           5  10004  I don't work this hard so that those immigrant...  hate   \n",
       "\n",
       "       type model_wrong  db.model_preds           status round  split  \\\n",
       "0  notgiven        True         0.97457  dynabench entry     1  train   \n",
       "1  notgiven       False         0.08233  dynabench entry     1   test   \n",
       "2  notgiven        True         0.92319  dynabench entry     1  train   \n",
       "3  notgiven        True         0.99006  dynabench entry     1   test   \n",
       "4  notgiven        True         0.98836  dynabench entry     1  train   \n",
       "\n",
       "    annotator                                       source  \n",
       "0  gnzuctwed3  230911_Dynamically_Generated_Hate_Speech_01  \n",
       "1  cagnluiznm  230911_Dynamically_Generated_Hate_Speech_01  \n",
       "2  cagnluiznm  230911_Dynamically_Generated_Hate_Speech_01  \n",
       "3  gnzuctwed3  230911_Dynamically_Generated_Hate_Speech_01  \n",
       "4  cagnluiznm  230911_Dynamically_Generated_Hate_Speech_01  "
      ]
     },
     "execution_count": 7,
     "metadata": {},
     "output_type": "execute_result"
    }
   ],
   "source": [
    "hatespeech.head()"
   ]
  },
  {
   "cell_type": "code",
   "execution_count": 8,
   "id": "b873b908",
   "metadata": {
    "hidden": true
   },
   "outputs": [
    {
     "data": {
      "text/plain": [
       "<bound method DataFrame.info of        Unnamed: 0     id                                               text  \\\n",
       "0               1  10000  It should be legal for a husband to rape his wife   \n",
       "1               2  10001                            dalits are lowlife scum   \n",
       "2               3  10002                                dalits are lowlives   \n",
       "3               4  10003  It was a better world when women dare not ques...   \n",
       "4               5  10004  I don't work this hard so that those immigrant...   \n",
       "...           ...    ...                                                ...   \n",
       "40618       40736   9995  we should forcibly remove all the foreigners f...   \n",
       "40619       40737   9996  we should forcibly remove all the immigrants f...   \n",
       "40620       40738   9997               dalits are unworthy of the Gods love   \n",
       "40621       40739   9998                               dalits are worthless   \n",
       "40622       40740   9999       dalits are deserves to be treated as lowlife   \n",
       "\n",
       "      label      type model_wrong  db.model_preds           status round  \\\n",
       "0      hate  notgiven        True         0.97457  dynabench entry     1   \n",
       "1      hate  notgiven       False         0.08233  dynabench entry     1   \n",
       "2      hate  notgiven        True         0.92319  dynabench entry     1   \n",
       "3      hate  notgiven        True         0.99006  dynabench entry     1   \n",
       "4      hate  notgiven        True         0.98836  dynabench entry     1   \n",
       "...     ...       ...         ...             ...              ...   ...   \n",
       "40618  hate  notgiven        True         0.86945  dynabench entry     1   \n",
       "40619  hate  notgiven        True         0.50039  dynabench entry     1   \n",
       "40620  hate  notgiven        True         0.97652  dynabench entry     1   \n",
       "40621  hate  notgiven        True         0.94326  dynabench entry     1   \n",
       "40622  hate  notgiven        True         0.94324  dynabench entry     1   \n",
       "\n",
       "       split   annotator                                       source  \n",
       "0      train  gnzuctwed3  230911_Dynamically_Generated_Hate_Speech_01  \n",
       "1       test  cagnluiznm  230911_Dynamically_Generated_Hate_Speech_01  \n",
       "2      train  cagnluiznm  230911_Dynamically_Generated_Hate_Speech_01  \n",
       "3       test  gnzuctwed3  230911_Dynamically_Generated_Hate_Speech_01  \n",
       "4      train  cagnluiznm  230911_Dynamically_Generated_Hate_Speech_01  \n",
       "...      ...         ...                                          ...  \n",
       "40618  train  cagnluiznm  230911_Dynamically_Generated_Hate_Speech_01  \n",
       "40619  train  cagnluiznm  230911_Dynamically_Generated_Hate_Speech_01  \n",
       "40620  train  cagnluiznm  230911_Dynamically_Generated_Hate_Speech_01  \n",
       "40621  train  cagnluiznm  230911_Dynamically_Generated_Hate_Speech_01  \n",
       "40622  train  cagnluiznm  230911_Dynamically_Generated_Hate_Speech_01  \n",
       "\n",
       "[40623 rows x 12 columns]>"
      ]
     },
     "execution_count": 8,
     "metadata": {},
     "output_type": "execute_result"
    }
   ],
   "source": [
    "hatespeech.info"
   ]
  },
  {
   "cell_type": "code",
   "execution_count": 9,
   "id": "9bb0cd57",
   "metadata": {
    "hidden": true
   },
   "outputs": [
    {
     "data": {
      "text/plain": [
       "(40623, 12)"
      ]
     },
     "execution_count": 9,
     "metadata": {},
     "output_type": "execute_result"
    }
   ],
   "source": [
    "hatespeech.shape"
   ]
  },
  {
   "cell_type": "code",
   "execution_count": 10,
   "id": "1be7a4cf",
   "metadata": {
    "hidden": true
   },
   "outputs": [
    {
     "data": {
      "text/plain": [
       "Unnamed: 0          int64\n",
       "id                 object\n",
       "text               object\n",
       "label              object\n",
       "type               object\n",
       "model_wrong        object\n",
       "db.model_preds    float64\n",
       "status             object\n",
       "round              object\n",
       "split              object\n",
       "annotator          object\n",
       "source             object\n",
       "dtype: object"
      ]
     },
     "execution_count": 10,
     "metadata": {},
     "output_type": "execute_result"
    }
   ],
   "source": [
    "hatespeech.dtypes"
   ]
  },
  {
   "cell_type": "code",
   "execution_count": 11,
   "id": "ef4bfd5e",
   "metadata": {
    "hidden": true
   },
   "outputs": [],
   "source": [
    "hatespeech = hatespeech[[\"source\", \"text\", \"label\"]]"
   ]
  },
  {
   "cell_type": "code",
   "execution_count": 12,
   "id": "dffe09f4",
   "metadata": {
    "hidden": true
   },
   "outputs": [
    {
     "data": {
      "text/html": [
       "<div>\n",
       "<style scoped>\n",
       "    .dataframe tbody tr th:only-of-type {\n",
       "        vertical-align: middle;\n",
       "    }\n",
       "\n",
       "    .dataframe tbody tr th {\n",
       "        vertical-align: top;\n",
       "    }\n",
       "\n",
       "    .dataframe thead th {\n",
       "        text-align: right;\n",
       "    }\n",
       "</style>\n",
       "<table border=\"1\" class=\"dataframe\">\n",
       "  <thead>\n",
       "    <tr style=\"text-align: right;\">\n",
       "      <th></th>\n",
       "      <th>source</th>\n",
       "      <th>text</th>\n",
       "      <th>label</th>\n",
       "    </tr>\n",
       "  </thead>\n",
       "  <tbody>\n",
       "    <tr>\n",
       "      <th>0</th>\n",
       "      <td>230911_Dynamically_Generated_Hate_Speech_01</td>\n",
       "      <td>It should be legal for a husband to rape his wife</td>\n",
       "      <td>hate</td>\n",
       "    </tr>\n",
       "    <tr>\n",
       "      <th>1</th>\n",
       "      <td>230911_Dynamically_Generated_Hate_Speech_01</td>\n",
       "      <td>dalits are lowlife scum</td>\n",
       "      <td>hate</td>\n",
       "    </tr>\n",
       "    <tr>\n",
       "      <th>2</th>\n",
       "      <td>230911_Dynamically_Generated_Hate_Speech_01</td>\n",
       "      <td>dalits are lowlives</td>\n",
       "      <td>hate</td>\n",
       "    </tr>\n",
       "    <tr>\n",
       "      <th>3</th>\n",
       "      <td>230911_Dynamically_Generated_Hate_Speech_01</td>\n",
       "      <td>It was a better world when women dare not ques...</td>\n",
       "      <td>hate</td>\n",
       "    </tr>\n",
       "    <tr>\n",
       "      <th>4</th>\n",
       "      <td>230911_Dynamically_Generated_Hate_Speech_01</td>\n",
       "      <td>I don't work this hard so that those immigrant...</td>\n",
       "      <td>hate</td>\n",
       "    </tr>\n",
       "    <tr>\n",
       "      <th>...</th>\n",
       "      <td>...</td>\n",
       "      <td>...</td>\n",
       "      <td>...</td>\n",
       "    </tr>\n",
       "    <tr>\n",
       "      <th>40618</th>\n",
       "      <td>230911_Dynamically_Generated_Hate_Speech_01</td>\n",
       "      <td>we should forcibly remove all the foreigners f...</td>\n",
       "      <td>hate</td>\n",
       "    </tr>\n",
       "    <tr>\n",
       "      <th>40619</th>\n",
       "      <td>230911_Dynamically_Generated_Hate_Speech_01</td>\n",
       "      <td>we should forcibly remove all the immigrants f...</td>\n",
       "      <td>hate</td>\n",
       "    </tr>\n",
       "    <tr>\n",
       "      <th>40620</th>\n",
       "      <td>230911_Dynamically_Generated_Hate_Speech_01</td>\n",
       "      <td>dalits are unworthy of the Gods love</td>\n",
       "      <td>hate</td>\n",
       "    </tr>\n",
       "    <tr>\n",
       "      <th>40621</th>\n",
       "      <td>230911_Dynamically_Generated_Hate_Speech_01</td>\n",
       "      <td>dalits are worthless</td>\n",
       "      <td>hate</td>\n",
       "    </tr>\n",
       "    <tr>\n",
       "      <th>40622</th>\n",
       "      <td>230911_Dynamically_Generated_Hate_Speech_01</td>\n",
       "      <td>dalits are deserves to be treated as lowlife</td>\n",
       "      <td>hate</td>\n",
       "    </tr>\n",
       "  </tbody>\n",
       "</table>\n",
       "<p>40623 rows × 3 columns</p>\n",
       "</div>"
      ],
      "text/plain": [
       "                                            source  \\\n",
       "0      230911_Dynamically_Generated_Hate_Speech_01   \n",
       "1      230911_Dynamically_Generated_Hate_Speech_01   \n",
       "2      230911_Dynamically_Generated_Hate_Speech_01   \n",
       "3      230911_Dynamically_Generated_Hate_Speech_01   \n",
       "4      230911_Dynamically_Generated_Hate_Speech_01   \n",
       "...                                            ...   \n",
       "40618  230911_Dynamically_Generated_Hate_Speech_01   \n",
       "40619  230911_Dynamically_Generated_Hate_Speech_01   \n",
       "40620  230911_Dynamically_Generated_Hate_Speech_01   \n",
       "40621  230911_Dynamically_Generated_Hate_Speech_01   \n",
       "40622  230911_Dynamically_Generated_Hate_Speech_01   \n",
       "\n",
       "                                                    text label  \n",
       "0      It should be legal for a husband to rape his wife  hate  \n",
       "1                                dalits are lowlife scum  hate  \n",
       "2                                    dalits are lowlives  hate  \n",
       "3      It was a better world when women dare not ques...  hate  \n",
       "4      I don't work this hard so that those immigrant...  hate  \n",
       "...                                                  ...   ...  \n",
       "40618  we should forcibly remove all the foreigners f...  hate  \n",
       "40619  we should forcibly remove all the immigrants f...  hate  \n",
       "40620               dalits are unworthy of the Gods love  hate  \n",
       "40621                               dalits are worthless  hate  \n",
       "40622       dalits are deserves to be treated as lowlife  hate  \n",
       "\n",
       "[40623 rows x 3 columns]"
      ]
     },
     "execution_count": 12,
     "metadata": {},
     "output_type": "execute_result"
    }
   ],
   "source": [
    "hatespeech"
   ]
  },
  {
   "cell_type": "markdown",
   "id": "f8adb144",
   "metadata": {
    "hidden": true
   },
   "source": [
    "##### hatespeech.rename(columns={'label':'offensive'})"
   ]
  },
  {
   "cell_type": "code",
   "execution_count": 13,
   "id": "15b3a691",
   "metadata": {
    "hidden": true
   },
   "outputs": [
    {
     "name": "stderr",
     "output_type": "stream",
     "text": [
      "/tmp/ipykernel_19828/1591395345.py:1: SettingWithCopyWarning: \n",
      "A value is trying to be set on a copy of a slice from a DataFrame\n",
      "\n",
      "See the caveats in the documentation: https://pandas.pydata.org/pandas-docs/stable/user_guide/indexing.html#returning-a-view-versus-a-copy\n",
      "  hatespeech.rename(columns={'label':'offensive'}, inplace=True)\n"
     ]
    }
   ],
   "source": [
    "hatespeech.rename(columns={'label':'offensive'}, inplace=True)"
   ]
  },
  {
   "cell_type": "code",
   "execution_count": 14,
   "id": "d6d97992",
   "metadata": {
    "hidden": true
   },
   "outputs": [
    {
     "data": {
      "text/plain": [
       "array(['hate', 'nothate'], dtype=object)"
      ]
     },
     "execution_count": 14,
     "metadata": {},
     "output_type": "execute_result"
    }
   ],
   "source": [
    "unique_values = hatespeech['offensive'].unique()\n",
    "unique_values"
   ]
  },
  {
   "cell_type": "markdown",
   "id": "1f3e6308",
   "metadata": {
    "hidden": true
   },
   "source": [
    "hatespeech"
   ]
  },
  {
   "cell_type": "code",
   "execution_count": 15,
   "id": "a39a8163",
   "metadata": {
    "hidden": true
   },
   "outputs": [
    {
     "name": "stderr",
     "output_type": "stream",
     "text": [
      "/tmp/ipykernel_19828/733604717.py:2: SettingWithCopyWarning: \n",
      "A value is trying to be set on a copy of a slice from a DataFrame.\n",
      "Try using .loc[row_indexer,col_indexer] = value instead\n",
      "\n",
      "See the caveats in the documentation: https://pandas.pydata.org/pandas-docs/stable/user_guide/indexing.html#returning-a-view-versus-a-copy\n",
      "  hatespeech[\"offensive\"] = hatespeech[\"offensive\"].map(mapping)\n"
     ]
    }
   ],
   "source": [
    "\n",
    "mapping = {'hate': 1, 'nothate': '0'}\n",
    "hatespeech[\"offensive\"] = hatespeech[\"offensive\"].map(mapping)"
   ]
  },
  {
   "cell_type": "code",
   "execution_count": null,
   "id": "a73fc915",
   "metadata": {
    "hidden": true
   },
   "outputs": [],
   "source": []
  },
  {
   "cell_type": "code",
   "execution_count": 16,
   "id": "dc07bfb0",
   "metadata": {
    "hidden": true
   },
   "outputs": [],
   "source": [
    "#retrieve file\n",
    "file_path = \"/home/mariannettrd/code/irismarechal1997/moder_ia/raw_data/230911_Dynamically_Generated_Hate_Speech_01.csv\"\n",
    "hatespeech = pd.read_csv(file_path)\n",
    "\n",
    "hatespeech[\"source\"]=\"230911_Dynamically_Generated_Hate_Speech_01\" # add source of the doc \n",
    "hatespeech = hatespeech[[\"source\", \"text\", \"label\"]] #select columns \n",
    "hatespeech.rename(columns={'label':'offensive'}, inplace=True) # rename column \n",
    "#encore offensive column\n",
    "mapping = {'hate': 1, 'nothate': '0'} \n",
    "\n",
    "hatespeech[\"offensive\"] = hatespeech[\"offensive\"].map(mapping)"
   ]
  },
  {
   "cell_type": "markdown",
   "id": "7f24fb92",
   "metadata": {
    "heading_collapsed": true,
    "jp-MarkdownHeadingCollapsed": true
   },
   "source": [
    "## deuxième dataset"
   ]
  },
  {
   "cell_type": "code",
   "execution_count": null,
   "id": "a00f7c0e",
   "metadata": {
    "hidden": true
   },
   "outputs": [],
   "source": []
  },
  {
   "cell_type": "code",
   "execution_count": 17,
   "id": "3bfe2301",
   "metadata": {
    "hidden": true
   },
   "outputs": [],
   "source": [
    "hateXplain = pd.read_json(\"/home/mariannettrd/code/irismarechal1997/moder_ia/raw_data/230911_HateXplain.json\")\n",
    "\n",
    "hateXplain_inversed = hateXplain.transpose()\n",
    "\n",
    "hateXplain=hateXplain_inversed\n",
    "\n",
    "\n",
    "hateXplain[\"source\"]=\"230911_HateXplain\" # add source of the doc\n",
    "\n",
    "\n",
    "hateXplain = hateXplain[[\"post_tokens\", \"annotators\", \"source\"]].copy()\n",
    "\n",
    "hateXplain.reset_index(inplace=True, drop=True)\n",
    "\n",
    "hateXplain[\"offensive\"]=0\n",
    "\n"
   ]
  },
  {
   "cell_type": "code",
   "execution_count": 18,
   "id": "bc2e02ed",
   "metadata": {
    "hidden": true
   },
   "outputs": [
    {
     "data": {
      "text/html": [
       "<div>\n",
       "<style scoped>\n",
       "    .dataframe tbody tr th:only-of-type {\n",
       "        vertical-align: middle;\n",
       "    }\n",
       "\n",
       "    .dataframe tbody tr th {\n",
       "        vertical-align: top;\n",
       "    }\n",
       "\n",
       "    .dataframe thead th {\n",
       "        text-align: right;\n",
       "    }\n",
       "</style>\n",
       "<table border=\"1\" class=\"dataframe\">\n",
       "  <thead>\n",
       "    <tr style=\"text-align: right;\">\n",
       "      <th></th>\n",
       "      <th>post_tokens</th>\n",
       "      <th>annotators</th>\n",
       "      <th>source</th>\n",
       "      <th>offensive</th>\n",
       "    </tr>\n",
       "  </thead>\n",
       "  <tbody>\n",
       "    <tr>\n",
       "      <th>0</th>\n",
       "      <td>[i, dont, think, im, getting, my, baby, them, ...</td>\n",
       "      <td>[{'label': 'normal', 'annotator_id': 1, 'targe...</td>\n",
       "      <td>230911_HateXplain</td>\n",
       "      <td>0</td>\n",
       "    </tr>\n",
       "    <tr>\n",
       "      <th>1</th>\n",
       "      <td>[we, cannot, continue, calling, ourselves, fem...</td>\n",
       "      <td>[{'label': 'normal', 'annotator_id': 1, 'targe...</td>\n",
       "      <td>230911_HateXplain</td>\n",
       "      <td>0</td>\n",
       "    </tr>\n",
       "    <tr>\n",
       "      <th>2</th>\n",
       "      <td>[nawt, yall, niggers, ignoring, me]</td>\n",
       "      <td>[{'label': 'normal', 'annotator_id': 4, 'targe...</td>\n",
       "      <td>230911_HateXplain</td>\n",
       "      <td>0</td>\n",
       "    </tr>\n",
       "    <tr>\n",
       "      <th>3</th>\n",
       "      <td>[&lt;user&gt;, i, am, bit, confused, coz, chinese, p...</td>\n",
       "      <td>[{'label': 'hatespeech', 'annotator_id': 1, 't...</td>\n",
       "      <td>230911_HateXplain</td>\n",
       "      <td>0</td>\n",
       "    </tr>\n",
       "    <tr>\n",
       "      <th>4</th>\n",
       "      <td>[this, bitch, in, whataburger, eating, a, burg...</td>\n",
       "      <td>[{'label': 'hatespeech', 'annotator_id': 4, 't...</td>\n",
       "      <td>230911_HateXplain</td>\n",
       "      <td>0</td>\n",
       "    </tr>\n",
       "  </tbody>\n",
       "</table>\n",
       "</div>"
      ],
      "text/plain": [
       "                                         post_tokens  \\\n",
       "0  [i, dont, think, im, getting, my, baby, them, ...   \n",
       "1  [we, cannot, continue, calling, ourselves, fem...   \n",
       "2                [nawt, yall, niggers, ignoring, me]   \n",
       "3  [<user>, i, am, bit, confused, coz, chinese, p...   \n",
       "4  [this, bitch, in, whataburger, eating, a, burg...   \n",
       "\n",
       "                                          annotators             source  \\\n",
       "0  [{'label': 'normal', 'annotator_id': 1, 'targe...  230911_HateXplain   \n",
       "1  [{'label': 'normal', 'annotator_id': 1, 'targe...  230911_HateXplain   \n",
       "2  [{'label': 'normal', 'annotator_id': 4, 'targe...  230911_HateXplain   \n",
       "3  [{'label': 'hatespeech', 'annotator_id': 1, 't...  230911_HateXplain   \n",
       "4  [{'label': 'hatespeech', 'annotator_id': 4, 't...  230911_HateXplain   \n",
       "\n",
       "   offensive  \n",
       "0          0  \n",
       "1          0  \n",
       "2          0  \n",
       "3          0  \n",
       "4          0  "
      ]
     },
     "execution_count": 18,
     "metadata": {},
     "output_type": "execute_result"
    }
   ],
   "source": [
    "hateXplain.head()"
   ]
  },
  {
   "cell_type": "code",
   "execution_count": 19,
   "id": "7b56c156",
   "metadata": {
    "hidden": true
   },
   "outputs": [],
   "source": [
    "# for i in range(0,len(hateXplain)): \n",
    "#     hateXplain.iloc[i,-1]= hateXplain.iloc[i,1][0][\"label\"]"
   ]
  },
  {
   "cell_type": "code",
   "execution_count": 20,
   "id": "0740b5df",
   "metadata": {
    "hidden": true
   },
   "outputs": [
    {
     "data": {
      "text/plain": [
       "0        0\n",
       "1        0\n",
       "2        0\n",
       "3        1\n",
       "4        1\n",
       "        ..\n",
       "20143    1\n",
       "20144    1\n",
       "20145    1\n",
       "20146    1\n",
       "20147    1\n",
       "Name: offensive, Length: 20148, dtype: int64"
      ]
     },
     "execution_count": 20,
     "metadata": {},
     "output_type": "execute_result"
    }
   ],
   "source": [
    "hateXplain[\"offensive\"]=hateXplain[\"annotators\"].apply(lambda x:x[0][\"label\"]).apply(lambda x:0 if x ==\"normal\" else 1)\n",
    "hateXplain[\"offensive\"]"
   ]
  },
  {
   "cell_type": "code",
   "execution_count": 21,
   "id": "916917cf",
   "metadata": {
    "hidden": true
   },
   "outputs": [
    {
     "data": {
      "text/html": [
       "<div>\n",
       "<style scoped>\n",
       "    .dataframe tbody tr th:only-of-type {\n",
       "        vertical-align: middle;\n",
       "    }\n",
       "\n",
       "    .dataframe tbody tr th {\n",
       "        vertical-align: top;\n",
       "    }\n",
       "\n",
       "    .dataframe thead th {\n",
       "        text-align: right;\n",
       "    }\n",
       "</style>\n",
       "<table border=\"1\" class=\"dataframe\">\n",
       "  <thead>\n",
       "    <tr style=\"text-align: right;\">\n",
       "      <th></th>\n",
       "      <th>post_tokens</th>\n",
       "      <th>annotators</th>\n",
       "      <th>source</th>\n",
       "      <th>offensive</th>\n",
       "    </tr>\n",
       "  </thead>\n",
       "  <tbody>\n",
       "    <tr>\n",
       "      <th>0</th>\n",
       "      <td>[i, dont, think, im, getting, my, baby, them, ...</td>\n",
       "      <td>[{'label': 'normal', 'annotator_id': 1, 'targe...</td>\n",
       "      <td>230911_HateXplain</td>\n",
       "      <td>0</td>\n",
       "    </tr>\n",
       "    <tr>\n",
       "      <th>1</th>\n",
       "      <td>[we, cannot, continue, calling, ourselves, fem...</td>\n",
       "      <td>[{'label': 'normal', 'annotator_id': 1, 'targe...</td>\n",
       "      <td>230911_HateXplain</td>\n",
       "      <td>0</td>\n",
       "    </tr>\n",
       "    <tr>\n",
       "      <th>2</th>\n",
       "      <td>[nawt, yall, niggers, ignoring, me]</td>\n",
       "      <td>[{'label': 'normal', 'annotator_id': 4, 'targe...</td>\n",
       "      <td>230911_HateXplain</td>\n",
       "      <td>0</td>\n",
       "    </tr>\n",
       "    <tr>\n",
       "      <th>3</th>\n",
       "      <td>[&lt;user&gt;, i, am, bit, confused, coz, chinese, p...</td>\n",
       "      <td>[{'label': 'hatespeech', 'annotator_id': 1, 't...</td>\n",
       "      <td>230911_HateXplain</td>\n",
       "      <td>1</td>\n",
       "    </tr>\n",
       "    <tr>\n",
       "      <th>4</th>\n",
       "      <td>[this, bitch, in, whataburger, eating, a, burg...</td>\n",
       "      <td>[{'label': 'hatespeech', 'annotator_id': 4, 't...</td>\n",
       "      <td>230911_HateXplain</td>\n",
       "      <td>1</td>\n",
       "    </tr>\n",
       "    <tr>\n",
       "      <th>...</th>\n",
       "      <td>...</td>\n",
       "      <td>...</td>\n",
       "      <td>...</td>\n",
       "      <td>...</td>\n",
       "    </tr>\n",
       "    <tr>\n",
       "      <th>20143</th>\n",
       "      <td>[if, ur, still, on, twitter, tell, carlton, i,...</td>\n",
       "      <td>[{'label': 'offensive', 'annotator_id': 217, '...</td>\n",
       "      <td>230911_HateXplain</td>\n",
       "      <td>1</td>\n",
       "    </tr>\n",
       "    <tr>\n",
       "      <th>20144</th>\n",
       "      <td>[when, i, first, got, on, here, and, said, i, ...</td>\n",
       "      <td>[{'label': 'offensive', 'annotator_id': 220, '...</td>\n",
       "      <td>230911_HateXplain</td>\n",
       "      <td>1</td>\n",
       "    </tr>\n",
       "    <tr>\n",
       "      <th>20145</th>\n",
       "      <td>[was, macht, der, moslem, wenn, der, zion, geg...</td>\n",
       "      <td>[{'label': 'offensive', 'annotator_id': 206, '...</td>\n",
       "      <td>230911_HateXplain</td>\n",
       "      <td>1</td>\n",
       "    </tr>\n",
       "    <tr>\n",
       "      <th>20146</th>\n",
       "      <td>[it, is, awful, look, at, world, demographics,...</td>\n",
       "      <td>[{'label': 'hatespeech', 'annotator_id': 209, ...</td>\n",
       "      <td>230911_HateXplain</td>\n",
       "      <td>1</td>\n",
       "    </tr>\n",
       "    <tr>\n",
       "      <th>20147</th>\n",
       "      <td>[the, jewish, globalist, elite, have, only, im...</td>\n",
       "      <td>[{'label': 'hatespeech', 'annotator_id': 200, ...</td>\n",
       "      <td>230911_HateXplain</td>\n",
       "      <td>1</td>\n",
       "    </tr>\n",
       "  </tbody>\n",
       "</table>\n",
       "<p>20148 rows × 4 columns</p>\n",
       "</div>"
      ],
      "text/plain": [
       "                                             post_tokens  \\\n",
       "0      [i, dont, think, im, getting, my, baby, them, ...   \n",
       "1      [we, cannot, continue, calling, ourselves, fem...   \n",
       "2                    [nawt, yall, niggers, ignoring, me]   \n",
       "3      [<user>, i, am, bit, confused, coz, chinese, p...   \n",
       "4      [this, bitch, in, whataburger, eating, a, burg...   \n",
       "...                                                  ...   \n",
       "20143  [if, ur, still, on, twitter, tell, carlton, i,...   \n",
       "20144  [when, i, first, got, on, here, and, said, i, ...   \n",
       "20145  [was, macht, der, moslem, wenn, der, zion, geg...   \n",
       "20146  [it, is, awful, look, at, world, demographics,...   \n",
       "20147  [the, jewish, globalist, elite, have, only, im...   \n",
       "\n",
       "                                              annotators             source  \\\n",
       "0      [{'label': 'normal', 'annotator_id': 1, 'targe...  230911_HateXplain   \n",
       "1      [{'label': 'normal', 'annotator_id': 1, 'targe...  230911_HateXplain   \n",
       "2      [{'label': 'normal', 'annotator_id': 4, 'targe...  230911_HateXplain   \n",
       "3      [{'label': 'hatespeech', 'annotator_id': 1, 't...  230911_HateXplain   \n",
       "4      [{'label': 'hatespeech', 'annotator_id': 4, 't...  230911_HateXplain   \n",
       "...                                                  ...                ...   \n",
       "20143  [{'label': 'offensive', 'annotator_id': 217, '...  230911_HateXplain   \n",
       "20144  [{'label': 'offensive', 'annotator_id': 220, '...  230911_HateXplain   \n",
       "20145  [{'label': 'offensive', 'annotator_id': 206, '...  230911_HateXplain   \n",
       "20146  [{'label': 'hatespeech', 'annotator_id': 209, ...  230911_HateXplain   \n",
       "20147  [{'label': 'hatespeech', 'annotator_id': 200, ...  230911_HateXplain   \n",
       "\n",
       "       offensive  \n",
       "0              0  \n",
       "1              0  \n",
       "2              0  \n",
       "3              1  \n",
       "4              1  \n",
       "...          ...  \n",
       "20143          1  \n",
       "20144          1  \n",
       "20145          1  \n",
       "20146          1  \n",
       "20147          1  \n",
       "\n",
       "[20148 rows x 4 columns]"
      ]
     },
     "execution_count": 21,
     "metadata": {},
     "output_type": "execute_result"
    }
   ],
   "source": [
    "hateXplain"
   ]
  },
  {
   "cell_type": "markdown",
   "id": "01630069",
   "metadata": {
    "jp-MarkdownHeadingCollapsed": true
   },
   "source": [
    "## Naive bayes algo"
   ]
  },
  {
   "cell_type": "code",
   "execution_count": 22,
   "id": "e4a4f291",
   "metadata": {},
   "outputs": [
    {
     "data": {
      "text/html": [
       "<div>\n",
       "<style scoped>\n",
       "    .dataframe tbody tr th:only-of-type {\n",
       "        vertical-align: middle;\n",
       "    }\n",
       "\n",
       "    .dataframe tbody tr th {\n",
       "        vertical-align: top;\n",
       "    }\n",
       "\n",
       "    .dataframe thead th {\n",
       "        text-align: right;\n",
       "    }\n",
       "</style>\n",
       "<table border=\"1\" class=\"dataframe\">\n",
       "  <thead>\n",
       "    <tr style=\"text-align: right;\">\n",
       "      <th></th>\n",
       "      <th>source</th>\n",
       "      <th>text</th>\n",
       "      <th>offensive</th>\n",
       "    </tr>\n",
       "  </thead>\n",
       "  <tbody>\n",
       "    <tr>\n",
       "      <th>0</th>\n",
       "      <td>Hate_Speech_Classification_01</td>\n",
       "      <td>dalits are lowlives</td>\n",
       "      <td>1</td>\n",
       "    </tr>\n",
       "    <tr>\n",
       "      <th>1</th>\n",
       "      <td>Hate_Speech_Classification_01</td>\n",
       "      <td>gay people are a burden to our society</td>\n",
       "      <td>1</td>\n",
       "    </tr>\n",
       "    <tr>\n",
       "      <th>2</th>\n",
       "      <td>Hate_Speech_Classification_01</td>\n",
       "      <td>Arabs are not welcome</td>\n",
       "      <td>1</td>\n",
       "    </tr>\n",
       "    <tr>\n",
       "      <th>3</th>\n",
       "      <td>Hate_Speech_Classification_01</td>\n",
       "      <td>I'm not saying we should actually eliminate he...</td>\n",
       "      <td>1</td>\n",
       "    </tr>\n",
       "    <tr>\n",
       "      <th>4</th>\n",
       "      <td>Hate_Speech_Classification_01</td>\n",
       "      <td>bananas are for black people</td>\n",
       "      <td>1</td>\n",
       "    </tr>\n",
       "  </tbody>\n",
       "</table>\n",
       "</div>"
      ],
      "text/plain": [
       "                          source  \\\n",
       "0  Hate_Speech_Classification_01   \n",
       "1  Hate_Speech_Classification_01   \n",
       "2  Hate_Speech_Classification_01   \n",
       "3  Hate_Speech_Classification_01   \n",
       "4  Hate_Speech_Classification_01   \n",
       "\n",
       "                                                text  offensive  \n",
       "0                                dalits are lowlives          1  \n",
       "1             gay people are a burden to our society          1  \n",
       "2                              Arabs are not welcome          1  \n",
       "3  I'm not saying we should actually eliminate he...          1  \n",
       "4                       bananas are for black people          1  "
      ]
     },
     "execution_count": 22,
     "metadata": {},
     "output_type": "execute_result"
    }
   ],
   "source": [
    "raw_data = pd.read_csv(\"/home/mariannettrd/code/irismarechal1997/moder_ia/raw_data/clean_dataset_v2.csv\")\n",
    "raw_data.head()"
   ]
  },
  {
   "cell_type": "code",
   "execution_count": 23,
   "id": "f1b65272",
   "metadata": {},
   "outputs": [],
   "source": [
    "import pandas as pd\n",
    "import numpy as np\n",
    "import string\n",
    "from nltk import word_tokenize\n",
    "from nltk.corpus import stopwords\n",
    "from nltk.stem import WordNetLemmatizer"
   ]
  },
  {
   "cell_type": "code",
   "execution_count": 24,
   "id": "ab1c3139",
   "metadata": {},
   "outputs": [],
   "source": [
    "def cleaning_table(data:pd.DataFrame):\n",
    "        data = data.drop_duplicates() # Remove duplicates\n",
    "        data = data.dropna(subset=['offensive']) # Remove n.a. values in columns 'Label' => check column\n",
    "        return data"
   ]
  },
  {
   "cell_type": "code",
   "execution_count": 25,
   "id": "ba9ecf45",
   "metadata": {},
   "outputs": [
    {
     "data": {
      "text/html": [
       "<div>\n",
       "<style scoped>\n",
       "    .dataframe tbody tr th:only-of-type {\n",
       "        vertical-align: middle;\n",
       "    }\n",
       "\n",
       "    .dataframe tbody tr th {\n",
       "        vertical-align: top;\n",
       "    }\n",
       "\n",
       "    .dataframe thead th {\n",
       "        text-align: right;\n",
       "    }\n",
       "</style>\n",
       "<table border=\"1\" class=\"dataframe\">\n",
       "  <thead>\n",
       "    <tr style=\"text-align: right;\">\n",
       "      <th></th>\n",
       "      <th>source</th>\n",
       "      <th>text</th>\n",
       "      <th>offensive</th>\n",
       "    </tr>\n",
       "  </thead>\n",
       "  <tbody>\n",
       "    <tr>\n",
       "      <th>0</th>\n",
       "      <td>Hate_Speech_Classification_01</td>\n",
       "      <td>dalits are lowlives</td>\n",
       "      <td>1</td>\n",
       "    </tr>\n",
       "    <tr>\n",
       "      <th>1</th>\n",
       "      <td>Hate_Speech_Classification_01</td>\n",
       "      <td>gay people are a burden to our society</td>\n",
       "      <td>1</td>\n",
       "    </tr>\n",
       "    <tr>\n",
       "      <th>2</th>\n",
       "      <td>Hate_Speech_Classification_01</td>\n",
       "      <td>Arabs are not welcome</td>\n",
       "      <td>1</td>\n",
       "    </tr>\n",
       "    <tr>\n",
       "      <th>3</th>\n",
       "      <td>Hate_Speech_Classification_01</td>\n",
       "      <td>I'm not saying we should actually eliminate he...</td>\n",
       "      <td>1</td>\n",
       "    </tr>\n",
       "    <tr>\n",
       "      <th>4</th>\n",
       "      <td>Hate_Speech_Classification_01</td>\n",
       "      <td>bananas are for black people</td>\n",
       "      <td>1</td>\n",
       "    </tr>\n",
       "    <tr>\n",
       "      <th>...</th>\n",
       "      <td>...</td>\n",
       "      <td>...</td>\n",
       "      <td>...</td>\n",
       "    </tr>\n",
       "    <tr>\n",
       "      <th>103374</th>\n",
       "      <td>230911_HateXplain</td>\n",
       "      <td>if ur still on twitter tell carlton i said his...</td>\n",
       "      <td>1</td>\n",
       "    </tr>\n",
       "    <tr>\n",
       "      <th>103375</th>\n",
       "      <td>230911_HateXplain</td>\n",
       "      <td>when i first got on here and said i hate trump...</td>\n",
       "      <td>1</td>\n",
       "    </tr>\n",
       "    <tr>\n",
       "      <th>103376</th>\n",
       "      <td>230911_HateXplain</td>\n",
       "      <td>was macht der moslem wenn der zion gegen seine...</td>\n",
       "      <td>1</td>\n",
       "    </tr>\n",
       "    <tr>\n",
       "      <th>103377</th>\n",
       "      <td>230911_HateXplain</td>\n",
       "      <td>it is awful look at world demographics asians ...</td>\n",
       "      <td>1</td>\n",
       "    </tr>\n",
       "    <tr>\n",
       "      <th>103378</th>\n",
       "      <td>230911_HateXplain</td>\n",
       "      <td>the jewish globalist elite have only imported ...</td>\n",
       "      <td>1</td>\n",
       "    </tr>\n",
       "  </tbody>\n",
       "</table>\n",
       "<p>103379 rows × 3 columns</p>\n",
       "</div>"
      ],
      "text/plain": [
       "                               source  \\\n",
       "0       Hate_Speech_Classification_01   \n",
       "1       Hate_Speech_Classification_01   \n",
       "2       Hate_Speech_Classification_01   \n",
       "3       Hate_Speech_Classification_01   \n",
       "4       Hate_Speech_Classification_01   \n",
       "...                               ...   \n",
       "103374              230911_HateXplain   \n",
       "103375              230911_HateXplain   \n",
       "103376              230911_HateXplain   \n",
       "103377              230911_HateXplain   \n",
       "103378              230911_HateXplain   \n",
       "\n",
       "                                                     text  offensive  \n",
       "0                                     dalits are lowlives          1  \n",
       "1                  gay people are a burden to our society          1  \n",
       "2                                   Arabs are not welcome          1  \n",
       "3       I'm not saying we should actually eliminate he...          1  \n",
       "4                            bananas are for black people          1  \n",
       "...                                                   ...        ...  \n",
       "103374  if ur still on twitter tell carlton i said his...          1  \n",
       "103375  when i first got on here and said i hate trump...          1  \n",
       "103376  was macht der moslem wenn der zion gegen seine...          1  \n",
       "103377  it is awful look at world demographics asians ...          1  \n",
       "103378  the jewish globalist elite have only imported ...          1  \n",
       "\n",
       "[103379 rows x 3 columns]"
      ]
     },
     "execution_count": 25,
     "metadata": {},
     "output_type": "execute_result"
    }
   ],
   "source": [
    "data_cleaned = cleaning_table(raw_data)\n",
    "data_cleaned"
   ]
  },
  {
   "cell_type": "code",
   "execution_count": 26,
   "id": "58188f15",
   "metadata": {},
   "outputs": [
    {
     "data": {
      "text/plain": [
       "'!\"#$%&\\'()*+,-./:;<=>?@[\\\\]^_`{|}~'"
      ]
     },
     "execution_count": 26,
     "metadata": {},
     "output_type": "execute_result"
    }
   ],
   "source": [
    "import string # \"string\" module is already installed with Python\n",
    "string.punctuation"
   ]
  },
  {
   "cell_type": "code",
   "execution_count": 27,
   "id": "432dbe75",
   "metadata": {},
   "outputs": [
    {
     "ename": "SyntaxError",
     "evalue": "invalid syntax (1647869796.py, line 9)",
     "output_type": "error",
     "traceback": [
      "\u001b[0;36m  Cell \u001b[0;32mIn[27], line 9\u001b[0;36m\u001b[0m\n\u001b[0;31m    remove rt\u001b[0m\n\u001b[0m           ^\u001b[0m\n\u001b[0;31mSyntaxError\u001b[0m\u001b[0;31m:\u001b[0m invalid syntax\n"
     ]
    }
   ],
   "source": [
    "from nltk.tokenize import word_tokenize\n",
    "def cleaning_text(data):\n",
    "    sentence = data[\"text\"]\n",
    "    # Basic cleaning\n",
    "    sentence = sentence.strip() ## remove whitespaces\n",
    "    sentence = sentence.lower() ## lowercase\n",
    "    sentence = ''.join(char for char in sentence if not char.isdigit()) ## remove numbers\n",
    "\n",
    "    remove rt\n",
    "    \n",
    "    \n",
    "    # Advanced cleaning\n",
    "    for punctuation in string.punctuation:\n",
    "        sentence = sentence.replace(punctuation, '') ## remove punctuation\n",
    "    \n",
    "\n",
    "    tokenized_sentence = word_tokenize(sentence) ## tokenize\n",
    "    stop_words = set(stopwords.words('english')) ## define stopwords\n",
    "\n",
    "    tokenized_sentence_cleaned = [ ## remove stopwords\n",
    "        w for w in tokenized_sentence if not w in stop_words\n",
    "    ]\n",
    "\n",
    "    lemmatized = [\n",
    "        WordNetLemmatizer().lemmatize(word, pos = \"v\")\n",
    "        for word in tokenized_sentence_cleaned\n",
    "    ]\n",
    "\n",
    "    cleaned_sentence = ' '.join(word for word in lemmatized)\n",
    "\n",
    "    return cleaned_sentence\n"
   ]
  },
  {
   "cell_type": "code",
   "execution_count": null,
   "id": "2161d7f5",
   "metadata": {},
   "outputs": [],
   "source": [
    "data_cleaned"
   ]
  },
  {
   "cell_type": "code",
   "execution_count": null,
   "id": "0f85fadd",
   "metadata": {},
   "outputs": [],
   "source": [
    "data_cleaned[\"new\"] = data_cleaned[\"text\"].apply(cleaning_text)\n",
    "data_cleaned"
   ]
  },
  {
   "cell_type": "code",
   "execution_count": null,
   "id": "ce70d186",
   "metadata": {},
   "outputs": [],
   "source": [
    "data_cleaned.sample(10)"
   ]
  },
  {
   "cell_type": "markdown",
   "id": "64c679f7-846a-49e3-9c44-c105fb034ae4",
   "metadata": {},
   "source": [
    "## work on vectorizing"
   ]
  },
  {
   "cell_type": "code",
   "execution_count": 117,
   "id": "301a6c7e",
   "metadata": {},
   "outputs": [],
   "source": [
    "import numpy as np\n",
    "import pandas as pd\n",
    "import seaborn as sns\n",
    "\n",
    "from sklearn.model_selection import cross_validate\n",
    "from sklearn.pipeline import make_pipeline\n",
    "from sklearn.feature_extraction.text import TfidfVectorizer\n",
    "from sklearn.naive_bayes import MultinomialNB\n",
    "from sklearn.metrics import recall_score\n",
    "\n"
   ]
  },
  {
   "cell_type": "code",
   "execution_count": 118,
   "id": "60dbebbc-cb7b-4cac-ba84-94e08eb8faeb",
   "metadata": {},
   "outputs": [],
   "source": [
    "data_processed = pd.read_csv(\"/home/mariannettrd/code/irismarechal1997/moder_ia/data/processed_dataset_v1.csv\")"
   ]
  },
  {
   "cell_type": "code",
   "execution_count": 119,
   "id": "e29ce90d-998a-4ebd-866a-e6ae90de785d",
   "metadata": {},
   "outputs": [
    {
     "data": {
      "text/html": [
       "<div>\n",
       "<style scoped>\n",
       "    .dataframe tbody tr th:only-of-type {\n",
       "        vertical-align: middle;\n",
       "    }\n",
       "\n",
       "    .dataframe tbody tr th {\n",
       "        vertical-align: top;\n",
       "    }\n",
       "\n",
       "    .dataframe thead th {\n",
       "        text-align: right;\n",
       "    }\n",
       "</style>\n",
       "<table border=\"1\" class=\"dataframe\">\n",
       "  <thead>\n",
       "    <tr style=\"text-align: right;\">\n",
       "      <th></th>\n",
       "      <th>source</th>\n",
       "      <th>text</th>\n",
       "      <th>offensive</th>\n",
       "      <th>text_processed</th>\n",
       "    </tr>\n",
       "  </thead>\n",
       "  <tbody>\n",
       "    <tr>\n",
       "      <th>0</th>\n",
       "      <td>Hate_Speech_Classification_01</td>\n",
       "      <td>dalits are lowlives</td>\n",
       "      <td>1</td>\n",
       "      <td>dalits be lowlives</td>\n",
       "    </tr>\n",
       "    <tr>\n",
       "      <th>1</th>\n",
       "      <td>Hate_Speech_Classification_01</td>\n",
       "      <td>gay people are a burden to our society</td>\n",
       "      <td>1</td>\n",
       "      <td>gay people be a burden to our society</td>\n",
       "    </tr>\n",
       "    <tr>\n",
       "      <th>2</th>\n",
       "      <td>Hate_Speech_Classification_01</td>\n",
       "      <td>Arabs are not welcome</td>\n",
       "      <td>1</td>\n",
       "      <td>arabs be not welcome</td>\n",
       "    </tr>\n",
       "    <tr>\n",
       "      <th>3</th>\n",
       "      <td>Hate_Speech_Classification_01</td>\n",
       "      <td>I'm not saying we should actually eliminate he...</td>\n",
       "      <td>1</td>\n",
       "      <td>im not say we should actually eliminate heebs ...</td>\n",
       "    </tr>\n",
       "    <tr>\n",
       "      <th>4</th>\n",
       "      <td>Hate_Speech_Classification_01</td>\n",
       "      <td>bananas are for black people</td>\n",
       "      <td>1</td>\n",
       "      <td>bananas be for black people</td>\n",
       "    </tr>\n",
       "  </tbody>\n",
       "</table>\n",
       "</div>"
      ],
      "text/plain": [
       "                          source  \\\n",
       "0  Hate_Speech_Classification_01   \n",
       "1  Hate_Speech_Classification_01   \n",
       "2  Hate_Speech_Classification_01   \n",
       "3  Hate_Speech_Classification_01   \n",
       "4  Hate_Speech_Classification_01   \n",
       "\n",
       "                                                text  offensive  \\\n",
       "0                                dalits are lowlives          1   \n",
       "1             gay people are a burden to our society          1   \n",
       "2                              Arabs are not welcome          1   \n",
       "3  I'm not saying we should actually eliminate he...          1   \n",
       "4                       bananas are for black people          1   \n",
       "\n",
       "                                      text_processed  \n",
       "0                                 dalits be lowlives  \n",
       "1              gay people be a burden to our society  \n",
       "2                               arabs be not welcome  \n",
       "3  im not say we should actually eliminate heebs ...  \n",
       "4                        bananas be for black people  "
      ]
     },
     "execution_count": 119,
     "metadata": {},
     "output_type": "execute_result"
    }
   ],
   "source": [
    "data_processed.head()"
   ]
  },
  {
   "cell_type": "code",
   "execution_count": 120,
   "id": "b6d1da07-c2af-43a2-aad2-9faf81cf6eea",
   "metadata": {},
   "outputs": [
    {
     "data": {
      "text/plain": [
       "offensive\n",
       "1    0.61\n",
       "0    0.39\n",
       "Name: proportion, dtype: float64"
      ]
     },
     "execution_count": 120,
     "metadata": {},
     "output_type": "execute_result"
    }
   ],
   "source": [
    "round(data_processed[\"offensive\"].value_counts(normalize = True), 2)"
   ]
  },
  {
   "cell_type": "code",
   "execution_count": 121,
   "id": "0c3968b9-667a-4249-b210-995133c202e4",
   "metadata": {},
   "outputs": [
    {
     "data": {
      "text/plain": [
       "(103378, 4)"
      ]
     },
     "execution_count": 121,
     "metadata": {},
     "output_type": "execute_result"
    }
   ],
   "source": [
    "data_processed.shape"
   ]
  },
  {
   "cell_type": "code",
   "execution_count": 122,
   "id": "f34edfef-e2a0-48bf-be8b-afcab2de8adb",
   "metadata": {},
   "outputs": [
    {
     "name": "stderr",
     "output_type": "stream",
     "text": [
      "/home/mariannettrd/.pyenv/versions/3.10.6/envs/moder_ia/lib/python3.10/site-packages/seaborn/_oldcore.py:1498: FutureWarning: is_categorical_dtype is deprecated and will be removed in a future version. Use isinstance(dtype, CategoricalDtype) instead\n",
      "  if pd.api.types.is_categorical_dtype(vector):\n",
      "/home/mariannettrd/.pyenv/versions/3.10.6/envs/moder_ia/lib/python3.10/site-packages/seaborn/_oldcore.py:1498: FutureWarning: is_categorical_dtype is deprecated and will be removed in a future version. Use isinstance(dtype, CategoricalDtype) instead\n",
      "  if pd.api.types.is_categorical_dtype(vector):\n",
      "/home/mariannettrd/.pyenv/versions/3.10.6/envs/moder_ia/lib/python3.10/site-packages/seaborn/_oldcore.py:1498: FutureWarning: is_categorical_dtype is deprecated and will be removed in a future version. Use isinstance(dtype, CategoricalDtype) instead\n",
      "  if pd.api.types.is_categorical_dtype(vector):\n"
     ]
    },
    {
     "data": {
      "text/plain": [
       "<Axes: xlabel='offensive', ylabel='count'>"
      ]
     },
     "execution_count": 122,
     "metadata": {},
     "output_type": "execute_result"
    },
    {
     "data": {
      "image/png": "[encoded data removed]",
      "text/plain": [
       "<Figure size 640x480 with 1 Axes>"
      ]
     },
     "metadata": {},
     "output_type": "display_data"
    }
   ],
   "source": [
    "sns.countplot(x = \"offensive\",data = data_processed)"
   ]
  },
  {
   "cell_type": "code",
   "execution_count": 123,
   "id": "4223dcb2-a678-4389-be9e-f4270a697930",
   "metadata": {},
   "outputs": [
    {
     "data": {
      "text/html": [
       "<div>\n",
       "<style scoped>\n",
       "    .dataframe tbody tr th:only-of-type {\n",
       "        vertical-align: middle;\n",
       "    }\n",
       "\n",
       "    .dataframe tbody tr th {\n",
       "        vertical-align: top;\n",
       "    }\n",
       "\n",
       "    .dataframe thead th {\n",
       "        text-align: right;\n",
       "    }\n",
       "</style>\n",
       "<table border=\"1\" class=\"dataframe\">\n",
       "  <thead>\n",
       "    <tr style=\"text-align: right;\">\n",
       "      <th></th>\n",
       "      <th>source</th>\n",
       "      <th>text</th>\n",
       "      <th>offensive</th>\n",
       "      <th>text_processed</th>\n",
       "    </tr>\n",
       "  </thead>\n",
       "  <tbody>\n",
       "    <tr>\n",
       "      <th>0</th>\n",
       "      <td>Hate_Speech_Classification_01</td>\n",
       "      <td>dalits are lowlives</td>\n",
       "      <td>1</td>\n",
       "      <td>dalits be lowlives</td>\n",
       "    </tr>\n",
       "    <tr>\n",
       "      <th>1</th>\n",
       "      <td>Hate_Speech_Classification_01</td>\n",
       "      <td>gay people are a burden to our society</td>\n",
       "      <td>1</td>\n",
       "      <td>gay people be a burden to our society</td>\n",
       "    </tr>\n",
       "    <tr>\n",
       "      <th>2</th>\n",
       "      <td>Hate_Speech_Classification_01</td>\n",
       "      <td>Arabs are not welcome</td>\n",
       "      <td>1</td>\n",
       "      <td>arabs be not welcome</td>\n",
       "    </tr>\n",
       "    <tr>\n",
       "      <th>3</th>\n",
       "      <td>Hate_Speech_Classification_01</td>\n",
       "      <td>I'm not saying we should actually eliminate he...</td>\n",
       "      <td>1</td>\n",
       "      <td>im not say we should actually eliminate heebs ...</td>\n",
       "    </tr>\n",
       "    <tr>\n",
       "      <th>4</th>\n",
       "      <td>Hate_Speech_Classification_01</td>\n",
       "      <td>bananas are for black people</td>\n",
       "      <td>1</td>\n",
       "      <td>bananas be for black people</td>\n",
       "    </tr>\n",
       "  </tbody>\n",
       "</table>\n",
       "</div>"
      ],
      "text/plain": [
       "                          source  \\\n",
       "0  Hate_Speech_Classification_01   \n",
       "1  Hate_Speech_Classification_01   \n",
       "2  Hate_Speech_Classification_01   \n",
       "3  Hate_Speech_Classification_01   \n",
       "4  Hate_Speech_Classification_01   \n",
       "\n",
       "                                                text  offensive  \\\n",
       "0                                dalits are lowlives          1   \n",
       "1             gay people are a burden to our society          1   \n",
       "2                              Arabs are not welcome          1   \n",
       "3  I'm not saying we should actually eliminate he...          1   \n",
       "4                       bananas are for black people          1   \n",
       "\n",
       "                                      text_processed  \n",
       "0                                 dalits be lowlives  \n",
       "1              gay people be a burden to our society  \n",
       "2                               arabs be not welcome  \n",
       "3  im not say we should actually eliminate heebs ...  \n",
       "4                        bananas be for black people  "
      ]
     },
     "execution_count": 123,
     "metadata": {},
     "output_type": "execute_result"
    }
   ],
   "source": [
    "data_processed.head()"
   ]
  },
  {
   "cell_type": "code",
   "execution_count": 124,
   "id": "606e75d9",
   "metadata": {},
   "outputs": [
    {
     "name": "stdout",
     "output_type": "stream",
     "text": [
      "(103378,)\n",
      "(103378,)\n"
     ]
    },
    {
     "data": {
      "text/plain": [
       "(None, None)"
      ]
     },
     "execution_count": 124,
     "metadata": {},
     "output_type": "execute_result"
    }
   ],
   "source": [
    "# Feature/Target\n",
    "X = data_processed[\"text_processed\"]\n",
    "y = data_processed[\"offensive\"]\n",
    "\n",
    "print(X.shape), print(y.shape)"
   ]
  },
  {
   "cell_type": "code",
   "execution_count": 125,
   "id": "c3a3eade-e98e-4f8f-8458-fc6c15ddfa29",
   "metadata": {},
   "outputs": [
    {
     "data": {
      "text/html": [
       "<div>\n",
       "<style scoped>\n",
       "    .dataframe tbody tr th:only-of-type {\n",
       "        vertical-align: middle;\n",
       "    }\n",
       "\n",
       "    .dataframe tbody tr th {\n",
       "        vertical-align: top;\n",
       "    }\n",
       "\n",
       "    .dataframe thead th {\n",
       "        text-align: right;\n",
       "    }\n",
       "</style>\n",
       "<table border=\"1\" class=\"dataframe\">\n",
       "  <thead>\n",
       "    <tr style=\"text-align: right;\">\n",
       "      <th></th>\n",
       "      <th>source</th>\n",
       "      <th>text</th>\n",
       "      <th>offensive</th>\n",
       "      <th>text_processed</th>\n",
       "    </tr>\n",
       "  </thead>\n",
       "  <tbody>\n",
       "  </tbody>\n",
       "</table>\n",
       "</div>"
      ],
      "text/plain": [
       "Empty DataFrame\n",
       "Columns: [source, text, offensive, text_processed]\n",
       "Index: []"
      ]
     },
     "execution_count": 125,
     "metadata": {},
     "output_type": "execute_result"
    }
   ],
   "source": [
    "data_processed[data_processed[\"text_processed\"].isnull()]"
   ]
  },
  {
   "cell_type": "code",
   "execution_count": 126,
   "id": "271715d9-b392-4b21-b648-801eb82f97c9",
   "metadata": {},
   "outputs": [
    {
     "data": {
      "text/plain": [
       "Series([], Name: text_processed, dtype: object)"
      ]
     },
     "execution_count": 126,
     "metadata": {},
     "output_type": "execute_result"
    }
   ],
   "source": [
    "X[X.isnull()]"
   ]
  },
  {
   "cell_type": "code",
   "execution_count": 132,
   "id": "1a0d3a5b",
   "metadata": {},
   "outputs": [],
   "source": [
    "# Pipeline vectorizer + Naive Bayes\n",
    "pipeline_naive_bayes = make_pipeline(\n",
    "    TfidfVectorizer(), \n",
    "    MultinomialNB()\n",
    ")"
   ]
  },
  {
   "cell_type": "code",
   "execution_count": 133,
   "id": "3c6decbd",
   "metadata": {},
   "outputs": [
    {
     "data": {
      "text/plain": [
       "0.64"
      ]
     },
     "execution_count": 133,
     "metadata": {},
     "output_type": "execute_result"
    }
   ],
   "source": [
    "# Cross-validation\n",
    "cv_results = cross_validate(pipeline_naive_bayes, X, y, cv = 5, scoring = [\"precision\",\"recall\", \"accuracy\"], error_score='raise')\n",
    "average_precision = cv_results[\"test_precision\"].mean()\n",
    "np.round(average_precision,2)"
   ]
  },
  {
   "cell_type": "code",
   "execution_count": 136,
   "id": "16f7c2d1-c87f-492c-a127-2eaae5ef82e9",
   "metadata": {},
   "outputs": [
    {
     "data": {
      "text/plain": [
       "{'fit_time': array([3.68085957, 3.02870965, 3.44175768, 3.29836273, 3.03456998]),\n",
       " 'score_time': array([0.89216208, 0.92241526, 0.5664556 , 0.60817504, 1.0434866 ]),\n",
       " 'test_precision': array([0.64596985, 0.62771172, 0.64261326, 0.64342693, 0.63442885]),\n",
       " 'test_recall': array([0.80154721, 0.95018945, 0.99542153, 0.95508368, 0.8777234 ]),\n",
       " 'test_accuracy': array([0.60925711, 0.62420197, 0.65800929, 0.64817412, 0.61518742])}"
      ]
     },
     "execution_count": 136,
     "metadata": {},
     "output_type": "execute_result"
    }
   ],
   "source": [
    "cv_results"
   ]
  },
  {
   "cell_type": "code",
   "execution_count": 149,
   "id": "d9c86d8c-2ab4-4e5b-b4ae-0d1da98ede83",
   "metadata": {},
   "outputs": [],
   "source": [
    "average_precision = round(cv_results[\"test_precision\"].mean(),2)\n",
    "average_recall = round(cv_results[\"test_recall\"].mean(),2)\n",
    "average_accuracy = round(cv_results[\"test_accuracy\"].mean(),2)"
   ]
  },
  {
   "cell_type": "code",
   "execution_count": 150,
   "id": "0b473726-bf64-4b76-bfff-0c9d33cbc66d",
   "metadata": {},
   "outputs": [
    {
     "data": {
      "text/plain": [
       "'precision score is 0.64, recall score is 0.92, accuracy score is 0.63'"
      ]
     },
     "execution_count": 150,
     "metadata": {},
     "output_type": "execute_result"
    }
   ],
   "source": [
    "f'precision score is {average_precision}, recall score is {average_recall}, accuracy score is {average_accuracy}'\n"
   ]
  },
  {
   "cell_type": "code",
   "execution_count": null,
   "id": "1b9f0996-38f1-4b15-baa3-2e4152afc88e",
   "metadata": {},
   "outputs": [],
   "source": []
  },
  {
   "cell_type": "code",
   "execution_count": 158,
   "id": "a746d45b-0678-47de-957a-345dc1757391",
   "metadata": {},
   "outputs": [
    {
     "name": "stdout",
     "output_type": "stream",
     "text": [
      " vectorized_reviews.shape = (103378, 5000)\n"
     ]
    }
   ],
   "source": [
    "vectorizer = TfidfVectorizer(max_df = 0.75, max_features = 5000, ngram_range=(1,2))\n",
    "vectorized_reviews = pd.DataFrame(vectorizer.fit_transform(data_processed[\"text_processed\"]).toarray(),\n",
    "                                 columns = vectorizer.get_feature_names_out())\n",
    "\n",
    "print(f\" vectorized_reviews.shape = {vectorized_reviews.shape}\")"
   ]
  },
  {
   "cell_type": "code",
   "execution_count": 163,
   "id": "e3951093-c92c-49cd-abc2-d87183c3a8d4",
   "metadata": {},
   "outputs": [],
   "source": [
    "def baseline_model(processed=True):\n",
    "\n",
    "    X_proc = data_processed[\"text_processed\"]\n",
    "    X = data_processed[\"text\"]\n",
    "    y = data_processed[\"offensive\"]\n",
    "\n",
    "    pipeline_naive_bayes = make_pipeline(\n",
    "    TfidfVectorizer(),\n",
    "    MultinomialNB())\n",
    "\n",
    "    if processed:\n",
    "        model = pipeline_naive_bayes.fit(X_proc, y)\n",
    "\n",
    "    else:\n",
    "        model = pipeline_naive_bayes.fit(X, y)\n",
    "\n",
    "    print(f\"model trained, accuracy score is {round(model.score(X,y),2)}\")\n",
    "    return model"
   ]
  },
  {
   "cell_type": "code",
   "execution_count": 164,
   "id": "6c6d0337-8b56-4960-9204-f6d1c0740179",
   "metadata": {},
   "outputs": [
    {
     "name": "stdout",
     "output_type": "stream",
     "text": [
      "model trained, accuracy score is 0.71\n"
     ]
    },
    {
     "data": {
      "text/html": [
       "<style>#sk-container-id-4 {color: black;}#sk-container-id-4 pre{padding: 0;}#sk-container-id-4 div.sk-toggleable {background-color: white;}#sk-container-id-4 label.sk-toggleable__label {cursor: pointer;display: block;width: 100%;margin-bottom: 0;padding: 0.3em;box-sizing: border-box;text-align: center;}#sk-container-id-4 label.sk-toggleable__label-arrow:before {content: \"▸\";float: left;margin-right: 0.25em;color: #696969;}#sk-container-id-4 label.sk-toggleable__label-arrow:hover:before {color: black;}#sk-container-id-4 div.sk-estimator:hover label.sk-toggleable__label-arrow:before {color: black;}#sk-container-id-4 div.sk-toggleable__content {max-height: 0;max-width: 0;overflow: hidden;text-align: left;background-color: #f0f8ff;}#sk-container-id-4 div.sk-toggleable__content pre {margin: 0.2em;color: black;border-radius: 0.25em;background-color: #f0f8ff;}#sk-container-id-4 input.sk-toggleable__control:checked~div.sk-toggleable__content {max-height: 200px;max-width: 100%;overflow: auto;}#sk-container-id-4 input.sk-toggleable__control:checked~label.sk-toggleable__label-arrow:before {content: \"▾\";}#sk-container-id-4 div.sk-estimator input.sk-toggleable__control:checked~label.sk-toggleable__label {background-color: #d4ebff;}#sk-container-id-4 div.sk-label input.sk-toggleable__control:checked~label.sk-toggleable__label {background-color: #d4ebff;}#sk-container-id-4 input.sk-hidden--visually {border: 0;clip: rect(1px 1px 1px 1px);clip: rect(1px, 1px, 1px, 1px);height: 1px;margin: -1px;overflow: hidden;padding: 0;position: absolute;width: 1px;}#sk-container-id-4 div.sk-estimator {font-family: monospace;background-color: #f0f8ff;border: 1px dotted black;border-radius: 0.25em;box-sizing: border-box;margin-bottom: 0.5em;}#sk-container-id-4 div.sk-estimator:hover {background-color: #d4ebff;}#sk-container-id-4 div.sk-parallel-item::after {content: \"\";width: 100%;border-bottom: 1px solid gray;flex-grow: 1;}#sk-container-id-4 div.sk-label:hover label.sk-toggleable__label {background-color: #d4ebff;}#sk-container-id-4 div.sk-serial::before {content: \"\";position: absolute;border-left: 1px solid gray;box-sizing: border-box;top: 0;bottom: 0;left: 50%;z-index: 0;}#sk-container-id-4 div.sk-serial {display: flex;flex-direction: column;align-items: center;background-color: white;padding-right: 0.2em;padding-left: 0.2em;position: relative;}#sk-container-id-4 div.sk-item {position: relative;z-index: 1;}#sk-container-id-4 div.sk-parallel {display: flex;align-items: stretch;justify-content: center;background-color: white;position: relative;}#sk-container-id-4 div.sk-item::before, #sk-container-id-4 div.sk-parallel-item::before {content: \"\";position: absolute;border-left: 1px solid gray;box-sizing: border-box;top: 0;bottom: 0;left: 50%;z-index: -1;}#sk-container-id-4 div.sk-parallel-item {display: flex;flex-direction: column;z-index: 1;position: relative;background-color: white;}#sk-container-id-4 div.sk-parallel-item:first-child::after {align-self: flex-end;width: 50%;}#sk-container-id-4 div.sk-parallel-item:last-child::after {align-self: flex-start;width: 50%;}#sk-container-id-4 div.sk-parallel-item:only-child::after {width: 0;}#sk-container-id-4 div.sk-dashed-wrapped {border: 1px dashed gray;margin: 0 0.4em 0.5em 0.4em;box-sizing: border-box;padding-bottom: 0.4em;background-color: white;}#sk-container-id-4 div.sk-label label {font-family: monospace;font-weight: bold;display: inline-block;line-height: 1.2em;}#sk-container-id-4 div.sk-label-container {text-align: center;}#sk-container-id-4 div.sk-container {/* jupyter's `normalize.less` sets `[hidden] { display: none; }` but bootstrap.min.css set `[hidden] { display: none !important; }` so we also need the `!important` here to be able to override the default hidden behavior on the sphinx rendered scikit-learn.org. See: https://github.com/scikit-learn/scikit-learn/issues/21755 */display: inline-block !important;position: relative;}#sk-container-id-4 div.sk-text-repr-fallback {display: none;}</style><div id=\"sk-container-id-4\" class=\"sk-top-container\"><div class=\"sk-text-repr-fallback\"><pre>Pipeline(steps=[(&#x27;tfidfvectorizer&#x27;, TfidfVectorizer()),\n",
       "                (&#x27;multinomialnb&#x27;, MultinomialNB())])</pre><b>In a Jupyter environment, please rerun this cell to show the HTML representation or trust the notebook. <br />On GitHub, the HTML representation is unable to render, please try loading this page with nbviewer.org.</b></div><div class=\"sk-container\" hidden><div class=\"sk-item sk-dashed-wrapped\"><div class=\"sk-label-container\"><div class=\"sk-label sk-toggleable\"><input class=\"sk-toggleable__control sk-hidden--visually\" id=\"sk-estimator-id-10\" type=\"checkbox\" ><label for=\"sk-estimator-id-10\" class=\"sk-toggleable__label sk-toggleable__label-arrow\">Pipeline</label><div class=\"sk-toggleable__content\"><pre>Pipeline(steps=[(&#x27;tfidfvectorizer&#x27;, TfidfVectorizer()),\n",
       "                (&#x27;multinomialnb&#x27;, MultinomialNB())])</pre></div></div></div><div class=\"sk-serial\"><div class=\"sk-item\"><div class=\"sk-estimator sk-toggleable\"><input class=\"sk-toggleable__control sk-hidden--visually\" id=\"sk-estimator-id-11\" type=\"checkbox\" ><label for=\"sk-estimator-id-11\" class=\"sk-toggleable__label sk-toggleable__label-arrow\">TfidfVectorizer</label><div class=\"sk-toggleable__content\"><pre>TfidfVectorizer()</pre></div></div></div><div class=\"sk-item\"><div class=\"sk-estimator sk-toggleable\"><input class=\"sk-toggleable__control sk-hidden--visually\" id=\"sk-estimator-id-12\" type=\"checkbox\" ><label for=\"sk-estimator-id-12\" class=\"sk-toggleable__label sk-toggleable__label-arrow\">MultinomialNB</label><div class=\"sk-toggleable__content\"><pre>MultinomialNB()</pre></div></div></div></div></div></div></div>"
      ],
      "text/plain": [
       "Pipeline(steps=[('tfidfvectorizer', TfidfVectorizer()),\n",
       "                ('multinomialnb', MultinomialNB())])"
      ]
     },
     "execution_count": 164,
     "metadata": {},
     "output_type": "execute_result"
    }
   ],
   "source": [
    "baseline_model()"
   ]
  },
  {
   "cell_type": "code",
   "execution_count": null,
   "id": "edcebd0d-4fd0-42e2-a4d9-f49b7b6b77b3",
   "metadata": {},
   "outputs": [],
   "source": []
  }
 ],
 "metadata": {
  "kernelspec": {
   "display_name": "Python 3 (ipykernel)",
   "language": "python",
   "name": "python3"
  },
  "language_info": {
   "codemirror_mode": {
    "name": "ipython",
    "version": 3
   },
   "file_extension": ".py",
   "mimetype": "text/x-python",
   "name": "python",
   "nbconvert_exporter": "python",
   "pygments_lexer": "ipython3",
   "version": "3.10.6"
  },
  "toc": {
   "base_numbering": 1,
   "nav_menu": {},
   "number_sections": true,
   "sideBar": true,
   "skip_h1_title": false,
   "title_cell": "Table of Contents",
   "title_sidebar": "Contents",
   "toc_cell": false,
   "toc_position": {},
   "toc_section_display": true,
   "toc_window_display": false
  }
 },
 "nbformat": 4,
 "nbformat_minor": 5
}
