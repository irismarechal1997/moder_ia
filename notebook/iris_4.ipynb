{
 "cells": [
  {
   "cell_type": "code",
   "execution_count": 1,
   "id": "41478016-dc11-4a91-b58d-77de2493a0b3",
   "metadata": {},
   "outputs": [
    {
     "name": "stderr",
     "output_type": "stream",
     "text": [
      "2023-09-19 15:34:50.131984: I tensorflow/core/platform/cpu_feature_guard.cc:182] This TensorFlow binary is optimized to use available CPU instructions in performance-critical operations.\n",
      "To enable the following instructions: AVX2 FMA, in other operations, rebuild TensorFlow with the appropriate compiler flags.\n"
     ]
    }
   ],
   "source": [
    "import pandas as pd \n",
    "from langdetect import detect\n",
    "import tensorflow as tf\n",
    "import transformers\n",
    "from transformers import BertConfig, AutoTokenizer, TFBertModel, BertTokenizer, TFBertForSequenceClassification, BertModel\n",
    "from sklearn.model_selection import train_test_split\n",
    "from sklearn.metrics import classification_report\n",
    "import numpy as np \n",
    "import seaborn as sns\n",
    "import matplotlib.pyplot as plt\n",
    "from sklearn.metrics import hamming_loss\n"
   ]
  },
  {
   "cell_type": "code",
   "execution_count": 2,
   "id": "64ba17d1-0890-4acb-a936-80d1b20f2c53",
   "metadata": {},
   "outputs": [],
   "source": [
    "data=pd.read_csv('../raw_data/measuring_hate_speech.csv')\n"
   ]
  },
  {
   "cell_type": "code",
   "execution_count": 3,
   "id": "310122db-fd1c-45fa-8e31-b948609c2efe",
   "metadata": {},
   "outputs": [],
   "source": [
    "word='annotator'\n",
    "columns_to_drop = [col for col in data.columns if word in col]\n",
    "data.drop(columns=columns_to_drop, inplace=True)"
   ]
  },
  {
   "cell_type": "code",
   "execution_count": 4,
   "id": "6aeaa178-7e23-4901-9609-75cd91babd85",
   "metadata": {},
   "outputs": [
    {
     "data": {
      "text/plain": [
       "(135556, 71)"
      ]
     },
     "execution_count": 4,
     "metadata": {},
     "output_type": "execute_result"
    }
   ],
   "source": [
    "data.shape"
   ]
  },
  {
   "cell_type": "code",
   "execution_count": 5,
   "id": "214d2aa8-543a-40ea-9f99-8cd89d625154",
   "metadata": {},
   "outputs": [],
   "source": [
    "columns_to_exclude=['comment_id','platform','sentiment', 'respect', 'insult', 'humiliate', 'status', 'dehumanize',\n",
    "       'violence', 'genocide', 'attack_defend', 'hatespeech','infitms', 'outfitms', 'std_err',\n",
    "       'hypothesis']\n",
    "selected_columns=[col for col in data.columns if col not in columns_to_exclude]\n",
    "data_1=data[selected_columns]\n"
   ]
  },
  {
   "cell_type": "code",
   "execution_count": 6,
   "id": "eea3085b-5435-4922-b114-c7c9d65678ae",
   "metadata": {},
   "outputs": [
    {
     "name": "stderr",
     "output_type": "stream",
     "text": [
      "/var/folders/r_/7c9slj0d4cq70zs43b75t3f80000gn/T/ipykernel_49910/1607479923.py:11: SettingWithCopyWarning: \n",
      "A value is trying to be set on a copy of a slice from a DataFrame.\n",
      "Try using .loc[row_indexer,col_indexer] = value instead\n",
      "\n",
      "See the caveats in the documentation: https://pandas.pydata.org/pandas-docs/stable/user_guide/indexing.html#returning-a-view-versus-a-copy\n",
      "  data_1['target_gender_without_women'] = data_1[columns_to_sum].sum(axis=1)\n"
     ]
    }
   ],
   "source": [
    "# Extract column names with labels \"False\" and \"Right\"\n",
    "\n",
    "# Extract column names with labels \"False\" and \"Right\"\n",
    "columns_to_sum = ['target_gender_men',\n",
    "       'target_gender_non_binary','target_gender_transgender_men',\n",
    "       'target_gender_transgender_unspecified',\n",
    "       'target_gender_transgender_women',\n",
    "       'target_gender_other']\n",
    "\n",
    "# Sum the values in the selected columns\n",
    "data_1['target_gender_without_women'] = data_1[columns_to_sum].sum(axis=1)\n",
    "\n"
   ]
  },
  {
   "cell_type": "code",
   "execution_count": 7,
   "id": "1a752269-21ad-41ef-93d4-67388121ee5d",
   "metadata": {},
   "outputs": [],
   "source": [
    "columns_of_interest = ['text','hate_speech_score','target_race', 'target_religion', 'target_origin', 'target_gender_women','target_gender_without_women','target_sexuality','target_age','target_disability']\n",
    "\n",
    "data_1=data_1[columns_of_interest] \n"
   ]
  },
  {
   "cell_type": "code",
   "execution_count": 8,
   "id": "eb3aad7d-da95-46ca-80f0-6f6b8732ab7b",
   "metadata": {},
   "outputs": [
    {
     "data": {
      "text/plain": [
       "array([False,  True])"
      ]
     },
     "execution_count": 8,
     "metadata": {},
     "output_type": "execute_result"
    }
   ],
   "source": [
    "\n",
    "\n",
    "data_1['target_gender_without_women']=data_1['target_gender_without_women'].replace(0,False)\n",
    "data_1['target_gender_without_women']=data_1['target_gender_without_women'].replace(1,True)\n",
    "data_1['target_gender_without_women']=data_1['target_gender_without_women'].replace(2,True)\n",
    "data_1['target_gender_without_women']=data_1['target_gender_without_women'].replace(3,True)\n",
    "data_1['target_gender_without_women']=data_1['target_gender_without_women'].replace(4,True)\n",
    "data_1['target_gender_without_women']=data_1['target_gender_without_women'].replace(5,True)\n",
    "data_1['target_gender_without_women']=data_1['target_gender_without_women'].replace(6,True)\n",
    "data_1['target_gender_without_women'].unique()\n"
   ]
  },
  {
   "cell_type": "code",
   "execution_count": 9,
   "id": "d1eb404c-ec4b-4c5b-9450-bb95465aec32",
   "metadata": {},
   "outputs": [
    {
     "data": {
      "text/plain": [
       "array([ True, False])"
      ]
     },
     "execution_count": 9,
     "metadata": {},
     "output_type": "execute_result"
    }
   ],
   "source": [
    "data_1['target_race'].unique()"
   ]
  },
  {
   "cell_type": "code",
   "execution_count": 10,
   "id": "fb1cf80f-f1d9-4ecb-b621-f1e1dbab0d0f",
   "metadata": {},
   "outputs": [],
   "source": [
    "#data_1= data_1.astype(bool)\n",
    "#type(data_1['target_race'][0])"
   ]
  },
  {
   "cell_type": "code",
   "execution_count": 11,
   "id": "cdd8ed15-0453-44e1-a58e-5ff47d49ffa2",
   "metadata": {
    "scrolled": true
   },
   "outputs": [],
   "source": [
    "data_1['target_gender_without_women'] = data_1['target_gender_without_women'].apply(lambda x: x.replace(\"0\", \"False\") if isinstance(x, str) else x)\n",
    "data_1['target_gender_without_women'] = data_1['target_gender_without_women'].apply(lambda x: x.replace(\"1\", \"True\") if isinstance(x, str) else x)"
   ]
  },
  {
   "cell_type": "code",
   "execution_count": 12,
   "id": "1371cfa9-f5ec-43f7-8182-63045f78edcb",
   "metadata": {},
   "outputs": [],
   "source": [
    "count_df= pd.DataFrame(data_1.drop(['text','hate_speech_score'],axis=1).sum(axis=1)).rename({0:'count'},axis=1)"
   ]
  },
  {
   "cell_type": "code",
   "execution_count": 13,
   "id": "9585709d-784f-4075-9b54-8aa39c695839",
   "metadata": {},
   "outputs": [
    {
     "data": {
      "text/plain": [
       "count    0.479366\n",
       "dtype: float64"
      ]
     },
     "execution_count": 13,
     "metadata": {},
     "output_type": "execute_result"
    }
   ],
   "source": [
    "count_df[count_df['count']>1].sum()/len(count_df)"
   ]
  },
  {
   "cell_type": "code",
   "execution_count": 14,
   "id": "128f7a41-0e0f-4a3b-a3d2-eb5419414c13",
   "metadata": {},
   "outputs": [],
   "source": [
    "data_1.drop(columns =\"hate_speech_score\", inplace = True)\n",
    "\n",
    "data_1.rename(columns={'target_race': 'racism',\n",
    "              'target_religion': 'religion',\n",
    "              'target_origin': 'xenophobia',\n",
    "              'target_gender_women':'misogyny',\n",
    "              'target_gender_without_women':'transphobia',\n",
    "              'target_sexuality': 'homophobia',\n",
    "              'target_age': 'ageism',\n",
    "              'target_disability':'validism'}, inplace = True )\n"
   ]
  },
  {
   "cell_type": "code",
   "execution_count": 15,
   "id": "1623ec17-421d-45a2-b716-9fff3376c716",
   "metadata": {
    "scrolled": true
   },
   "outputs": [
    {
     "data": {
      "text/html": [
       "<div>\n",
       "<style scoped>\n",
       "    .dataframe tbody tr th:only-of-type {\n",
       "        vertical-align: middle;\n",
       "    }\n",
       "\n",
       "    .dataframe tbody tr th {\n",
       "        vertical-align: top;\n",
       "    }\n",
       "\n",
       "    .dataframe thead th {\n",
       "        text-align: right;\n",
       "    }\n",
       "</style>\n",
       "<table border=\"1\" class=\"dataframe\">\n",
       "  <thead>\n",
       "    <tr style=\"text-align: right;\">\n",
       "      <th></th>\n",
       "      <th>text</th>\n",
       "      <th>racism</th>\n",
       "      <th>religion</th>\n",
       "      <th>xenophobia</th>\n",
       "      <th>misogyny</th>\n",
       "      <th>transphobia</th>\n",
       "      <th>homophobia</th>\n",
       "      <th>ageism</th>\n",
       "      <th>validism</th>\n",
       "    </tr>\n",
       "  </thead>\n",
       "  <tbody>\n",
       "    <tr>\n",
       "      <th>0</th>\n",
       "      <td>Yes indeed. She sort of reminds me of the elde...</td>\n",
       "      <td>True</td>\n",
       "      <td>False</td>\n",
       "      <td>False</td>\n",
       "      <td>False</td>\n",
       "      <td>False</td>\n",
       "      <td>False</td>\n",
       "      <td>False</td>\n",
       "      <td>False</td>\n",
       "    </tr>\n",
       "    <tr>\n",
       "      <th>1</th>\n",
       "      <td>The trans women reading this tweet right now i...</td>\n",
       "      <td>False</td>\n",
       "      <td>False</td>\n",
       "      <td>False</td>\n",
       "      <td>False</td>\n",
       "      <td>True</td>\n",
       "      <td>False</td>\n",
       "      <td>False</td>\n",
       "      <td>False</td>\n",
       "    </tr>\n",
       "    <tr>\n",
       "      <th>2</th>\n",
       "      <td>Question: These 4 broads who criticize America...</td>\n",
       "      <td>False</td>\n",
       "      <td>False</td>\n",
       "      <td>True</td>\n",
       "      <td>False</td>\n",
       "      <td>False</td>\n",
       "      <td>False</td>\n",
       "      <td>False</td>\n",
       "      <td>False</td>\n",
       "    </tr>\n",
       "    <tr>\n",
       "      <th>3</th>\n",
       "      <td>It is about time for all illegals to go back t...</td>\n",
       "      <td>False</td>\n",
       "      <td>False</td>\n",
       "      <td>True</td>\n",
       "      <td>False</td>\n",
       "      <td>False</td>\n",
       "      <td>False</td>\n",
       "      <td>False</td>\n",
       "      <td>False</td>\n",
       "    </tr>\n",
       "    <tr>\n",
       "      <th>4</th>\n",
       "      <td>For starters bend over the one in pink and kic...</td>\n",
       "      <td>False</td>\n",
       "      <td>False</td>\n",
       "      <td>False</td>\n",
       "      <td>True</td>\n",
       "      <td>False</td>\n",
       "      <td>False</td>\n",
       "      <td>False</td>\n",
       "      <td>False</td>\n",
       "    </tr>\n",
       "    <tr>\n",
       "      <th>...</th>\n",
       "      <td>...</td>\n",
       "      <td>...</td>\n",
       "      <td>...</td>\n",
       "      <td>...</td>\n",
       "      <td>...</td>\n",
       "      <td>...</td>\n",
       "      <td>...</td>\n",
       "      <td>...</td>\n",
       "      <td>...</td>\n",
       "    </tr>\n",
       "    <tr>\n",
       "      <th>135551</th>\n",
       "      <td>عاجل سماحة #السيد_عبدالملك_بدرالدين_الحوثي  نص...</td>\n",
       "      <td>False</td>\n",
       "      <td>True</td>\n",
       "      <td>False</td>\n",
       "      <td>False</td>\n",
       "      <td>False</td>\n",
       "      <td>False</td>\n",
       "      <td>False</td>\n",
       "      <td>False</td>\n",
       "    </tr>\n",
       "    <tr>\n",
       "      <th>135552</th>\n",
       "      <td>Millions of #Yemen-is participated in mass ral...</td>\n",
       "      <td>True</td>\n",
       "      <td>True</td>\n",
       "      <td>False</td>\n",
       "      <td>False</td>\n",
       "      <td>False</td>\n",
       "      <td>False</td>\n",
       "      <td>False</td>\n",
       "      <td>False</td>\n",
       "    </tr>\n",
       "    <tr>\n",
       "      <th>135553</th>\n",
       "      <td>@AbeShinzo @realDonaldTrump @shinzoabe 独裁者は行きま...</td>\n",
       "      <td>False</td>\n",
       "      <td>True</td>\n",
       "      <td>True</td>\n",
       "      <td>False</td>\n",
       "      <td>False</td>\n",
       "      <td>False</td>\n",
       "      <td>False</td>\n",
       "      <td>False</td>\n",
       "    </tr>\n",
       "    <tr>\n",
       "      <th>135554</th>\n",
       "      <td>Millions of #Yemen-is participated in mass ral...</td>\n",
       "      <td>False</td>\n",
       "      <td>True</td>\n",
       "      <td>False</td>\n",
       "      <td>False</td>\n",
       "      <td>False</td>\n",
       "      <td>False</td>\n",
       "      <td>False</td>\n",
       "      <td>False</td>\n",
       "    </tr>\n",
       "    <tr>\n",
       "      <th>135555</th>\n",
       "      <td>لا تتشمت الرجال مسكين يعاني كس امه 😂. يقول يال...</td>\n",
       "      <td>False</td>\n",
       "      <td>False</td>\n",
       "      <td>True</td>\n",
       "      <td>False</td>\n",
       "      <td>False</td>\n",
       "      <td>False</td>\n",
       "      <td>False</td>\n",
       "      <td>False</td>\n",
       "    </tr>\n",
       "  </tbody>\n",
       "</table>\n",
       "<p>134112 rows × 9 columns</p>\n",
       "</div>"
      ],
      "text/plain": [
       "                                                     text  racism  religion  \\\n",
       "0       Yes indeed. She sort of reminds me of the elde...    True     False   \n",
       "1       The trans women reading this tweet right now i...   False     False   \n",
       "2       Question: These 4 broads who criticize America...   False     False   \n",
       "3       It is about time for all illegals to go back t...   False     False   \n",
       "4       For starters bend over the one in pink and kic...   False     False   \n",
       "...                                                   ...     ...       ...   \n",
       "135551  عاجل سماحة #السيد_عبدالملك_بدرالدين_الحوثي  نص...   False      True   \n",
       "135552  Millions of #Yemen-is participated in mass ral...    True      True   \n",
       "135553  @AbeShinzo @realDonaldTrump @shinzoabe 独裁者は行きま...   False      True   \n",
       "135554  Millions of #Yemen-is participated in mass ral...   False      True   \n",
       "135555  لا تتشمت الرجال مسكين يعاني كس امه 😂. يقول يال...   False     False   \n",
       "\n",
       "        xenophobia  misogyny  transphobia  homophobia  ageism  validism  \n",
       "0            False     False        False       False   False     False  \n",
       "1            False     False         True       False   False     False  \n",
       "2             True     False        False       False   False     False  \n",
       "3             True     False        False       False   False     False  \n",
       "4            False      True        False       False   False     False  \n",
       "...            ...       ...          ...         ...     ...       ...  \n",
       "135551       False     False        False       False   False     False  \n",
       "135552       False     False        False       False   False     False  \n",
       "135553        True     False        False       False   False     False  \n",
       "135554       False     False        False       False   False     False  \n",
       "135555        True     False        False       False   False     False  \n",
       "\n",
       "[134112 rows x 9 columns]"
      ]
     },
     "execution_count": 15,
     "metadata": {},
     "output_type": "execute_result"
    }
   ],
   "source": [
    "def is_english(text):\n",
    "    try:\n",
    "        return detect(text) == 'en'\n",
    "    except:\n",
    "        return False\n",
    "\n",
    "# Appliquez la fonction pour filtrer les textes en anglais\n",
    "data_1 = data_1[data_1['text'].apply(is_english)]\n",
    "data_1"
   ]
  },
  {
   "cell_type": "code",
   "execution_count": 16,
   "id": "3ed66694-700c-4e44-8bc1-320673a352d8",
   "metadata": {},
   "outputs": [
    {
     "data": {
      "text/html": [
       "<div>\n",
       "<style scoped>\n",
       "    .dataframe tbody tr th:only-of-type {\n",
       "        vertical-align: middle;\n",
       "    }\n",
       "\n",
       "    .dataframe tbody tr th {\n",
       "        vertical-align: top;\n",
       "    }\n",
       "\n",
       "    .dataframe thead th {\n",
       "        text-align: right;\n",
       "    }\n",
       "</style>\n",
       "<table border=\"1\" class=\"dataframe\">\n",
       "  <thead>\n",
       "    <tr style=\"text-align: right;\">\n",
       "      <th></th>\n",
       "      <th>text</th>\n",
       "      <th>racism</th>\n",
       "      <th>religion</th>\n",
       "      <th>xenophobia</th>\n",
       "      <th>misogyny</th>\n",
       "      <th>transphobia</th>\n",
       "      <th>homophobia</th>\n",
       "      <th>ageism</th>\n",
       "      <th>validism</th>\n",
       "    </tr>\n",
       "  </thead>\n",
       "  <tbody>\n",
       "    <tr>\n",
       "      <th>0</th>\n",
       "      <td>Yes indeed. She sort of reminds me of the elde...</td>\n",
       "      <td>True</td>\n",
       "      <td>False</td>\n",
       "      <td>False</td>\n",
       "      <td>False</td>\n",
       "      <td>False</td>\n",
       "      <td>False</td>\n",
       "      <td>False</td>\n",
       "      <td>False</td>\n",
       "    </tr>\n",
       "    <tr>\n",
       "      <th>1</th>\n",
       "      <td>The trans women reading this tweet right now i...</td>\n",
       "      <td>False</td>\n",
       "      <td>False</td>\n",
       "      <td>False</td>\n",
       "      <td>False</td>\n",
       "      <td>True</td>\n",
       "      <td>False</td>\n",
       "      <td>False</td>\n",
       "      <td>False</td>\n",
       "    </tr>\n",
       "    <tr>\n",
       "      <th>2</th>\n",
       "      <td>Question: These 4 broads who criticize America...</td>\n",
       "      <td>False</td>\n",
       "      <td>False</td>\n",
       "      <td>True</td>\n",
       "      <td>False</td>\n",
       "      <td>False</td>\n",
       "      <td>False</td>\n",
       "      <td>False</td>\n",
       "      <td>False</td>\n",
       "    </tr>\n",
       "    <tr>\n",
       "      <th>3</th>\n",
       "      <td>It is about time for all illegals to go back t...</td>\n",
       "      <td>False</td>\n",
       "      <td>False</td>\n",
       "      <td>True</td>\n",
       "      <td>False</td>\n",
       "      <td>False</td>\n",
       "      <td>False</td>\n",
       "      <td>False</td>\n",
       "      <td>False</td>\n",
       "    </tr>\n",
       "    <tr>\n",
       "      <th>4</th>\n",
       "      <td>For starters bend over the one in pink and kic...</td>\n",
       "      <td>False</td>\n",
       "      <td>False</td>\n",
       "      <td>False</td>\n",
       "      <td>True</td>\n",
       "      <td>False</td>\n",
       "      <td>False</td>\n",
       "      <td>False</td>\n",
       "      <td>False</td>\n",
       "    </tr>\n",
       "    <tr>\n",
       "      <th>...</th>\n",
       "      <td>...</td>\n",
       "      <td>...</td>\n",
       "      <td>...</td>\n",
       "      <td>...</td>\n",
       "      <td>...</td>\n",
       "      <td>...</td>\n",
       "      <td>...</td>\n",
       "      <td>...</td>\n",
       "      <td>...</td>\n",
       "    </tr>\n",
       "    <tr>\n",
       "      <th>1001</th>\n",
       "      <td>Yeah, o.k. Then what? Europe and America will ...</td>\n",
       "      <td>True</td>\n",
       "      <td>False</td>\n",
       "      <td>True</td>\n",
       "      <td>False</td>\n",
       "      <td>False</td>\n",
       "      <td>False</td>\n",
       "      <td>False</td>\n",
       "      <td>False</td>\n",
       "    </tr>\n",
       "    <tr>\n",
       "      <th>1002</th>\n",
       "      <td>I thought they were gonna make mulan an irish ...</td>\n",
       "      <td>False</td>\n",
       "      <td>False</td>\n",
       "      <td>True</td>\n",
       "      <td>False</td>\n",
       "      <td>False</td>\n",
       "      <td>False</td>\n",
       "      <td>False</td>\n",
       "      <td>False</td>\n",
       "    </tr>\n",
       "    <tr>\n",
       "      <th>1003</th>\n",
       "      <td>I would eat your pussy and fuck you till you h...</td>\n",
       "      <td>False</td>\n",
       "      <td>False</td>\n",
       "      <td>False</td>\n",
       "      <td>True</td>\n",
       "      <td>False</td>\n",
       "      <td>False</td>\n",
       "      <td>False</td>\n",
       "      <td>False</td>\n",
       "    </tr>\n",
       "    <tr>\n",
       "      <th>1004</th>\n",
       "      <td>You are just as fucking retarded as the dumb t...</td>\n",
       "      <td>False</td>\n",
       "      <td>False</td>\n",
       "      <td>False</td>\n",
       "      <td>False</td>\n",
       "      <td>False</td>\n",
       "      <td>False</td>\n",
       "      <td>False</td>\n",
       "      <td>True</td>\n",
       "    </tr>\n",
       "    <tr>\n",
       "      <th>1005</th>\n",
       "      <td>Only issue is I hate pussies like you masquera...</td>\n",
       "      <td>False</td>\n",
       "      <td>False</td>\n",
       "      <td>False</td>\n",
       "      <td>False</td>\n",
       "      <td>True</td>\n",
       "      <td>False</td>\n",
       "      <td>False</td>\n",
       "      <td>False</td>\n",
       "    </tr>\n",
       "  </tbody>\n",
       "</table>\n",
       "<p>1000 rows × 9 columns</p>\n",
       "</div>"
      ],
      "text/plain": [
       "                                                   text  racism  religion  \\\n",
       "0     Yes indeed. She sort of reminds me of the elde...    True     False   \n",
       "1     The trans women reading this tweet right now i...   False     False   \n",
       "2     Question: These 4 broads who criticize America...   False     False   \n",
       "3     It is about time for all illegals to go back t...   False     False   \n",
       "4     For starters bend over the one in pink and kic...   False     False   \n",
       "...                                                 ...     ...       ...   \n",
       "1001  Yeah, o.k. Then what? Europe and America will ...    True     False   \n",
       "1002  I thought they were gonna make mulan an irish ...   False     False   \n",
       "1003  I would eat your pussy and fuck you till you h...   False     False   \n",
       "1004  You are just as fucking retarded as the dumb t...   False     False   \n",
       "1005  Only issue is I hate pussies like you masquera...   False     False   \n",
       "\n",
       "      xenophobia  misogyny  transphobia  homophobia  ageism  validism  \n",
       "0          False     False        False       False   False     False  \n",
       "1          False     False         True       False   False     False  \n",
       "2           True     False        False       False   False     False  \n",
       "3           True     False        False       False   False     False  \n",
       "4          False      True        False       False   False     False  \n",
       "...          ...       ...          ...         ...     ...       ...  \n",
       "1001        True     False        False       False   False     False  \n",
       "1002        True     False        False       False   False     False  \n",
       "1003       False      True        False       False   False     False  \n",
       "1004       False     False        False       False   False      True  \n",
       "1005       False     False         True       False   False     False  \n",
       "\n",
       "[1000 rows x 9 columns]"
      ]
     },
     "execution_count": 16,
     "metadata": {},
     "output_type": "execute_result"
    }
   ],
   "source": [
    "data_extracted=data_1[0:1000]\n",
    "data_extracted"
   ]
  },
  {
   "cell_type": "code",
   "execution_count": 17,
   "id": "7565c4a7-17dc-4a25-95e4-8cd9cf16945c",
   "metadata": {},
   "outputs": [],
   "source": [
    "# Step 1: Data Preparation\n",
    "# Load and preprocess your dataset (replace with your data loading code)\n",
    "\n",
    "texts = data_extracted['text']\n",
    "\n",
    "labels = data_extracted.drop(['text'],axis=1)"
   ]
  },
  {
   "cell_type": "code",
   "execution_count": 18,
   "id": "76c809a9-ae55-443b-86a7-5b7984198e2c",
   "metadata": {},
   "outputs": [
    {
     "data": {
      "text/plain": [
       "(1000,)"
      ]
     },
     "execution_count": 18,
     "metadata": {},
     "output_type": "execute_result"
    }
   ],
   "source": [
    "texts.shape"
   ]
  },
  {
   "cell_type": "code",
   "execution_count": 19,
   "id": "351ba2b8-f407-4599-b407-35d6ecc574b4",
   "metadata": {},
   "outputs": [
    {
     "data": {
      "text/plain": [
       "(1000, 8)"
      ]
     },
     "execution_count": 19,
     "metadata": {},
     "output_type": "execute_result"
    }
   ],
   "source": [
    "labels.shape"
   ]
  },
  {
   "cell_type": "code",
   "execution_count": 20,
   "id": "6f141eb2-91bf-453c-84b7-00ae007f788b",
   "metadata": {},
   "outputs": [],
   "source": [
    "text_to_encode=texts.values.tolist()"
   ]
  },
  {
   "cell_type": "code",
   "execution_count": 79,
   "id": "db48c85b-5601-4a3b-a856-aa2eec94965b",
   "metadata": {},
   "outputs": [
    {
     "name": "stderr",
     "output_type": "stream",
     "text": [
      "/Users/irismarechal/.pyenv/versions/3.10.6/envs/moder_ia/lib/python3.10/site-packages/seaborn/_oldcore.py:1498: FutureWarning: is_categorical_dtype is deprecated and will be removed in a future version. Use isinstance(dtype, CategoricalDtype) instead\n",
      "  if pd.api.types.is_categorical_dtype(vector):\n",
      "/Users/irismarechal/.pyenv/versions/3.10.6/envs/moder_ia/lib/python3.10/site-packages/seaborn/_oldcore.py:1119: FutureWarning: use_inf_as_na option is deprecated and will be removed in a future version. Convert inf values to NaN before operating instead.\n",
      "  with pd.option_context('mode.use_inf_as_na', True):\n"
     ]
    },
    {
     "data": {
      "image/png": "[encoded data removed]",
      "text/plain": [
       "<Figure size 640x480 with 1 Axes>"
      ]
     },
     "metadata": {},
     "output_type": "display_data"
    }
   ],
   "source": [
    "# Assuming you have a DataFrame named 'data' and a column named 'text_column' containing text\n",
    "# Calculate the lengths of the text in the 'text_column' and store them in a new column 'text_length'\n",
    "data_1['text_length'] = data_1['text'].apply(len)\n",
    "\n",
    "# Create a distribution plot using Seaborn\n",
    "sns.histplot(data=data_1, x=data_1['text_length'], bins=30, kde=True)\n",
    "\n",
    "# Add labels and title\n",
    "plt.xlabel('Text Length')\n",
    "plt.ylabel('Frequency')\n",
    "plt.title('Distribution of Text Lengths')\n",
    "\n",
    "# Show the plot\n",
    "plt.show()\n",
    "\n",
    "\n",
    "\n",
    "\n",
    "\n"
   ]
  },
  {
   "cell_type": "code",
   "execution_count": 69,
   "id": "0d0fe108-f82c-4e1d-9fea-5e2fcdfe84d6",
   "metadata": {},
   "outputs": [
    {
     "data": {
      "text/plain": [
       "1000"
      ]
     },
     "execution_count": 69,
     "metadata": {},
     "output_type": "execute_result"
    }
   ],
   "source": [
    "len(text_to_encode)"
   ]
  },
  {
   "cell_type": "code",
   "execution_count": 21,
   "id": "955a3d76-a7d4-47f7-a238-620c103e73ac",
   "metadata": {},
   "outputs": [],
   "source": [
    "# Split test set \n",
    "train_inputs, test_inputs, train_labels, test_labels = train_test_split(text_to_encode, labels, test_size=0.3, random_state=42)"
   ]
  },
  {
   "cell_type": "code",
   "execution_count": 22,
   "id": "41cdcbed-4db6-44f6-bba5-746b8b8ce669",
   "metadata": {
    "scrolled": true
   },
   "outputs": [],
   "source": [
    "# Encode text data into BERT-friendly format\n",
    "\n",
    "tokenizer = BertTokenizer.from_pretrained('bert-base-uncased')\n",
    "\n",
    "train_inputs_tokenized=tokenizer(train_inputs, add_special_tokens=True, truncation=True, max_length=200, padding='max_length', return_attention_mask=True, return_tensors='tf')\n",
    "\n",
    "test_inputs_tokenized=tokenizer(test_inputs, add_special_tokens=True, truncation=True, max_length=200, padding='max_length', return_attention_mask=True, return_tensors='tf')\n",
    "\n",
    "train_inputs_tuple = (train_inputs_tokenized['input_ids'], train_inputs_tokenized['token_type_ids'], train_inputs_tokenized['attention_mask'])\n",
    "test_inputs_tuple = (test_inputs_tokenized['input_ids'], test_inputs_tokenized['token_type_ids'], test_inputs_tokenized['attention_mask'])\n",
    "\n"
   ]
  },
  {
   "cell_type": "code",
   "execution_count": 23,
   "id": "f68ebd48-2f2f-40f5-bd79-4cf4327c4d60",
   "metadata": {},
   "outputs": [],
   "source": [
    "unique_classes = set()\n",
    "\n",
    "for label in labels:\n",
    "    unique_classes.update(label)\n",
    "\n",
    "num_classes = len(unique_classes)"
   ]
  },
  {
   "cell_type": "code",
   "execution_count": 24,
   "id": "8a2d4046-7e8c-425d-becc-5fc1f50a6ed0",
   "metadata": {},
   "outputs": [
    {
     "data": {
      "text/plain": [
       "19"
      ]
     },
     "execution_count": 24,
     "metadata": {},
     "output_type": "execute_result"
    }
   ],
   "source": [
    "num_classes"
   ]
  },
  {
   "cell_type": "code",
   "execution_count": 143,
   "id": "2a06c2b8-847b-48af-a421-149d7cc2bb5b",
   "metadata": {
    "scrolled": true
   },
   "outputs": [
    {
     "name": "stderr",
     "output_type": "stream",
     "text": [
      "All PyTorch model weights were used when initializing TFBertForSequenceClassification.\n",
      "\n",
      "Some weights or buffers of the TF 2.0 model TFBertForSequenceClassification were not initialized from the PyTorch model and are newly initialized: ['classifier.weight', 'classifier.bias']\n",
      "You should probably TRAIN this model on a down-stream task to be able to use it for predictions and inference.\n"
     ]
    }
   ],
   "source": [
    "# Step 2: Model Building\n",
    "model = TFBertForSequenceClassification.from_pretrained('bert-base-uncased',num_labels=8)\n"
   ]
  },
  {
   "cell_type": "code",
   "execution_count": 144,
   "id": "8cd2e151-cf4f-48c7-9f4c-5b58f21bbdf4",
   "metadata": {},
   "outputs": [],
   "source": [
    "optimizer = tf.keras.optimizers.Adam(learning_rate=2e-5)\n",
    "loss = tf.keras.losses.BinaryCrossentropy()\n",
    "# Compile the model\n",
    "model.compile(optimizer=optimizer, loss=loss)"
   ]
  },
  {
   "cell_type": "code",
   "execution_count": 145,
   "id": "1388921d-2fd7-4f94-a777-df2f6b00d59e",
   "metadata": {},
   "outputs": [
    {
     "data": {
      "text/plain": [
       "(700, 8)"
      ]
     },
     "execution_count": 145,
     "metadata": {},
     "output_type": "execute_result"
    }
   ],
   "source": [
    "train_labels.shape"
   ]
  },
  {
   "cell_type": "code",
   "execution_count": 147,
   "id": "98a975a8-21b8-4a9c-a8b6-cda4dde138f3",
   "metadata": {},
   "outputs": [
    {
     "name": "stdout",
     "output_type": "stream",
     "text": [
      "22/22 [==============================] - 864s 39s/step - loss: 0.7961\n"
     ]
    }
   ],
   "source": [
    "history = model.fit(\n",
    "    train_inputs_tuple,train_labels,\n",
    "    epochs=1,  \n",
    "    batch_size=32)"
   ]
  },
  {
   "cell_type": "code",
   "execution_count": null,
   "id": "9b1515eb-1d4f-4b95-a7ff-7e45dd6f843d",
   "metadata": {},
   "outputs": [],
   "source": [
    "train_predictions = model.predict(train_inputs_tuple)\n",
    "test_predictions = model.predict(test_inputs_tuple)\n",
    "\n",
    "threshold = 0.5\n",
    "\n",
    "# Calculate Hamming Loss for train and test separately\n",
    "train_hamming_loss = hamming_loss(train_labels, (train_predictions > threshold))\n",
    "test_hamming_loss = hamming_loss(test_labels, (test_predictions > threshold))\n",
    "\n",
    "print(\"Train Hamming Loss:\", train_hamming_loss)\n",
    "print(\"Test Hamming Loss:\", test_hamming_loss)\n"
   ]
  },
  {
   "cell_type": "code",
   "execution_count": null,
   "id": "9718b992-7252-4707-b495-1c8cb2b6d6ac",
   "metadata": {},
   "outputs": [],
   "source": [
    "# Step 5: Inference\n",
    "# You can use the trained model for inference on new text data\n",
    "input = input(\"Rentrez un nouveau tweet\")\n",
    "new_texts=pd.DataFrame[input]"
   ]
  },
  {
   "cell_type": "code",
   "execution_count": null,
   "id": "54adaca7-e274-432e-ba1c-69b3c041f76c",
   "metadata": {},
   "outputs": [],
   "source": [
    "new_texts_tokenized=tokenizer(new_text, add_special_tokens=True, truncation=True, max_length=200, padding='max_length', return_attention_mask=True, return_tensors='tf')\n",
    "\n",
    "new_prediction=model.predict(new_texts_tokenized)\n",
    "new_prediction"
   ]
  },
  {
   "cell_type": "code",
   "execution_count": null,
   "id": "aa86e42e-024a-4244-b437-62e5ee3de0a1",
   "metadata": {},
   "outputs": [],
   "source": [
    "# Make predictions on new text data\n",
    "new_predictions = model.predict([new_input_ids, new_attention_masks])"
   ]
  },
  {
   "cell_type": "code",
   "execution_count": 21,
   "id": "d0087019",
   "metadata": {},
   "outputs": [
    {
     "name": "stdout",
     "output_type": "stream",
     "text": [
      "/home/luades/code/irismarechal1997/moder_ia/notebook\r\n"
     ]
    }
   ],
   "source": [
    "!pwd"
   ]
  },
  {
   "cell_type": "code",
   "execution_count": 22,
   "id": "652b9c63-5247-4151-951b-5603affc9577",
   "metadata": {},
   "outputs": [],
   "source": [
    "data_extracted = pd.read_csv(\"../data/\"+\"labelling_dataset_v1.csv\")\n",
    "texts = data_extracted['text']\n",
    "labels = data_extracted.drop(['text'],axis=1)"
   ]
  },
  {
   "cell_type": "code",
   "execution_count": 23,
   "id": "b786cb30",
   "metadata": {},
   "outputs": [
    {
     "data": {
      "text/html": [
       "<div>\n",
       "<style scoped>\n",
       "    .dataframe tbody tr th:only-of-type {\n",
       "        vertical-align: middle;\n",
       "    }\n",
       "\n",
       "    .dataframe tbody tr th {\n",
       "        vertical-align: top;\n",
       "    }\n",
       "\n",
       "    .dataframe thead th {\n",
       "        text-align: right;\n",
       "    }\n",
       "</style>\n",
       "<table border=\"1\" class=\"dataframe\">\n",
       "  <thead>\n",
       "    <tr style=\"text-align: right;\">\n",
       "      <th></th>\n",
       "      <th>racism</th>\n",
       "      <th>religion</th>\n",
       "      <th>xenophobia</th>\n",
       "      <th>misogyny</th>\n",
       "      <th>transphobia</th>\n",
       "      <th>homophobia</th>\n",
       "      <th>text_processed</th>\n",
       "    </tr>\n",
       "  </thead>\n",
       "  <tbody>\n",
       "    <tr>\n",
       "      <th>0</th>\n",
       "      <td>1</td>\n",
       "      <td>0</td>\n",
       "      <td>0</td>\n",
       "      <td>0</td>\n",
       "      <td>0</td>\n",
       "      <td>0</td>\n",
       "      <td>yes indeed she sort of remind me of the elder ...</td>\n",
       "    </tr>\n",
       "    <tr>\n",
       "      <th>1</th>\n",
       "      <td>0</td>\n",
       "      <td>0</td>\n",
       "      <td>0</td>\n",
       "      <td>0</td>\n",
       "      <td>1</td>\n",
       "      <td>0</td>\n",
       "      <td>the trans women read this tweet right now be b...</td>\n",
       "    </tr>\n",
       "    <tr>\n",
       "      <th>2</th>\n",
       "      <td>0</td>\n",
       "      <td>0</td>\n",
       "      <td>1</td>\n",
       "      <td>0</td>\n",
       "      <td>0</td>\n",
       "      <td>0</td>\n",
       "      <td>question these broads who criticize america wh...</td>\n",
       "    </tr>\n",
       "    <tr>\n",
       "      <th>3</th>\n",
       "      <td>0</td>\n",
       "      <td>0</td>\n",
       "      <td>1</td>\n",
       "      <td>0</td>\n",
       "      <td>0</td>\n",
       "      <td>0</td>\n",
       "      <td>it be about time for all illegals to go back t...</td>\n",
       "    </tr>\n",
       "    <tr>\n",
       "      <th>4</th>\n",
       "      <td>0</td>\n",
       "      <td>0</td>\n",
       "      <td>0</td>\n",
       "      <td>1</td>\n",
       "      <td>0</td>\n",
       "      <td>0</td>\n",
       "      <td>for starters bend over the one in pink and kic...</td>\n",
       "    </tr>\n",
       "    <tr>\n",
       "      <th>...</th>\n",
       "      <td>...</td>\n",
       "      <td>...</td>\n",
       "      <td>...</td>\n",
       "      <td>...</td>\n",
       "      <td>...</td>\n",
       "      <td>...</td>\n",
       "      <td>...</td>\n",
       "    </tr>\n",
       "    <tr>\n",
       "      <th>56510</th>\n",
       "      <td>1</td>\n",
       "      <td>0</td>\n",
       "      <td>0</td>\n",
       "      <td>0</td>\n",
       "      <td>0</td>\n",
       "      <td>0</td>\n",
       "      <td>umar khalid sahela rashid kanhiyan kumar जैसे ...</td>\n",
       "    </tr>\n",
       "    <tr>\n",
       "      <th>56511</th>\n",
       "      <td>1</td>\n",
       "      <td>1</td>\n",
       "      <td>0</td>\n",
       "      <td>0</td>\n",
       "      <td>0</td>\n",
       "      <td>0</td>\n",
       "      <td>abeshinzo realdonaldtrump shinzoabe 独裁者は行きますこれ...</td>\n",
       "    </tr>\n",
       "    <tr>\n",
       "      <th>56512</th>\n",
       "      <td>1</td>\n",
       "      <td>1</td>\n",
       "      <td>0</td>\n",
       "      <td>0</td>\n",
       "      <td>0</td>\n",
       "      <td>0</td>\n",
       "      <td>millions of yemenis participate in mass rally ...</td>\n",
       "    </tr>\n",
       "    <tr>\n",
       "      <th>56513</th>\n",
       "      <td>0</td>\n",
       "      <td>1</td>\n",
       "      <td>1</td>\n",
       "      <td>0</td>\n",
       "      <td>0</td>\n",
       "      <td>0</td>\n",
       "      <td>abeshinzo realdonaldtrump shinzoabe 独裁者は行きますこれ...</td>\n",
       "    </tr>\n",
       "    <tr>\n",
       "      <th>56514</th>\n",
       "      <td>0</td>\n",
       "      <td>1</td>\n",
       "      <td>0</td>\n",
       "      <td>0</td>\n",
       "      <td>0</td>\n",
       "      <td>0</td>\n",
       "      <td>millions of yemenis participate in mass rally ...</td>\n",
       "    </tr>\n",
       "  </tbody>\n",
       "</table>\n",
       "<p>56515 rows × 7 columns</p>\n",
       "</div>"
      ],
      "text/plain": [
       "       racism  religion  xenophobia  misogyny  transphobia  homophobia  \\\n",
       "0           1         0           0         0            0           0   \n",
       "1           0         0           0         0            1           0   \n",
       "2           0         0           1         0            0           0   \n",
       "3           0         0           1         0            0           0   \n",
       "4           0         0           0         1            0           0   \n",
       "...       ...       ...         ...       ...          ...         ...   \n",
       "56510       1         0           0         0            0           0   \n",
       "56511       1         1           0         0            0           0   \n",
       "56512       1         1           0         0            0           0   \n",
       "56513       0         1           1         0            0           0   \n",
       "56514       0         1           0         0            0           0   \n",
       "\n",
       "                                          text_processed  \n",
       "0      yes indeed she sort of remind me of the elder ...  \n",
       "1      the trans women read this tweet right now be b...  \n",
       "2      question these broads who criticize america wh...  \n",
       "3      it be about time for all illegals to go back t...  \n",
       "4      for starters bend over the one in pink and kic...  \n",
       "...                                                  ...  \n",
       "56510  umar khalid sahela rashid kanhiyan kumar जैसे ...  \n",
       "56511  abeshinzo realdonaldtrump shinzoabe 独裁者は行きますこれ...  \n",
       "56512  millions of yemenis participate in mass rally ...  \n",
       "56513  abeshinzo realdonaldtrump shinzoabe 独裁者は行きますこれ...  \n",
       "56514  millions of yemenis participate in mass rally ...  \n",
       "\n",
       "[56515 rows x 7 columns]"
      ]
     },
     "execution_count": 23,
     "metadata": {},
     "output_type": "execute_result"
    }
   ],
   "source": [
    "labels"
   ]
  },
  {
   "cell_type": "code",
   "execution_count": null,
   "id": "cb602051",
   "metadata": {},
   "outputs": [],
   "source": []
  }
 ],
 "metadata": {
  "kernelspec": {
   "display_name": "Python 3 (ipykernel)",
   "language": "python",
   "name": "python3"
  },
  "language_info": {
   "codemirror_mode": {
    "name": "ipython",
    "version": 3
   },
   "file_extension": ".py",
   "mimetype": "text/x-python",
   "name": "python",
   "nbconvert_exporter": "python",
   "pygments_lexer": "ipython3",
   "version": "3.10.6"
  },
  "toc": {
   "base_numbering": 1,
   "nav_menu": {},
   "number_sections": true,
   "sideBar": true,
   "skip_h1_title": false,
   "title_cell": "Table of Contents",
   "title_sidebar": "Contents",
   "toc_cell": false,
   "toc_position": {},
   "toc_section_display": true,
   "toc_window_display": false
  }
 },
 "nbformat": 4,
 "nbformat_minor": 5
}
