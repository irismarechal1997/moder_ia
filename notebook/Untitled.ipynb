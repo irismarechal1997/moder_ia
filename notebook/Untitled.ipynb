{
 "cells": [
  {
   "cell_type": "code",
   "execution_count": 1,
   "id": "eeb522ec-a995-43cb-9397-d32da102391b",
   "metadata": {},
   "outputs": [
    {
     "name": "stderr",
     "output_type": "stream",
     "text": [
      "2023-09-19 14:37:28.964953: I tensorflow/tsl/cuda/cudart_stub.cc:28] Could not find cuda drivers on your machine, GPU will not be used.\n",
      "2023-09-19 14:37:29.090350: I tensorflow/tsl/cuda/cudart_stub.cc:28] Could not find cuda drivers on your machine, GPU will not be used.\n",
      "2023-09-19 14:37:29.092874: I tensorflow/core/platform/cpu_feature_guard.cc:182] This TensorFlow binary is optimized to use available CPU instructions in performance-critical operations.\n",
      "To enable the following instructions: AVX2 FMA, in other operations, rebuild TensorFlow with the appropriate compiler flags.\n",
      "2023-09-19 14:37:30.096295: W tensorflow/compiler/tf2tensorrt/utils/py_utils.cc:38] TF-TRT Warning: Could not find TensorRT\n"
     ]
    }
   ],
   "source": [
    "from sklearn.model_selection import train_test_split\n",
    "import pandas as pd\n",
    "import numpy as np\n",
    "#import tensorflow as tf\n",
    "#import keras\n",
    "from tensorflow.keras.utils import pad_sequences\n",
    "\n",
    "from tensorflow.keras.preprocessing.text import Tokenizer\n",
    "from tensorflow.keras.preprocessing.text import text_to_word_sequence\n",
    "from keras.preprocessing.text import Tokenizer\n",
    "# import tensorflow_datasets as tfds\n",
    "from sklearn.model_selection import train_test_split\n",
    "from tensorflow.keras import layers\n",
    "from tensorflow.keras.layers import Dense\n",
    "from tensorflow.keras.models import Sequential\n",
    "from tensorflow.keras.callbacks import EarlyStopping\n"
   ]
  },
  {
   "cell_type": "code",
   "execution_count": 3,
   "id": "aff203d5-87db-4dbb-9538-ddf6a277fd76",
   "metadata": {},
   "outputs": [],
   "source": [
    "def tokenizer(df: pd.DataFrame): \n",
    "    data_processed = pd.read_csv(\"/home/mariannettrd/code/irismarechal1997/moder_ia/data/processed_dataset_v1.csv\")\n",
    "    X = data_processed[\"text\"]\n",
    "    y = data_processed[\"offensive\"]\n",
    "    \n",
    "    X_train, X_test, y_train, y_test = train_test_split(X, y, test_size=0.25, random_state=3)    \n",
    "    tk = Tokenizer()\n",
    "    tk.fit_on_texts(X_train) \n",
    "    X_tokenized = tk.texts_to_sequences(df)\n",
    "    return X_tokenized\n",
    "\n",
    "\n"
   ]
  },
  {
   "cell_type": "code",
   "execution_count": 4,
   "id": "dc7834ed-bcaa-44c2-b299-a9092d7133b0",
   "metadata": {},
   "outputs": [],
   "source": [
    "\n",
    "def padding(X: pd.DataFrame):\n",
    "     X_train_pad = pad_sequences(X, dtype='float32', padding='post')\n",
    "     return X_train_pad"
   ]
  },
  {
   "cell_type": "code",
   "execution_count": 5,
   "id": "ac77f1be-c32d-4aec-b155-a3d5e9554cba",
   "metadata": {},
   "outputs": [],
   "source": [
    "def LSTM_model_test(processed=True):\n",
    "\n",
    "    data_processed = pd.read_csv(\"/home/mariannettrd/code/irismarechal1997/moder_ia/data/processed_dataset_v1.csv\")\n",
    "\n",
    "    if processed :\n",
    "        X = data_processed[\"text\"]\n",
    "        y = data_processed[\"offensive\"]\n",
    "        X_train, X_test, y_train, y_test = train_test_split(X, y, test_size=0.25, random_state=3)\n",
    "    else :\n",
    "        X = data_processed[\"text_processed\"]\n",
    "        y = data_processed[\"offensive\"]\n",
    "        X_train, X_test, y_train, y_test = train_test_split(X, y, test_size=0.25, random_state=3)\n",
    "\n",
    "    ### Let's tokenize the vocabulary\n",
    "    tk = Tokenizer()\n",
    "    tk.fit_on_texts(X_train)\n",
    "    vocab_size = len(tk.word_index)\n",
    "\n",
    "    # We apply the tokenization to the train and test set\n",
    "    X_train_token = tokenizer(X_train)\n",
    "    X_test_token = tokenizer(X_test)\n",
    "\n",
    "    X_train_pad = padding(X_train_token, dtype='float32', padding='post')\n",
    "    X_test_pad = padding(X_test_token, dtype='float32', padding='post')\n",
    "\n",
    "    ### Let's build the neural network now\n",
    "\n",
    "    # Size of your embedding space = size of the vector representing each word\n",
    "    embedding_size = 50\n",
    "\n",
    "    model = Sequential()\n",
    "    model.add(layers.Embedding(\n",
    "        input_dim=vocab_size+1, # size of the input, impacting the number of weights in the linear combinations of the neurons of the first layer\n",
    "        output_dim=embedding_size, # 100\n",
    "        mask_zero=True, # Built-in masking layer\n",
    "    ))\n",
    "\n",
    "    model.add(layers.LSTM(20, return_sequences=True, activation=\"tanh\"))\n",
    "    model.add(layers.LSTM(20, activation=\"tanh\"))\n",
    "    model.add(layers.Dense(1, activation=\"sigmoid\"))\n",
    "    model.summary()\n",
    "\n",
    "    model.compile(loss='binary_crossentropy',\n",
    "                optimizer='rmsprop',\n",
    "                metrics=['accuracy'])\n",
    "\n",
    "\n",
    "    es = EarlyStopping(patience=4, restore_best_weights=True)\n",
    "\n",
    "    model.fit(X_train_pad, y_train,\n",
    "            epochs=5,\n",
    "            batch_size=128,\n",
    "            callbacks=[es]\n",
    "            )\n",
    "    res = model.evaluate(X_test_pad, y_test)\n",
    "    print(f'The accuracy evaluated on the test set is of {res[1]*100:.3f}%')\n",
    "    return model"
   ]
  },
  {
   "cell_type": "code",
   "execution_count": null,
   "id": "f34f7d3c-1447-4808-9f14-ce1de5b94fab",
   "metadata": {},
   "outputs": [],
   "source": []
  }
 ],
 "metadata": {
  "kernelspec": {
   "display_name": "Python 3 (ipykernel)",
   "language": "python",
   "name": "python3"
  },
  "language_info": {
   "codemirror_mode": {
    "name": "ipython",
    "version": 3
   },
   "file_extension": ".py",
   "mimetype": "text/x-python",
   "name": "python",
   "nbconvert_exporter": "python",
   "pygments_lexer": "ipython3",
   "version": "3.10.6"
  }
 },
 "nbformat": 4,
 "nbformat_minor": 5
}
