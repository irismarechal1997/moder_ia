{
 "cells": [
  {
   "cell_type": "code",
   "execution_count": 1,
   "id": "1fe64c73-266a-41b2-b5d2-f18e3733c16a",
   "metadata": {},
   "outputs": [
    {
     "data": {
      "text/plain": [
       "['/home/mariannettrd/code/irismarechal1997/moder_ia/notebook',\n",
       " '/home/mariannettrd/code/MTTRD/data-context-and-setup',\n",
       " '/home/mariannettrd/code/irismarechal1997/moder_ia/notebook',\n",
       " '/home/mariannettrd/.pyenv/versions/3.10.6/lib/python310.zip',\n",
       " '/home/mariannettrd/.pyenv/versions/3.10.6/lib/python3.10',\n",
       " '/home/mariannettrd/.pyenv/versions/3.10.6/lib/python3.10/lib-dynload',\n",
       " '',\n",
       " '/home/mariannettrd/.pyenv/versions/3.10.6/envs/moder_ia/lib/python3.10/site-packages',\n",
       " '/home/mariannettrd/code/irismarechal1997/moder_ia']"
      ]
     },
     "execution_count": 1,
     "metadata": {},
     "output_type": "execute_result"
    }
   ],
   "source": [
    "import sys\n",
    "sys.path\n"
   ]
  },
  {
   "cell_type": "code",
   "execution_count": null,
   "id": "b28f3480-621b-4fb0-a8a7-652038d6ff83",
   "metadata": {},
   "outputs": [],
   "source": []
  }
 ],
 "metadata": {
  "kernelspec": {
   "display_name": "Python 3 (ipykernel)",
   "language": "python",
   "name": "python3"
  },
  "language_info": {
   "codemirror_mode": {
    "name": "ipython",
    "version": 3
   },
   "file_extension": ".py",
   "mimetype": "text/x-python",
   "name": "python",
   "nbconvert_exporter": "python",
   "pygments_lexer": "ipython3",
   "version": "3.10.6"
  }
 },
 "nbformat": 4,
 "nbformat_minor": 5
}
